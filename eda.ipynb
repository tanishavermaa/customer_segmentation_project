{
 "cells": [
  {
   "cell_type": "code",
   "execution_count": 1,
   "metadata": {},
   "outputs": [],
   "source": [
    "import pandas as pd\n",
    "import numpy as np\n",
    "import seaborn as sns\n",
    "import matplotlib.pyplot as plt\n",
    "import matplotlib_inline"
   ]
  },
  {
   "cell_type": "code",
   "execution_count": 2,
   "metadata": {},
   "outputs": [
    {
     "data": {
      "text/html": [
       "<div>\n",
       "<style scoped>\n",
       "    .dataframe tbody tr th:only-of-type {\n",
       "        vertical-align: middle;\n",
       "    }\n",
       "\n",
       "    .dataframe tbody tr th {\n",
       "        vertical-align: top;\n",
       "    }\n",
       "\n",
       "    .dataframe thead th {\n",
       "        text-align: right;\n",
       "    }\n",
       "</style>\n",
       "<table border=\"1\" class=\"dataframe\">\n",
       "  <thead>\n",
       "    <tr style=\"text-align: right;\">\n",
       "      <th></th>\n",
       "      <th>InvoiceNo</th>\n",
       "      <th>StockCode</th>\n",
       "      <th>Description</th>\n",
       "      <th>Quantity</th>\n",
       "      <th>InvoiceDate</th>\n",
       "      <th>UnitPrice</th>\n",
       "      <th>CustomerID</th>\n",
       "      <th>Country</th>\n",
       "    </tr>\n",
       "  </thead>\n",
       "  <tbody>\n",
       "    <tr>\n",
       "      <th>0</th>\n",
       "      <td>536365</td>\n",
       "      <td>85123A</td>\n",
       "      <td>WHITE HANGING HEART T-LIGHT HOLDER</td>\n",
       "      <td>6</td>\n",
       "      <td>2010-12-01 08:26:00</td>\n",
       "      <td>2.55</td>\n",
       "      <td>17850.0</td>\n",
       "      <td>United Kingdom</td>\n",
       "    </tr>\n",
       "    <tr>\n",
       "      <th>1</th>\n",
       "      <td>536365</td>\n",
       "      <td>71053</td>\n",
       "      <td>WHITE METAL LANTERN</td>\n",
       "      <td>6</td>\n",
       "      <td>2010-12-01 08:26:00</td>\n",
       "      <td>3.39</td>\n",
       "      <td>17850.0</td>\n",
       "      <td>United Kingdom</td>\n",
       "    </tr>\n",
       "    <tr>\n",
       "      <th>2</th>\n",
       "      <td>536365</td>\n",
       "      <td>84406B</td>\n",
       "      <td>CREAM CUPID HEARTS COAT HANGER</td>\n",
       "      <td>8</td>\n",
       "      <td>2010-12-01 08:26:00</td>\n",
       "      <td>2.75</td>\n",
       "      <td>17850.0</td>\n",
       "      <td>United Kingdom</td>\n",
       "    </tr>\n",
       "    <tr>\n",
       "      <th>3</th>\n",
       "      <td>536365</td>\n",
       "      <td>84029G</td>\n",
       "      <td>KNITTED UNION FLAG HOT WATER BOTTLE</td>\n",
       "      <td>6</td>\n",
       "      <td>2010-12-01 08:26:00</td>\n",
       "      <td>3.39</td>\n",
       "      <td>17850.0</td>\n",
       "      <td>United Kingdom</td>\n",
       "    </tr>\n",
       "    <tr>\n",
       "      <th>4</th>\n",
       "      <td>536365</td>\n",
       "      <td>84029E</td>\n",
       "      <td>RED WOOLLY HOTTIE WHITE HEART.</td>\n",
       "      <td>6</td>\n",
       "      <td>2010-12-01 08:26:00</td>\n",
       "      <td>3.39</td>\n",
       "      <td>17850.0</td>\n",
       "      <td>United Kingdom</td>\n",
       "    </tr>\n",
       "  </tbody>\n",
       "</table>\n",
       "</div>"
      ],
      "text/plain": [
       "  InvoiceNo StockCode                          Description  Quantity  \\\n",
       "0    536365    85123A   WHITE HANGING HEART T-LIGHT HOLDER         6   \n",
       "1    536365     71053                  WHITE METAL LANTERN         6   \n",
       "2    536365    84406B       CREAM CUPID HEARTS COAT HANGER         8   \n",
       "3    536365    84029G  KNITTED UNION FLAG HOT WATER BOTTLE         6   \n",
       "4    536365    84029E       RED WOOLLY HOTTIE WHITE HEART.         6   \n",
       "\n",
       "          InvoiceDate  UnitPrice  CustomerID         Country  \n",
       "0 2010-12-01 08:26:00       2.55     17850.0  United Kingdom  \n",
       "1 2010-12-01 08:26:00       3.39     17850.0  United Kingdom  \n",
       "2 2010-12-01 08:26:00       2.75     17850.0  United Kingdom  \n",
       "3 2010-12-01 08:26:00       3.39     17850.0  United Kingdom  \n",
       "4 2010-12-01 08:26:00       3.39     17850.0  United Kingdom  "
      ]
     },
     "execution_count": 2,
     "metadata": {},
     "output_type": "execute_result"
    }
   ],
   "source": [
    "df=pd.read_excel(\"Online_Retail.xlsx\")\n",
    "df.head()"
   ]
  },
  {
   "cell_type": "code",
   "execution_count": 3,
   "metadata": {},
   "outputs": [
    {
     "data": {
      "text/html": [
       "<div>\n",
       "<style scoped>\n",
       "    .dataframe tbody tr th:only-of-type {\n",
       "        vertical-align: middle;\n",
       "    }\n",
       "\n",
       "    .dataframe tbody tr th {\n",
       "        vertical-align: top;\n",
       "    }\n",
       "\n",
       "    .dataframe thead th {\n",
       "        text-align: right;\n",
       "    }\n",
       "</style>\n",
       "<table border=\"1\" class=\"dataframe\">\n",
       "  <thead>\n",
       "    <tr style=\"text-align: right;\">\n",
       "      <th></th>\n",
       "      <th>InvoiceNo</th>\n",
       "      <th>StockCode</th>\n",
       "      <th>Description</th>\n",
       "      <th>Quantity</th>\n",
       "      <th>InvoiceDate</th>\n",
       "      <th>UnitPrice</th>\n",
       "      <th>CustomerID</th>\n",
       "      <th>Country</th>\n",
       "    </tr>\n",
       "  </thead>\n",
       "  <tbody>\n",
       "    <tr>\n",
       "      <th>541904</th>\n",
       "      <td>581587</td>\n",
       "      <td>22613</td>\n",
       "      <td>PACK OF 20 SPACEBOY NAPKINS</td>\n",
       "      <td>12</td>\n",
       "      <td>2011-12-09 12:50:00</td>\n",
       "      <td>0.85</td>\n",
       "      <td>12680.0</td>\n",
       "      <td>France</td>\n",
       "    </tr>\n",
       "    <tr>\n",
       "      <th>541905</th>\n",
       "      <td>581587</td>\n",
       "      <td>22899</td>\n",
       "      <td>CHILDREN'S APRON DOLLY GIRL</td>\n",
       "      <td>6</td>\n",
       "      <td>2011-12-09 12:50:00</td>\n",
       "      <td>2.10</td>\n",
       "      <td>12680.0</td>\n",
       "      <td>France</td>\n",
       "    </tr>\n",
       "    <tr>\n",
       "      <th>541906</th>\n",
       "      <td>581587</td>\n",
       "      <td>23254</td>\n",
       "      <td>CHILDRENS CUTLERY DOLLY GIRL</td>\n",
       "      <td>4</td>\n",
       "      <td>2011-12-09 12:50:00</td>\n",
       "      <td>4.15</td>\n",
       "      <td>12680.0</td>\n",
       "      <td>France</td>\n",
       "    </tr>\n",
       "    <tr>\n",
       "      <th>541907</th>\n",
       "      <td>581587</td>\n",
       "      <td>23255</td>\n",
       "      <td>CHILDRENS CUTLERY CIRCUS PARADE</td>\n",
       "      <td>4</td>\n",
       "      <td>2011-12-09 12:50:00</td>\n",
       "      <td>4.15</td>\n",
       "      <td>12680.0</td>\n",
       "      <td>France</td>\n",
       "    </tr>\n",
       "    <tr>\n",
       "      <th>541908</th>\n",
       "      <td>581587</td>\n",
       "      <td>22138</td>\n",
       "      <td>BAKING SET 9 PIECE RETROSPOT</td>\n",
       "      <td>3</td>\n",
       "      <td>2011-12-09 12:50:00</td>\n",
       "      <td>4.95</td>\n",
       "      <td>12680.0</td>\n",
       "      <td>France</td>\n",
       "    </tr>\n",
       "  </tbody>\n",
       "</table>\n",
       "</div>"
      ],
      "text/plain": [
       "       InvoiceNo StockCode                      Description  Quantity  \\\n",
       "541904    581587     22613      PACK OF 20 SPACEBOY NAPKINS        12   \n",
       "541905    581587     22899     CHILDREN'S APRON DOLLY GIRL          6   \n",
       "541906    581587     23254    CHILDRENS CUTLERY DOLLY GIRL          4   \n",
       "541907    581587     23255  CHILDRENS CUTLERY CIRCUS PARADE         4   \n",
       "541908    581587     22138    BAKING SET 9 PIECE RETROSPOT          3   \n",
       "\n",
       "               InvoiceDate  UnitPrice  CustomerID Country  \n",
       "541904 2011-12-09 12:50:00       0.85     12680.0  France  \n",
       "541905 2011-12-09 12:50:00       2.10     12680.0  France  \n",
       "541906 2011-12-09 12:50:00       4.15     12680.0  France  \n",
       "541907 2011-12-09 12:50:00       4.15     12680.0  France  \n",
       "541908 2011-12-09 12:50:00       4.95     12680.0  France  "
      ]
     },
     "execution_count": 3,
     "metadata": {},
     "output_type": "execute_result"
    }
   ],
   "source": [
    "df.tail()"
   ]
  },
  {
   "cell_type": "code",
   "execution_count": 4,
   "metadata": {},
   "outputs": [
    {
     "name": "stdout",
     "output_type": "stream",
     "text": [
      "<class 'pandas.core.frame.DataFrame'>\n",
      "RangeIndex: 541909 entries, 0 to 541908\n",
      "Data columns (total 8 columns):\n",
      " #   Column       Non-Null Count   Dtype         \n",
      "---  ------       --------------   -----         \n",
      " 0   InvoiceNo    541909 non-null  object        \n",
      " 1   StockCode    541909 non-null  object        \n",
      " 2   Description  540455 non-null  object        \n",
      " 3   Quantity     541909 non-null  int64         \n",
      " 4   InvoiceDate  541909 non-null  datetime64[ns]\n",
      " 5   UnitPrice    541909 non-null  float64       \n",
      " 6   CustomerID   406829 non-null  float64       \n",
      " 7   Country      541909 non-null  object        \n",
      "dtypes: datetime64[ns](1), float64(2), int64(1), object(4)\n",
      "memory usage: 33.1+ MB\n"
     ]
    }
   ],
   "source": [
    "df.info()"
   ]
  },
  {
   "cell_type": "markdown",
   "metadata": {},
   "source": [
    "This dataset contains approximately 5.4 lac entries."
   ]
  },
  {
   "cell_type": "markdown",
   "metadata": {},
   "source": [
    "Dataset has 8 features in which 4 features are of categorical type, 1 feature is integer type , 2 floating point features and a datetime feature."
   ]
  },
  {
   "cell_type": "code",
   "execution_count": 5,
   "metadata": {},
   "outputs": [
    {
     "data": {
      "text/html": [
       "<div>\n",
       "<style scoped>\n",
       "    .dataframe tbody tr th:only-of-type {\n",
       "        vertical-align: middle;\n",
       "    }\n",
       "\n",
       "    .dataframe tbody tr th {\n",
       "        vertical-align: top;\n",
       "    }\n",
       "\n",
       "    .dataframe thead th {\n",
       "        text-align: right;\n",
       "    }\n",
       "</style>\n",
       "<table border=\"1\" class=\"dataframe\">\n",
       "  <thead>\n",
       "    <tr style=\"text-align: right;\">\n",
       "      <th></th>\n",
       "      <th>Quantity</th>\n",
       "      <th>InvoiceDate</th>\n",
       "      <th>UnitPrice</th>\n",
       "      <th>CustomerID</th>\n",
       "    </tr>\n",
       "  </thead>\n",
       "  <tbody>\n",
       "    <tr>\n",
       "      <th>count</th>\n",
       "      <td>541909.000000</td>\n",
       "      <td>541909</td>\n",
       "      <td>541909.000000</td>\n",
       "      <td>406829.000000</td>\n",
       "    </tr>\n",
       "    <tr>\n",
       "      <th>mean</th>\n",
       "      <td>9.552250</td>\n",
       "      <td>2011-07-04 13:34:57.156386048</td>\n",
       "      <td>4.611114</td>\n",
       "      <td>15287.690570</td>\n",
       "    </tr>\n",
       "    <tr>\n",
       "      <th>min</th>\n",
       "      <td>-80995.000000</td>\n",
       "      <td>2010-12-01 08:26:00</td>\n",
       "      <td>-11062.060000</td>\n",
       "      <td>12346.000000</td>\n",
       "    </tr>\n",
       "    <tr>\n",
       "      <th>25%</th>\n",
       "      <td>1.000000</td>\n",
       "      <td>2011-03-28 11:34:00</td>\n",
       "      <td>1.250000</td>\n",
       "      <td>13953.000000</td>\n",
       "    </tr>\n",
       "    <tr>\n",
       "      <th>50%</th>\n",
       "      <td>3.000000</td>\n",
       "      <td>2011-07-19 17:17:00</td>\n",
       "      <td>2.080000</td>\n",
       "      <td>15152.000000</td>\n",
       "    </tr>\n",
       "    <tr>\n",
       "      <th>75%</th>\n",
       "      <td>10.000000</td>\n",
       "      <td>2011-10-19 11:27:00</td>\n",
       "      <td>4.130000</td>\n",
       "      <td>16791.000000</td>\n",
       "    </tr>\n",
       "    <tr>\n",
       "      <th>max</th>\n",
       "      <td>80995.000000</td>\n",
       "      <td>2011-12-09 12:50:00</td>\n",
       "      <td>38970.000000</td>\n",
       "      <td>18287.000000</td>\n",
       "    </tr>\n",
       "    <tr>\n",
       "      <th>std</th>\n",
       "      <td>218.081158</td>\n",
       "      <td>NaN</td>\n",
       "      <td>96.759853</td>\n",
       "      <td>1713.600303</td>\n",
       "    </tr>\n",
       "  </tbody>\n",
       "</table>\n",
       "</div>"
      ],
      "text/plain": [
       "            Quantity                    InvoiceDate      UnitPrice  \\\n",
       "count  541909.000000                         541909  541909.000000   \n",
       "mean        9.552250  2011-07-04 13:34:57.156386048       4.611114   \n",
       "min    -80995.000000            2010-12-01 08:26:00  -11062.060000   \n",
       "25%         1.000000            2011-03-28 11:34:00       1.250000   \n",
       "50%         3.000000            2011-07-19 17:17:00       2.080000   \n",
       "75%        10.000000            2011-10-19 11:27:00       4.130000   \n",
       "max     80995.000000            2011-12-09 12:50:00   38970.000000   \n",
       "std       218.081158                            NaN      96.759853   \n",
       "\n",
       "          CustomerID  \n",
       "count  406829.000000  \n",
       "mean    15287.690570  \n",
       "min     12346.000000  \n",
       "25%     13953.000000  \n",
       "50%     15152.000000  \n",
       "75%     16791.000000  \n",
       "max     18287.000000  \n",
       "std      1713.600303  "
      ]
     },
     "execution_count": 5,
     "metadata": {},
     "output_type": "execute_result"
    }
   ],
   "source": [
    "df.describe()"
   ]
  },
  {
   "cell_type": "code",
   "execution_count": 6,
   "metadata": {},
   "outputs": [
    {
     "data": {
      "text/plain": [
       "5268"
      ]
     },
     "execution_count": 6,
     "metadata": {},
     "output_type": "execute_result"
    }
   ],
   "source": [
    "df.duplicated().sum()"
   ]
  },
  {
   "cell_type": "markdown",
   "metadata": {},
   "source": [
    "This dataset has 5268 duplicated values."
   ]
  },
  {
   "cell_type": "code",
   "execution_count": 7,
   "metadata": {},
   "outputs": [
    {
     "data": {
      "text/plain": [
       "Index(['InvoiceNo', 'StockCode', 'Description', 'Quantity', 'InvoiceDate',\n",
       "       'UnitPrice', 'CustomerID', 'Country'],\n",
       "      dtype='object')"
      ]
     },
     "execution_count": 7,
     "metadata": {},
     "output_type": "execute_result"
    }
   ],
   "source": [
    "df.columns"
   ]
  },
  {
   "cell_type": "code",
   "execution_count": 8,
   "metadata": {},
   "outputs": [
    {
     "data": {
      "text/plain": [
       "array([536365, 536366, 536367, ..., 581585, 581586, 581587], dtype=object)"
      ]
     },
     "execution_count": 8,
     "metadata": {},
     "output_type": "execute_result"
    }
   ],
   "source": [
    "df[\"InvoiceNo\"].unique()"
   ]
  },
  {
   "cell_type": "code",
   "execution_count": 9,
   "metadata": {},
   "outputs": [
    {
     "data": {
      "text/plain": [
       "4070"
      ]
     },
     "execution_count": 9,
     "metadata": {},
     "output_type": "execute_result"
    }
   ],
   "source": [
    "\n",
    "a=df[\"StockCode\"].unique()\n",
    "len(a)"
   ]
  },
  {
   "cell_type": "code",
   "execution_count": 10,
   "metadata": {},
   "outputs": [
    {
     "data": {
      "text/plain": [
       "4224"
      ]
     },
     "execution_count": 10,
     "metadata": {},
     "output_type": "execute_result"
    }
   ],
   "source": [
    "b=df[\"Description\"].unique()\n",
    "len(b)"
   ]
  },
  {
   "cell_type": "code",
   "execution_count": 11,
   "metadata": {},
   "outputs": [
    {
     "data": {
      "text/plain": [
       "array([     6,      8,      2,     32,      3,      4,     24,     12,\n",
       "           48,     18,     20,     36,     80,     64,     10,    120,\n",
       "           96,     23,      5,      1,     -1,     50,     40,    100,\n",
       "          192,    432,    144,    288,    -12,    -24,     16,      9,\n",
       "          128,     25,     30,     28,      7,     56,     72,    200,\n",
       "          600,    480,     -6,     14,     -2,     11,     33,     13,\n",
       "           -4,     -5,     -7,     -3,     70,    252,     60,    216,\n",
       "          384,    -10,     27,     15,     22,     19,     17,     21,\n",
       "           34,     47,    108,     52,  -9360,    -38,     75,    270,\n",
       "           42,    240,     90,    320,   1824,    204,     69,    -36,\n",
       "         -192,   -144,    160,   2880,   1400,     39,    -48,    -50,\n",
       "           26,   1440,     31,     82,     78,     97,     98,     35,\n",
       "           57,    -20,    110,    -22,    -30,    -70,   -130,    -80,\n",
       "         -120,    -40,    -25,    -14,    -15,    -69,   -140,   -320,\n",
       "           -8,    720,    156,    324,     38,     37,     49,     95,\n",
       "           -9,    -11,     29,     41,    -72,    -35,    -21,    -43,\n",
       "          -19,    -18,    -44,    402,    378,    150,    300,     54,\n",
       "          104,     67,    258,     66,     44,     55,     46,     99,\n",
       "           61,    408,    972,    208,   1008,   1000,    -77,   1488,\n",
       "          250,   1394,    400,   -223,   -150,    -13,    -33,   -723,\n",
       "         -177,     79,     84,    -32,   -100,    -28,    272,   -145,\n",
       "          -47,    -96,    113,     45,    106,     68,    267,    115,\n",
       "           65,   1728,    -60,    -16,     53,   -240,     76,    460,\n",
       "           71,     43,    213,     58,    576,   2400,    500,    180,\n",
       "         -300,   -500,    -23,    752,    960,   1296,    210,    172,\n",
       "          215,    129,    138,    116,    135,    197,   -106,    -54,\n",
       "          -17,   -939,    147,    168,    256,   -201,    -53,    -29,\n",
       "        -2600,   -990,   -290,    -45,    860,   1010,   1356,   1284,\n",
       "          186,    114,    360,   1930,   2000,   3114,   1300,    670,\n",
       "          111,    211,     59,   -310,    -61,    -41,    176,    648,\n",
       "           62,  74215, -74215,    -64,    -84,     89,  -1400,     73,\n",
       "          -57,    112,    456,    -59,    -31,   5568,   2560,    136,\n",
       "          900,   -600,    -42,    -94,   -207,    -52,    130,   -206,\n",
       "         2592,    420,    800,    101,   1200,    864,   -217,     94,\n",
       "        -1430,   1287,   -162,   -230,   -173,   -390,   -234,    504,\n",
       "          123,    118,    -76,   -200,   1056,   1500,    280,    407,\n",
       "          141,    124,    -99,     51,    -92,   -741,   3906,   -400,\n",
       "         -114,    102,   1152,    -88,    198,    117,     86,   -720,\n",
       "          125,    -86,   -391,    -87,   -278,    140,    228,   -154,\n",
       "        -3000,     81,   -675,   -210,   -345,   -975,  -1200,  -1121,\n",
       "          -27,   -541,  -1277,   -197,   3000,  -1100,    -63,  -5368,\n",
       "          219,   -259,    232,    -82,   -178,    170,   -110,    768,\n",
       "           88,    700,   -102,   2160,   -323,   -450,   -232,    -83,\n",
       "         -153,   -524,  -2472,    -49,   -105,    342,    304,    167,\n",
       "          -34,    640,    175,    220,     74,     93,    164,    163,\n",
       "           63,    637,    122,    158,    165,    350,    -46,    -75,\n",
       "         -690,    -39,    -66,     83,    312,   -180,    392,   -624,\n",
       "         -194,    -26,    -62,    -37,    -91,   -139,   -158,  -1479,\n",
       "          -55,   -576,   -750,    330,    151,    -93,   -432,    -58,\n",
       "        -1092,   -670,  -1300,  -1930,  -2000,  -3114,    462,    -65,\n",
       "          -68,    492,   -620,    273,    -90,   -170,  -1512,    -51,\n",
       "           85,    -56,   -160,   -360,    105,   -960,  -2376,   1350,\n",
       "          428,  -1350,    336,   -786,   -590,   -168,   -101,    -71,\n",
       "          132,   -413,   -664,    227,   2700,    222,    246,    906,\n",
       "          756,    888,    552,    -97,    224,    738,    608,   -212,\n",
       "         4300,    146,    143,    276,   -125,   -116,   -108,   4000,\n",
       "         -304,   -272,  -1206,    -95,   1600,    323,   -161,   -472,\n",
       "         -618,   -204,   1515,  -1515,  -9058,  -9600,    660,   -420,\n",
       "         -126,   -220,   -271,  -1440,    264,    188,    588,    612,\n",
       "          152,   -324,   -480,   -164,    -78,   -118,    430,  -1681,\n",
       "           87,    155,    701,    828,    540,    696,    560,   -250,\n",
       "         -408,   -179,    121,   -124,    512,   -251,  -3100,   3100,\n",
       "         -169,    126,    291,   3186,  -2834,   -109,    109,   -121,\n",
       "         -530,   -227,    261,   -346,    352,    142,    107,   -188,\n",
       "        -1060,   -342,   -288,    348,   1900,    157,   -343,   -455,\n",
       "          425,    968,    684,    824,   -828,   -701,    196,    248,\n",
       "          410,    236,    230,   -156,   -553,    145,    448,    245,\n",
       "         -252,   -334,   -318,   -113,   -115,    171,   -242,    840,\n",
       "         -967,   -203,  -3167,   -443,  -1897,    225,   -434,    750,\n",
       "         -682,   -484,    682,    344,   -635,   -117,  -3667,    450,\n",
       "          310,    494,   -384,     92,   1788,   -138,    624,    744,\n",
       "          416,    496,    396,    306,   1878,   1944,    666,    708,\n",
       "         1428,    852,   1412,    528,   -756,   -752,   -152,    -85,\n",
       "         -312,    -79,   -147,    -67,   -131,    183,   -209,   -186,\n",
       "         -231,   -129,   -458,   -275,  -2880,   1540,    672,   -800,\n",
       "         -430,   -380,    -74,   -840,  -1296,   -365,   -104,   -270,\n",
       "          -73,   -306,     91,    255,    468,   -468,   -111,   -184,\n",
       "         -103,   -335,   4800,   -112,  -1000,    912,   1992,    184,\n",
       "          148,   -657,  -1671,  -1158,  -2618,  -2003,   -674,  -4830,\n",
       "         -905,  -1128,    832,    992,    630,   1020,   2100,    162,\n",
       "        -1560,  -1284,    -81,    314,    370,    131,    133,    484,\n",
       "          149,    153,    257,    139,    137,    628,    179,   1820,\n",
       "          478,    335,    253,    242,    375,   -276,   -256,    281,\n",
       "          193,    181,    404,    244,    207,    199,   1130,    326,\n",
       "          654,    688,    268,    249,   -864,    234,  -1510,   -550,\n",
       "         -244,   -132,   -327,   -313,    279,   -398,   -280,    374,\n",
       "         -504,   -696,   -149,   -224,   -428,    212,   -267,   -175,\n",
       "        12540,    760,    -98,    774,   -151,   2040,  -1131,   -135,\n",
       "         1120,     77,   -900,    177,    490,    388,    620,   1404,\n",
       "         -155,   -355,   -337,  -1050,   -338,    205,   -235,    698,\n",
       "        80995, -80995], dtype=int64)"
      ]
     },
     "execution_count": 11,
     "metadata": {},
     "output_type": "execute_result"
    }
   ],
   "source": [
    "df[\"Quantity\"].unique()"
   ]
  },
  {
   "cell_type": "code",
   "execution_count": 12,
   "metadata": {},
   "outputs": [
    {
     "data": {
      "text/plain": [
       "<DatetimeArray>\n",
       "['2010-12-01 08:26:00', '2010-12-01 08:28:00', '2010-12-01 08:34:00',\n",
       " '2010-12-01 08:35:00', '2010-12-01 08:45:00', '2010-12-01 09:00:00',\n",
       " '2010-12-01 09:01:00', '2010-12-01 09:02:00', '2010-12-01 09:09:00',\n",
       " '2010-12-01 09:32:00',\n",
       " ...\n",
       " '2011-12-09 12:09:00', '2011-12-09 12:16:00', '2011-12-09 12:19:00',\n",
       " '2011-12-09 12:20:00', '2011-12-09 12:21:00', '2011-12-09 12:23:00',\n",
       " '2011-12-09 12:25:00', '2011-12-09 12:31:00', '2011-12-09 12:49:00',\n",
       " '2011-12-09 12:50:00']\n",
       "Length: 23260, dtype: datetime64[ns]"
      ]
     },
     "execution_count": 12,
     "metadata": {},
     "output_type": "execute_result"
    }
   ],
   "source": [
    "df[\"InvoiceDate\"].unique()"
   ]
  },
  {
   "cell_type": "code",
   "execution_count": 13,
   "metadata": {},
   "outputs": [
    {
     "data": {
      "text/plain": [
       "array([   2.55,    3.39,    2.75, ...,  933.17, 1714.17,  224.69])"
      ]
     },
     "execution_count": 13,
     "metadata": {},
     "output_type": "execute_result"
    }
   ],
   "source": [
    "df[\"UnitPrice\"].unique()"
   ]
  },
  {
   "cell_type": "code",
   "execution_count": 14,
   "metadata": {},
   "outputs": [
    {
     "data": {
      "text/plain": [
       "array([17850., 13047., 12583., ..., 13298., 14569., 12713.])"
      ]
     },
     "execution_count": 14,
     "metadata": {},
     "output_type": "execute_result"
    }
   ],
   "source": [
    "df[\"CustomerID\"].unique()"
   ]
  },
  {
   "cell_type": "code",
   "execution_count": 15,
   "metadata": {},
   "outputs": [
    {
     "data": {
      "text/plain": [
       "38"
      ]
     },
     "execution_count": 15,
     "metadata": {},
     "output_type": "execute_result"
    }
   ],
   "source": [
    "c=df[\"Country\"].unique()\n",
    "len(c)"
   ]
  },
  {
   "cell_type": "markdown",
   "metadata": {},
   "source": [
    "The unique values present in the dataset have been displayed in an array and number of unique values of the categorical features are shown."
   ]
  },
  {
   "cell_type": "code",
   "execution_count": 16,
   "metadata": {},
   "outputs": [
    {
     "data": {
      "text/html": [
       "<div>\n",
       "<style scoped>\n",
       "    .dataframe tbody tr th:only-of-type {\n",
       "        vertical-align: middle;\n",
       "    }\n",
       "\n",
       "    .dataframe tbody tr th {\n",
       "        vertical-align: top;\n",
       "    }\n",
       "\n",
       "    .dataframe thead th {\n",
       "        text-align: right;\n",
       "    }\n",
       "</style>\n",
       "<table border=\"1\" class=\"dataframe\">\n",
       "  <thead>\n",
       "    <tr style=\"text-align: right;\">\n",
       "      <th></th>\n",
       "      <th>InvoiceNo</th>\n",
       "      <th>StockCode</th>\n",
       "      <th>Description</th>\n",
       "      <th>Quantity</th>\n",
       "      <th>InvoiceDate</th>\n",
       "      <th>UnitPrice</th>\n",
       "      <th>CustomerID</th>\n",
       "      <th>Country</th>\n",
       "    </tr>\n",
       "  </thead>\n",
       "  <tbody>\n",
       "    <tr>\n",
       "      <th>0</th>\n",
       "      <td>536365</td>\n",
       "      <td>85123A</td>\n",
       "      <td>WHITE HANGING HEART T-LIGHT HOLDER</td>\n",
       "      <td>6</td>\n",
       "      <td>2010-12-01 08:26:00</td>\n",
       "      <td>2.55</td>\n",
       "      <td>17850.0</td>\n",
       "      <td>United Kingdom</td>\n",
       "    </tr>\n",
       "    <tr>\n",
       "      <th>1</th>\n",
       "      <td>536365</td>\n",
       "      <td>71053</td>\n",
       "      <td>WHITE METAL LANTERN</td>\n",
       "      <td>6</td>\n",
       "      <td>2010-12-01 08:26:00</td>\n",
       "      <td>3.39</td>\n",
       "      <td>17850.0</td>\n",
       "      <td>United Kingdom</td>\n",
       "    </tr>\n",
       "    <tr>\n",
       "      <th>2</th>\n",
       "      <td>536365</td>\n",
       "      <td>84406B</td>\n",
       "      <td>CREAM CUPID HEARTS COAT HANGER</td>\n",
       "      <td>8</td>\n",
       "      <td>2010-12-01 08:26:00</td>\n",
       "      <td>2.75</td>\n",
       "      <td>17850.0</td>\n",
       "      <td>United Kingdom</td>\n",
       "    </tr>\n",
       "    <tr>\n",
       "      <th>3</th>\n",
       "      <td>536365</td>\n",
       "      <td>84029G</td>\n",
       "      <td>KNITTED UNION FLAG HOT WATER BOTTLE</td>\n",
       "      <td>6</td>\n",
       "      <td>2010-12-01 08:26:00</td>\n",
       "      <td>3.39</td>\n",
       "      <td>17850.0</td>\n",
       "      <td>United Kingdom</td>\n",
       "    </tr>\n",
       "    <tr>\n",
       "      <th>4</th>\n",
       "      <td>536365</td>\n",
       "      <td>84029E</td>\n",
       "      <td>RED WOOLLY HOTTIE WHITE HEART.</td>\n",
       "      <td>6</td>\n",
       "      <td>2010-12-01 08:26:00</td>\n",
       "      <td>3.39</td>\n",
       "      <td>17850.0</td>\n",
       "      <td>United Kingdom</td>\n",
       "    </tr>\n",
       "  </tbody>\n",
       "</table>\n",
       "</div>"
      ],
      "text/plain": [
       "  InvoiceNo StockCode                          Description  Quantity  \\\n",
       "0    536365    85123A   WHITE HANGING HEART T-LIGHT HOLDER         6   \n",
       "1    536365     71053                  WHITE METAL LANTERN         6   \n",
       "2    536365    84406B       CREAM CUPID HEARTS COAT HANGER         8   \n",
       "3    536365    84029G  KNITTED UNION FLAG HOT WATER BOTTLE         6   \n",
       "4    536365    84029E       RED WOOLLY HOTTIE WHITE HEART.         6   \n",
       "\n",
       "          InvoiceDate  UnitPrice  CustomerID         Country  \n",
       "0 2010-12-01 08:26:00       2.55     17850.0  United Kingdom  \n",
       "1 2010-12-01 08:26:00       3.39     17850.0  United Kingdom  \n",
       "2 2010-12-01 08:26:00       2.75     17850.0  United Kingdom  \n",
       "3 2010-12-01 08:26:00       3.39     17850.0  United Kingdom  \n",
       "4 2010-12-01 08:26:00       3.39     17850.0  United Kingdom  "
      ]
     },
     "execution_count": 16,
     "metadata": {},
     "output_type": "execute_result"
    }
   ],
   "source": [
    "df1=pd.read_excel(\"Online_Retail.xlsx\")\n",
    "df1.head()\n"
   ]
  },
  {
   "cell_type": "code",
   "execution_count": 17,
   "metadata": {},
   "outputs": [
    {
     "data": {
      "text/plain": [
       "InvoiceNo           0\n",
       "StockCode           0\n",
       "Description      1454\n",
       "Quantity            0\n",
       "InvoiceDate         0\n",
       "UnitPrice           0\n",
       "CustomerID     135080\n",
       "Country             0\n",
       "dtype: int64"
      ]
     },
     "execution_count": 17,
     "metadata": {},
     "output_type": "execute_result"
    }
   ],
   "source": [
    "df1.isnull().sum()"
   ]
  },
  {
   "cell_type": "markdown",
   "metadata": {},
   "source": [
    "\"Description\" feature has 1454 null values and \"CustomerID\" column has 135080 null values."
   ]
  },
  {
   "cell_type": "code",
   "execution_count": 18,
   "metadata": {},
   "outputs": [
    {
     "data": {
      "text/plain": [
       "InvoiceNo              object\n",
       "StockCode              object\n",
       "Description            object\n",
       "Quantity                int64\n",
       "InvoiceDate    datetime64[ns]\n",
       "UnitPrice             float64\n",
       "CustomerID            float64\n",
       "Country                object\n",
       "dtype: object"
      ]
     },
     "execution_count": 18,
     "metadata": {},
     "output_type": "execute_result"
    }
   ],
   "source": [
    "df1.dtypes"
   ]
  },
  {
   "cell_type": "code",
   "execution_count": 19,
   "metadata": {},
   "outputs": [
    {
     "data": {
      "text/plain": [
       "<Axes: >"
      ]
     },
     "execution_count": 19,
     "metadata": {},
     "output_type": "execute_result"
    },
    {
     "data": {
      "image/png": "[encoded data removed]",
      "text/plain": [
       "<Figure size 640x480 with 1 Axes>"
      ]
     },
     "metadata": {},
     "output_type": "display_data"
    }
   ],
   "source": [
    "df1[['Quantity']].boxplot()"
   ]
  },
  {
   "cell_type": "code",
   "execution_count": 20,
   "metadata": {},
   "outputs": [
    {
     "data": {
      "text/plain": [
       "<Axes: >"
      ]
     },
     "execution_count": 20,
     "metadata": {},
     "output_type": "execute_result"
    },
    {
     "data": {
      "image/png": "[encoded data removed]",
      "text/plain": [
       "<Figure size 640x480 with 1 Axes>"
      ]
     },
     "metadata": {},
     "output_type": "display_data"
    }
   ],
   "source": [
    "df1[['UnitPrice']].boxplot()"
   ]
  },
  {
   "cell_type": "code",
   "execution_count": 21,
   "metadata": {},
   "outputs": [],
   "source": [
    "df1['Quantity'] = df1['Quantity'].astype(int)"
   ]
  },
  {
   "cell_type": "code",
   "execution_count": 22,
   "metadata": {},
   "outputs": [],
   "source": [
    "df1['UnitPrice'] = df1['UnitPrice'].astype(float)"
   ]
  },
  {
   "cell_type": "code",
   "execution_count": 23,
   "metadata": {},
   "outputs": [],
   "source": [
    "df1['CustomerID'] = df1['CustomerID'].astype(float)"
   ]
  },
  {
   "cell_type": "code",
   "execution_count": 24,
   "metadata": {},
   "outputs": [
    {
     "name": "stdout",
     "output_type": "stream",
     "text": [
      "-0.0012349245448702972\n"
     ]
    }
   ],
   "source": [
    "correlation = df1[\"Quantity\"].corr(df1[\"UnitPrice\"])\n",
    "print(correlation)"
   ]
  },
  {
   "cell_type": "code",
   "execution_count": 25,
   "metadata": {},
   "outputs": [
    {
     "data": {
      "image/png": "[encoded data removed]",
      "text/plain": [
       "<Figure size 640x480 with 1 Axes>"
      ]
     },
     "metadata": {},
     "output_type": "display_data"
    }
   ],
   "source": [
    "x = df1['Quantity']\n",
    "y = df1['UnitPrice']\n",
    "plt.scatter(x, y, alpha=0.5) \n",
    "\n",
    "plt.xlabel('Quantity')\n",
    "plt.ylabel('UnitPrice')\n",
    "\n",
    "plt.title('Scatter Plot: Correlation between Quantity and Unit Price')\n",
    "plt.show()"
   ]
  },
  {
   "cell_type": "code",
   "execution_count": 26,
   "metadata": {},
   "outputs": [],
   "source": [
    "df1['InvoiceDate'] = pd.to_datetime(df1['InvoiceDate'])\n",
    "df1['Date'] = df1['InvoiceDate'].dt.date\n",
    "df1['Time'] = df1['InvoiceDate'].dt.time\n"
   ]
  },
  {
   "cell_type": "code",
   "execution_count": 27,
   "metadata": {},
   "outputs": [
    {
     "data": {
      "text/html": [
       "<div>\n",
       "<style scoped>\n",
       "    .dataframe tbody tr th:only-of-type {\n",
       "        vertical-align: middle;\n",
       "    }\n",
       "\n",
       "    .dataframe tbody tr th {\n",
       "        vertical-align: top;\n",
       "    }\n",
       "\n",
       "    .dataframe thead th {\n",
       "        text-align: right;\n",
       "    }\n",
       "</style>\n",
       "<table border=\"1\" class=\"dataframe\">\n",
       "  <thead>\n",
       "    <tr style=\"text-align: right;\">\n",
       "      <th></th>\n",
       "      <th>InvoiceNo</th>\n",
       "      <th>StockCode</th>\n",
       "      <th>Description</th>\n",
       "      <th>Quantity</th>\n",
       "      <th>InvoiceDate</th>\n",
       "      <th>UnitPrice</th>\n",
       "      <th>CustomerID</th>\n",
       "      <th>Country</th>\n",
       "      <th>Date</th>\n",
       "      <th>Time</th>\n",
       "    </tr>\n",
       "  </thead>\n",
       "  <tbody>\n",
       "    <tr>\n",
       "      <th>0</th>\n",
       "      <td>536365</td>\n",
       "      <td>85123A</td>\n",
       "      <td>WHITE HANGING HEART T-LIGHT HOLDER</td>\n",
       "      <td>6</td>\n",
       "      <td>2010-12-01 08:26:00</td>\n",
       "      <td>2.55</td>\n",
       "      <td>17850.0</td>\n",
       "      <td>United Kingdom</td>\n",
       "      <td>2010-12-01</td>\n",
       "      <td>08:26:00</td>\n",
       "    </tr>\n",
       "    <tr>\n",
       "      <th>1</th>\n",
       "      <td>536365</td>\n",
       "      <td>71053</td>\n",
       "      <td>WHITE METAL LANTERN</td>\n",
       "      <td>6</td>\n",
       "      <td>2010-12-01 08:26:00</td>\n",
       "      <td>3.39</td>\n",
       "      <td>17850.0</td>\n",
       "      <td>United Kingdom</td>\n",
       "      <td>2010-12-01</td>\n",
       "      <td>08:26:00</td>\n",
       "    </tr>\n",
       "    <tr>\n",
       "      <th>2</th>\n",
       "      <td>536365</td>\n",
       "      <td>84406B</td>\n",
       "      <td>CREAM CUPID HEARTS COAT HANGER</td>\n",
       "      <td>8</td>\n",
       "      <td>2010-12-01 08:26:00</td>\n",
       "      <td>2.75</td>\n",
       "      <td>17850.0</td>\n",
       "      <td>United Kingdom</td>\n",
       "      <td>2010-12-01</td>\n",
       "      <td>08:26:00</td>\n",
       "    </tr>\n",
       "    <tr>\n",
       "      <th>3</th>\n",
       "      <td>536365</td>\n",
       "      <td>84029G</td>\n",
       "      <td>KNITTED UNION FLAG HOT WATER BOTTLE</td>\n",
       "      <td>6</td>\n",
       "      <td>2010-12-01 08:26:00</td>\n",
       "      <td>3.39</td>\n",
       "      <td>17850.0</td>\n",
       "      <td>United Kingdom</td>\n",
       "      <td>2010-12-01</td>\n",
       "      <td>08:26:00</td>\n",
       "    </tr>\n",
       "    <tr>\n",
       "      <th>4</th>\n",
       "      <td>536365</td>\n",
       "      <td>84029E</td>\n",
       "      <td>RED WOOLLY HOTTIE WHITE HEART.</td>\n",
       "      <td>6</td>\n",
       "      <td>2010-12-01 08:26:00</td>\n",
       "      <td>3.39</td>\n",
       "      <td>17850.0</td>\n",
       "      <td>United Kingdom</td>\n",
       "      <td>2010-12-01</td>\n",
       "      <td>08:26:00</td>\n",
       "    </tr>\n",
       "  </tbody>\n",
       "</table>\n",
       "</div>"
      ],
      "text/plain": [
       "  InvoiceNo StockCode                          Description  Quantity  \\\n",
       "0    536365    85123A   WHITE HANGING HEART T-LIGHT HOLDER         6   \n",
       "1    536365     71053                  WHITE METAL LANTERN         6   \n",
       "2    536365    84406B       CREAM CUPID HEARTS COAT HANGER         8   \n",
       "3    536365    84029G  KNITTED UNION FLAG HOT WATER BOTTLE         6   \n",
       "4    536365    84029E       RED WOOLLY HOTTIE WHITE HEART.         6   \n",
       "\n",
       "          InvoiceDate  UnitPrice  CustomerID         Country        Date  \\\n",
       "0 2010-12-01 08:26:00       2.55     17850.0  United Kingdom  2010-12-01   \n",
       "1 2010-12-01 08:26:00       3.39     17850.0  United Kingdom  2010-12-01   \n",
       "2 2010-12-01 08:26:00       2.75     17850.0  United Kingdom  2010-12-01   \n",
       "3 2010-12-01 08:26:00       3.39     17850.0  United Kingdom  2010-12-01   \n",
       "4 2010-12-01 08:26:00       3.39     17850.0  United Kingdom  2010-12-01   \n",
       "\n",
       "       Time  \n",
       "0  08:26:00  \n",
       "1  08:26:00  \n",
       "2  08:26:00  \n",
       "3  08:26:00  \n",
       "4  08:26:00  "
      ]
     },
     "execution_count": 27,
     "metadata": {},
     "output_type": "execute_result"
    }
   ],
   "source": [
    "df1.head()"
   ]
  },
  {
   "cell_type": "code",
   "execution_count": 28,
   "metadata": {},
   "outputs": [],
   "source": [
    "df1.drop(\"InvoiceDate\",axis=1,inplace=True)"
   ]
  },
  {
   "cell_type": "code",
   "execution_count": 29,
   "metadata": {},
   "outputs": [
    {
     "data": {
      "text/html": [
       "<div>\n",
       "<style scoped>\n",
       "    .dataframe tbody tr th:only-of-type {\n",
       "        vertical-align: middle;\n",
       "    }\n",
       "\n",
       "    .dataframe tbody tr th {\n",
       "        vertical-align: top;\n",
       "    }\n",
       "\n",
       "    .dataframe thead th {\n",
       "        text-align: right;\n",
       "    }\n",
       "</style>\n",
       "<table border=\"1\" class=\"dataframe\">\n",
       "  <thead>\n",
       "    <tr style=\"text-align: right;\">\n",
       "      <th></th>\n",
       "      <th>InvoiceNo</th>\n",
       "      <th>StockCode</th>\n",
       "      <th>Description</th>\n",
       "      <th>Quantity</th>\n",
       "      <th>UnitPrice</th>\n",
       "      <th>CustomerID</th>\n",
       "      <th>Country</th>\n",
       "      <th>Date</th>\n",
       "      <th>Time</th>\n",
       "    </tr>\n",
       "  </thead>\n",
       "  <tbody>\n",
       "    <tr>\n",
       "      <th>0</th>\n",
       "      <td>536365</td>\n",
       "      <td>85123A</td>\n",
       "      <td>WHITE HANGING HEART T-LIGHT HOLDER</td>\n",
       "      <td>6</td>\n",
       "      <td>2.55</td>\n",
       "      <td>17850.0</td>\n",
       "      <td>United Kingdom</td>\n",
       "      <td>2010-12-01</td>\n",
       "      <td>08:26:00</td>\n",
       "    </tr>\n",
       "    <tr>\n",
       "      <th>1</th>\n",
       "      <td>536365</td>\n",
       "      <td>71053</td>\n",
       "      <td>WHITE METAL LANTERN</td>\n",
       "      <td>6</td>\n",
       "      <td>3.39</td>\n",
       "      <td>17850.0</td>\n",
       "      <td>United Kingdom</td>\n",
       "      <td>2010-12-01</td>\n",
       "      <td>08:26:00</td>\n",
       "    </tr>\n",
       "    <tr>\n",
       "      <th>2</th>\n",
       "      <td>536365</td>\n",
       "      <td>84406B</td>\n",
       "      <td>CREAM CUPID HEARTS COAT HANGER</td>\n",
       "      <td>8</td>\n",
       "      <td>2.75</td>\n",
       "      <td>17850.0</td>\n",
       "      <td>United Kingdom</td>\n",
       "      <td>2010-12-01</td>\n",
       "      <td>08:26:00</td>\n",
       "    </tr>\n",
       "    <tr>\n",
       "      <th>3</th>\n",
       "      <td>536365</td>\n",
       "      <td>84029G</td>\n",
       "      <td>KNITTED UNION FLAG HOT WATER BOTTLE</td>\n",
       "      <td>6</td>\n",
       "      <td>3.39</td>\n",
       "      <td>17850.0</td>\n",
       "      <td>United Kingdom</td>\n",
       "      <td>2010-12-01</td>\n",
       "      <td>08:26:00</td>\n",
       "    </tr>\n",
       "    <tr>\n",
       "      <th>4</th>\n",
       "      <td>536365</td>\n",
       "      <td>84029E</td>\n",
       "      <td>RED WOOLLY HOTTIE WHITE HEART.</td>\n",
       "      <td>6</td>\n",
       "      <td>3.39</td>\n",
       "      <td>17850.0</td>\n",
       "      <td>United Kingdom</td>\n",
       "      <td>2010-12-01</td>\n",
       "      <td>08:26:00</td>\n",
       "    </tr>\n",
       "    <tr>\n",
       "      <th>...</th>\n",
       "      <td>...</td>\n",
       "      <td>...</td>\n",
       "      <td>...</td>\n",
       "      <td>...</td>\n",
       "      <td>...</td>\n",
       "      <td>...</td>\n",
       "      <td>...</td>\n",
       "      <td>...</td>\n",
       "      <td>...</td>\n",
       "    </tr>\n",
       "    <tr>\n",
       "      <th>541904</th>\n",
       "      <td>581587</td>\n",
       "      <td>22613</td>\n",
       "      <td>PACK OF 20 SPACEBOY NAPKINS</td>\n",
       "      <td>12</td>\n",
       "      <td>0.85</td>\n",
       "      <td>12680.0</td>\n",
       "      <td>France</td>\n",
       "      <td>2011-12-09</td>\n",
       "      <td>12:50:00</td>\n",
       "    </tr>\n",
       "    <tr>\n",
       "      <th>541905</th>\n",
       "      <td>581587</td>\n",
       "      <td>22899</td>\n",
       "      <td>CHILDREN'S APRON DOLLY GIRL</td>\n",
       "      <td>6</td>\n",
       "      <td>2.10</td>\n",
       "      <td>12680.0</td>\n",
       "      <td>France</td>\n",
       "      <td>2011-12-09</td>\n",
       "      <td>12:50:00</td>\n",
       "    </tr>\n",
       "    <tr>\n",
       "      <th>541906</th>\n",
       "      <td>581587</td>\n",
       "      <td>23254</td>\n",
       "      <td>CHILDRENS CUTLERY DOLLY GIRL</td>\n",
       "      <td>4</td>\n",
       "      <td>4.15</td>\n",
       "      <td>12680.0</td>\n",
       "      <td>France</td>\n",
       "      <td>2011-12-09</td>\n",
       "      <td>12:50:00</td>\n",
       "    </tr>\n",
       "    <tr>\n",
       "      <th>541907</th>\n",
       "      <td>581587</td>\n",
       "      <td>23255</td>\n",
       "      <td>CHILDRENS CUTLERY CIRCUS PARADE</td>\n",
       "      <td>4</td>\n",
       "      <td>4.15</td>\n",
       "      <td>12680.0</td>\n",
       "      <td>France</td>\n",
       "      <td>2011-12-09</td>\n",
       "      <td>12:50:00</td>\n",
       "    </tr>\n",
       "    <tr>\n",
       "      <th>541908</th>\n",
       "      <td>581587</td>\n",
       "      <td>22138</td>\n",
       "      <td>BAKING SET 9 PIECE RETROSPOT</td>\n",
       "      <td>3</td>\n",
       "      <td>4.95</td>\n",
       "      <td>12680.0</td>\n",
       "      <td>France</td>\n",
       "      <td>2011-12-09</td>\n",
       "      <td>12:50:00</td>\n",
       "    </tr>\n",
       "  </tbody>\n",
       "</table>\n",
       "<p>541909 rows × 9 columns</p>\n",
       "</div>"
      ],
      "text/plain": [
       "       InvoiceNo StockCode                          Description  Quantity  \\\n",
       "0         536365    85123A   WHITE HANGING HEART T-LIGHT HOLDER         6   \n",
       "1         536365     71053                  WHITE METAL LANTERN         6   \n",
       "2         536365    84406B       CREAM CUPID HEARTS COAT HANGER         8   \n",
       "3         536365    84029G  KNITTED UNION FLAG HOT WATER BOTTLE         6   \n",
       "4         536365    84029E       RED WOOLLY HOTTIE WHITE HEART.         6   \n",
       "...          ...       ...                                  ...       ...   \n",
       "541904    581587     22613          PACK OF 20 SPACEBOY NAPKINS        12   \n",
       "541905    581587     22899         CHILDREN'S APRON DOLLY GIRL          6   \n",
       "541906    581587     23254        CHILDRENS CUTLERY DOLLY GIRL          4   \n",
       "541907    581587     23255      CHILDRENS CUTLERY CIRCUS PARADE         4   \n",
       "541908    581587     22138        BAKING SET 9 PIECE RETROSPOT          3   \n",
       "\n",
       "        UnitPrice  CustomerID         Country        Date      Time  \n",
       "0            2.55     17850.0  United Kingdom  2010-12-01  08:26:00  \n",
       "1            3.39     17850.0  United Kingdom  2010-12-01  08:26:00  \n",
       "2            2.75     17850.0  United Kingdom  2010-12-01  08:26:00  \n",
       "3            3.39     17850.0  United Kingdom  2010-12-01  08:26:00  \n",
       "4            3.39     17850.0  United Kingdom  2010-12-01  08:26:00  \n",
       "...           ...         ...             ...         ...       ...  \n",
       "541904       0.85     12680.0          France  2011-12-09  12:50:00  \n",
       "541905       2.10     12680.0          France  2011-12-09  12:50:00  \n",
       "541906       4.15     12680.0          France  2011-12-09  12:50:00  \n",
       "541907       4.15     12680.0          France  2011-12-09  12:50:00  \n",
       "541908       4.95     12680.0          France  2011-12-09  12:50:00  \n",
       "\n",
       "[541909 rows x 9 columns]"
      ]
     },
     "execution_count": 29,
     "metadata": {},
     "output_type": "execute_result"
    }
   ],
   "source": [
    "df1"
   ]
  },
  {
   "cell_type": "code",
   "execution_count": 30,
   "metadata": {},
   "outputs": [
    {
     "data": {
      "text/plain": [
       "InvoiceNo       object\n",
       "StockCode       object\n",
       "Description     object\n",
       "Quantity         int32\n",
       "UnitPrice      float64\n",
       "CustomerID     float64\n",
       "Country         object\n",
       "Date            object\n",
       "Time            object\n",
       "dtype: object"
      ]
     },
     "execution_count": 30,
     "metadata": {},
     "output_type": "execute_result"
    }
   ],
   "source": [
    "df1.dtypes"
   ]
  },
  {
   "cell_type": "code",
   "execution_count": 31,
   "metadata": {},
   "outputs": [],
   "source": [
    "df1.drop('InvoiceNo',axis=1, inplace=True)"
   ]
  },
  {
   "cell_type": "code",
   "execution_count": 32,
   "metadata": {},
   "outputs": [
    {
     "data": {
      "text/html": [
       "<div>\n",
       "<style scoped>\n",
       "    .dataframe tbody tr th:only-of-type {\n",
       "        vertical-align: middle;\n",
       "    }\n",
       "\n",
       "    .dataframe tbody tr th {\n",
       "        vertical-align: top;\n",
       "    }\n",
       "\n",
       "    .dataframe thead th {\n",
       "        text-align: right;\n",
       "    }\n",
       "</style>\n",
       "<table border=\"1\" class=\"dataframe\">\n",
       "  <thead>\n",
       "    <tr style=\"text-align: right;\">\n",
       "      <th></th>\n",
       "      <th>StockCode</th>\n",
       "      <th>Description</th>\n",
       "      <th>Quantity</th>\n",
       "      <th>UnitPrice</th>\n",
       "      <th>CustomerID</th>\n",
       "      <th>Country</th>\n",
       "      <th>Date</th>\n",
       "      <th>Time</th>\n",
       "    </tr>\n",
       "  </thead>\n",
       "  <tbody>\n",
       "    <tr>\n",
       "      <th>0</th>\n",
       "      <td>85123A</td>\n",
       "      <td>WHITE HANGING HEART T-LIGHT HOLDER</td>\n",
       "      <td>6</td>\n",
       "      <td>2.55</td>\n",
       "      <td>17850.0</td>\n",
       "      <td>United Kingdom</td>\n",
       "      <td>2010-12-01</td>\n",
       "      <td>08:26:00</td>\n",
       "    </tr>\n",
       "    <tr>\n",
       "      <th>1</th>\n",
       "      <td>71053</td>\n",
       "      <td>WHITE METAL LANTERN</td>\n",
       "      <td>6</td>\n",
       "      <td>3.39</td>\n",
       "      <td>17850.0</td>\n",
       "      <td>United Kingdom</td>\n",
       "      <td>2010-12-01</td>\n",
       "      <td>08:26:00</td>\n",
       "    </tr>\n",
       "    <tr>\n",
       "      <th>2</th>\n",
       "      <td>84406B</td>\n",
       "      <td>CREAM CUPID HEARTS COAT HANGER</td>\n",
       "      <td>8</td>\n",
       "      <td>2.75</td>\n",
       "      <td>17850.0</td>\n",
       "      <td>United Kingdom</td>\n",
       "      <td>2010-12-01</td>\n",
       "      <td>08:26:00</td>\n",
       "    </tr>\n",
       "    <tr>\n",
       "      <th>3</th>\n",
       "      <td>84029G</td>\n",
       "      <td>KNITTED UNION FLAG HOT WATER BOTTLE</td>\n",
       "      <td>6</td>\n",
       "      <td>3.39</td>\n",
       "      <td>17850.0</td>\n",
       "      <td>United Kingdom</td>\n",
       "      <td>2010-12-01</td>\n",
       "      <td>08:26:00</td>\n",
       "    </tr>\n",
       "    <tr>\n",
       "      <th>4</th>\n",
       "      <td>84029E</td>\n",
       "      <td>RED WOOLLY HOTTIE WHITE HEART.</td>\n",
       "      <td>6</td>\n",
       "      <td>3.39</td>\n",
       "      <td>17850.0</td>\n",
       "      <td>United Kingdom</td>\n",
       "      <td>2010-12-01</td>\n",
       "      <td>08:26:00</td>\n",
       "    </tr>\n",
       "    <tr>\n",
       "      <th>...</th>\n",
       "      <td>...</td>\n",
       "      <td>...</td>\n",
       "      <td>...</td>\n",
       "      <td>...</td>\n",
       "      <td>...</td>\n",
       "      <td>...</td>\n",
       "      <td>...</td>\n",
       "      <td>...</td>\n",
       "    </tr>\n",
       "    <tr>\n",
       "      <th>541904</th>\n",
       "      <td>22613</td>\n",
       "      <td>PACK OF 20 SPACEBOY NAPKINS</td>\n",
       "      <td>12</td>\n",
       "      <td>0.85</td>\n",
       "      <td>12680.0</td>\n",
       "      <td>France</td>\n",
       "      <td>2011-12-09</td>\n",
       "      <td>12:50:00</td>\n",
       "    </tr>\n",
       "    <tr>\n",
       "      <th>541905</th>\n",
       "      <td>22899</td>\n",
       "      <td>CHILDREN'S APRON DOLLY GIRL</td>\n",
       "      <td>6</td>\n",
       "      <td>2.10</td>\n",
       "      <td>12680.0</td>\n",
       "      <td>France</td>\n",
       "      <td>2011-12-09</td>\n",
       "      <td>12:50:00</td>\n",
       "    </tr>\n",
       "    <tr>\n",
       "      <th>541906</th>\n",
       "      <td>23254</td>\n",
       "      <td>CHILDRENS CUTLERY DOLLY GIRL</td>\n",
       "      <td>4</td>\n",
       "      <td>4.15</td>\n",
       "      <td>12680.0</td>\n",
       "      <td>France</td>\n",
       "      <td>2011-12-09</td>\n",
       "      <td>12:50:00</td>\n",
       "    </tr>\n",
       "    <tr>\n",
       "      <th>541907</th>\n",
       "      <td>23255</td>\n",
       "      <td>CHILDRENS CUTLERY CIRCUS PARADE</td>\n",
       "      <td>4</td>\n",
       "      <td>4.15</td>\n",
       "      <td>12680.0</td>\n",
       "      <td>France</td>\n",
       "      <td>2011-12-09</td>\n",
       "      <td>12:50:00</td>\n",
       "    </tr>\n",
       "    <tr>\n",
       "      <th>541908</th>\n",
       "      <td>22138</td>\n",
       "      <td>BAKING SET 9 PIECE RETROSPOT</td>\n",
       "      <td>3</td>\n",
       "      <td>4.95</td>\n",
       "      <td>12680.0</td>\n",
       "      <td>France</td>\n",
       "      <td>2011-12-09</td>\n",
       "      <td>12:50:00</td>\n",
       "    </tr>\n",
       "  </tbody>\n",
       "</table>\n",
       "<p>541909 rows × 8 columns</p>\n",
       "</div>"
      ],
      "text/plain": [
       "       StockCode                          Description  Quantity  UnitPrice  \\\n",
       "0         85123A   WHITE HANGING HEART T-LIGHT HOLDER         6       2.55   \n",
       "1          71053                  WHITE METAL LANTERN         6       3.39   \n",
       "2         84406B       CREAM CUPID HEARTS COAT HANGER         8       2.75   \n",
       "3         84029G  KNITTED UNION FLAG HOT WATER BOTTLE         6       3.39   \n",
       "4         84029E       RED WOOLLY HOTTIE WHITE HEART.         6       3.39   \n",
       "...          ...                                  ...       ...        ...   \n",
       "541904     22613          PACK OF 20 SPACEBOY NAPKINS        12       0.85   \n",
       "541905     22899         CHILDREN'S APRON DOLLY GIRL          6       2.10   \n",
       "541906     23254        CHILDRENS CUTLERY DOLLY GIRL          4       4.15   \n",
       "541907     23255      CHILDRENS CUTLERY CIRCUS PARADE         4       4.15   \n",
       "541908     22138        BAKING SET 9 PIECE RETROSPOT          3       4.95   \n",
       "\n",
       "        CustomerID         Country        Date      Time  \n",
       "0          17850.0  United Kingdom  2010-12-01  08:26:00  \n",
       "1          17850.0  United Kingdom  2010-12-01  08:26:00  \n",
       "2          17850.0  United Kingdom  2010-12-01  08:26:00  \n",
       "3          17850.0  United Kingdom  2010-12-01  08:26:00  \n",
       "4          17850.0  United Kingdom  2010-12-01  08:26:00  \n",
       "...            ...             ...         ...       ...  \n",
       "541904     12680.0          France  2011-12-09  12:50:00  \n",
       "541905     12680.0          France  2011-12-09  12:50:00  \n",
       "541906     12680.0          France  2011-12-09  12:50:00  \n",
       "541907     12680.0          France  2011-12-09  12:50:00  \n",
       "541908     12680.0          France  2011-12-09  12:50:00  \n",
       "\n",
       "[541909 rows x 8 columns]"
      ]
     },
     "execution_count": 32,
     "metadata": {},
     "output_type": "execute_result"
    }
   ],
   "source": [
    "df1"
   ]
  },
  {
   "cell_type": "code",
   "execution_count": 33,
   "metadata": {},
   "outputs": [
    {
     "data": {
      "text/plain": [
       "StockCode       object\n",
       "Description     object\n",
       "Quantity         int32\n",
       "UnitPrice      float64\n",
       "CustomerID     float64\n",
       "Country         object\n",
       "Date            object\n",
       "Time            object\n",
       "dtype: object"
      ]
     },
     "execution_count": 33,
     "metadata": {},
     "output_type": "execute_result"
    }
   ],
   "source": [
    "df1.dtypes"
   ]
  },
  {
   "cell_type": "code",
   "execution_count": 34,
   "metadata": {},
   "outputs": [
    {
     "name": "stdout",
     "output_type": "stream",
     "text": [
      "number of unique countries are  38\n",
      "number of unique products are  4224\n",
      "number of unique stockcodes are  4070\n"
     ]
    }
   ],
   "source": [
    "Number_of_unique_countries=df1['Country'].unique()\n",
    "print('number of unique countries are ',len(Number_of_unique_countries))\n",
    "Number_of_unique_products=df1['Description'].unique()\n",
    "print('number of unique products are ',len(Number_of_unique_products))\n",
    "Number_of_unique_product_stockcode=df1['StockCode'].unique()\n",
    "(print('number of unique stockcodes are ',len(Number_of_unique_product_stockcode)))"
   ]
  },
  {
   "cell_type": "code",
   "execution_count": 35,
   "metadata": {},
   "outputs": [
    {
     "name": "stdout",
     "output_type": "stream",
     "text": [
      "Requirement already satisfied: pandas-profiling in .\\env\\lib\\site-packages (3.6.6)\n",
      "Requirement already satisfied: ydata-profiling in .\\env\\lib\\site-packages (from pandas-profiling) (4.5.1)\n",
      "Requirement already satisfied: scipy<1.12,>=1.4.1 in .\\env\\lib\\site-packages (from ydata-profiling->pandas-profiling) (1.11.2)\n",
      "Requirement already satisfied: pandas!=1.4.0,<2.1,>1.1 in .\\env\\lib\\site-packages (from ydata-profiling->pandas-profiling) (2.0.3)\n",
      "Requirement already satisfied: matplotlib<4,>=3.2 in .\\env\\lib\\site-packages (from ydata-profiling->pandas-profiling) (3.8.0)\n",
      "Requirement already satisfied: pydantic<2,>=1.8.1 in .\\env\\lib\\site-packages (from ydata-profiling->pandas-profiling) (1.10.12)\n",
      "Requirement already satisfied: PyYAML<6.1,>=5.0.0 in .\\env\\lib\\site-packages (from ydata-profiling->pandas-profiling) (6.0.1)\n",
      "Requirement already satisfied: jinja2<3.2,>=2.11.1 in .\\env\\lib\\site-packages (from ydata-profiling->pandas-profiling) (3.1.2)\n",
      "Requirement already satisfied: visions[type_image_path]==0.7.5 in .\\env\\lib\\site-packages (from ydata-profiling->pandas-profiling) (0.7.5)\n",
      "Requirement already satisfied: numpy<1.24,>=1.16.0 in .\\env\\lib\\site-packages (from ydata-profiling->pandas-profiling) (1.23.5)\n",
      "Requirement already satisfied: htmlmin==0.1.12 in .\\env\\lib\\site-packages (from ydata-profiling->pandas-profiling) (0.1.12)\n",
      "Requirement already satisfied: phik<0.13,>=0.11.1 in .\\env\\lib\\site-packages (from ydata-profiling->pandas-profiling) (0.12.3)\n",
      "Requirement already satisfied: requests<3,>=2.24.0 in .\\env\\lib\\site-packages (from ydata-profiling->pandas-profiling) (2.31.0)\n",
      "Requirement already satisfied: tqdm<5,>=4.48.2 in .\\env\\lib\\site-packages (from ydata-profiling->pandas-profiling) (4.66.1)\n",
      "Requirement already satisfied: seaborn<0.13,>=0.10.1 in .\\env\\lib\\site-packages (from ydata-profiling->pandas-profiling) (0.12.2)\n",
      "Requirement already satisfied: multimethod<2,>=1.4 in .\\env\\lib\\site-packages (from ydata-profiling->pandas-profiling) (1.9.1)\n",
      "Requirement already satisfied: statsmodels<1,>=0.13.2 in .\\env\\lib\\site-packages (from ydata-profiling->pandas-profiling) (0.14.0)\n",
      "Requirement already satisfied: typeguard<3,>=2.13.2 in .\\env\\lib\\site-packages (from ydata-profiling->pandas-profiling) (2.13.3)\n",
      "Requirement already satisfied: imagehash==4.3.1 in .\\env\\lib\\site-packages (from ydata-profiling->pandas-profiling) (4.3.1)\n",
      "Requirement already satisfied: wordcloud>=1.9.1 in .\\env\\lib\\site-packages (from ydata-profiling->pandas-profiling) (1.9.2)\n",
      "Requirement already satisfied: dacite>=1.8 in .\\env\\lib\\site-packages (from ydata-profiling->pandas-profiling) (1.8.1)\n",
      "Requirement already satisfied: PyWavelets in .\\env\\lib\\site-packages (from imagehash==4.3.1->ydata-profiling->pandas-profiling) (1.4.1)\n",
      "Requirement already satisfied: pillow in .\\env\\lib\\site-packages (from imagehash==4.3.1->ydata-profiling->pandas-profiling) (10.0.1)\n",
      "Requirement already satisfied: attrs>=19.3.0 in .\\env\\lib\\site-packages (from visions[type_image_path]==0.7.5->ydata-profiling->pandas-profiling) (23.1.0)\n",
      "Requirement already satisfied: networkx>=2.4 in .\\env\\lib\\site-packages (from visions[type_image_path]==0.7.5->ydata-profiling->pandas-profiling) (3.1)\n",
      "Requirement already satisfied: tangled-up-in-unicode>=0.0.4 in .\\env\\lib\\site-packages (from visions[type_image_path]==0.7.5->ydata-profiling->pandas-profiling) (0.2.0)\n",
      "Requirement already satisfied: MarkupSafe>=2.0 in .\\env\\lib\\site-packages (from jinja2<3.2,>=2.11.1->ydata-profiling->pandas-profiling) (2.1.3)\n",
      "Requirement already satisfied: contourpy>=1.0.1 in .\\env\\lib\\site-packages (from matplotlib<4,>=3.2->ydata-profiling->pandas-profiling) (1.1.1)\n",
      "Requirement already satisfied: cycler>=0.10 in .\\env\\lib\\site-packages (from matplotlib<4,>=3.2->ydata-profiling->pandas-profiling) (0.11.0)\n",
      "Requirement already satisfied: fonttools>=4.22.0 in .\\env\\lib\\site-packages (from matplotlib<4,>=3.2->ydata-profiling->pandas-profiling) (4.42.1)\n",
      "Requirement already satisfied: kiwisolver>=1.0.1 in .\\env\\lib\\site-packages (from matplotlib<4,>=3.2->ydata-profiling->pandas-profiling) (1.4.5)\n",
      "Requirement already satisfied: packaging>=20.0 in .\\env\\lib\\site-packages (from matplotlib<4,>=3.2->ydata-profiling->pandas-profiling) (23.1)\n",
      "Requirement already satisfied: pyparsing>=2.3.1 in .\\env\\lib\\site-packages (from matplotlib<4,>=3.2->ydata-profiling->pandas-profiling) (3.1.1)\n",
      "Requirement already satisfied: python-dateutil>=2.7 in .\\env\\lib\\site-packages (from matplotlib<4,>=3.2->ydata-profiling->pandas-profiling) (2.8.2)\n",
      "Requirement already satisfied: pytz>=2020.1 in .\\env\\lib\\site-packages (from pandas!=1.4.0,<2.1,>1.1->ydata-profiling->pandas-profiling) (2023.3.post1)\n",
      "Requirement already satisfied: tzdata>=2022.1 in .\\env\\lib\\site-packages (from pandas!=1.4.0,<2.1,>1.1->ydata-profiling->pandas-profiling) (2023.3)\n",
      "Requirement already satisfied: joblib>=0.14.1 in .\\env\\lib\\site-packages (from phik<0.13,>=0.11.1->ydata-profiling->pandas-profiling) (1.3.2)\n",
      "Requirement already satisfied: typing-extensions>=4.2.0 in .\\env\\lib\\site-packages (from pydantic<2,>=1.8.1->ydata-profiling->pandas-profiling) (4.7.1)\n",
      "Requirement already satisfied: charset-normalizer<4,>=2 in .\\env\\lib\\site-packages (from requests<3,>=2.24.0->ydata-profiling->pandas-profiling) (3.2.0)\n",
      "Requirement already satisfied: idna<4,>=2.5 in .\\env\\lib\\site-packages (from requests<3,>=2.24.0->ydata-profiling->pandas-profiling) (3.4)\n",
      "Requirement already satisfied: urllib3<3,>=1.21.1 in .\\env\\lib\\site-packages (from requests<3,>=2.24.0->ydata-profiling->pandas-profiling) (2.0.4)\n",
      "Requirement already satisfied: certifi>=2017.4.17 in .\\env\\lib\\site-packages (from requests<3,>=2.24.0->ydata-profiling->pandas-profiling) (2023.7.22)\n",
      "Requirement already satisfied: patsy>=0.5.2 in .\\env\\lib\\site-packages (from statsmodels<1,>=0.13.2->ydata-profiling->pandas-profiling) (0.5.3)\n",
      "Requirement already satisfied: colorama in .\\env\\lib\\site-packages (from tqdm<5,>=4.48.2->ydata-profiling->pandas-profiling) (0.4.6)\n",
      "Requirement already satisfied: six in .\\env\\lib\\site-packages (from patsy>=0.5.2->statsmodels<1,>=0.13.2->ydata-profiling->pandas-profiling) (1.16.0)\n",
      "Note: you may need to restart the kernel to use updated packages.\n"
     ]
    }
   ],
   "source": [
    "pip install pandas-profiling"
   ]
  },
  {
   "cell_type": "code",
   "execution_count": 38,
   "metadata": {},
   "outputs": [
    {
     "name": "stderr",
     "output_type": "stream",
     "text": [
      "Summarize dataset:  42%|████▏     | 10/24 [00:02<00:03,  3.71it/s, scatter Quantity, Quantity]  \n"
     ]
    },
    {
     "ename": "AttributeError",
     "evalue": "module 'matplotlib.cbook' has no attribute 'mplDeprecation'",
     "output_type": "error",
     "traceback": [
      "\u001b[1;31m---------------------------------------------------------------------------\u001b[0m",
      "\u001b[1;31mAttributeError\u001b[0m                            Traceback (most recent call last)",
      "\u001b[1;32md:\\projects\\customer_segmentation\\eda.ipynb Cell 41\u001b[0m line \u001b[0;36m5\n\u001b[0;32m      <a href='vscode-notebook-cell:/d%3A/projects/customer_segmentation/eda.ipynb#X55sZmlsZQ%3D%3D?line=2'>3</a>\u001b[0m \u001b[39mfrom\u001b[39;00m \u001b[39mpandas_profiling\u001b[39;00m \u001b[39mimport\u001b[39;00m ProfileReport\n\u001b[0;32m      <a href='vscode-notebook-cell:/d%3A/projects/customer_segmentation/eda.ipynb#X55sZmlsZQ%3D%3D?line=3'>4</a>\u001b[0m report \u001b[39m=\u001b[39m ProfileReport(df1)\n\u001b[1;32m----> <a href='vscode-notebook-cell:/d%3A/projects/customer_segmentation/eda.ipynb#X55sZmlsZQ%3D%3D?line=4'>5</a>\u001b[0m report\u001b[39m.\u001b[39;49mto_file(output_file\u001b[39m=\u001b[39;49m\u001b[39m'\u001b[39;49m\u001b[39moutput.html\u001b[39;49m\u001b[39m'\u001b[39;49m)\n",
      "File \u001b[1;32md:\\projects\\customer_segmentation\\env\\lib\\site-packages\\typeguard\\__init__.py:1033\u001b[0m, in \u001b[0;36mtypechecked.<locals>.wrapper\u001b[1;34m(*args, **kwargs)\u001b[0m\n\u001b[0;32m   1031\u001b[0m memo \u001b[39m=\u001b[39m _CallMemo(python_func, _localns, args\u001b[39m=\u001b[39margs, kwargs\u001b[39m=\u001b[39mkwargs)\n\u001b[0;32m   1032\u001b[0m check_argument_types(memo)\n\u001b[1;32m-> 1033\u001b[0m retval \u001b[39m=\u001b[39m func(\u001b[39m*\u001b[39margs, \u001b[39m*\u001b[39m\u001b[39m*\u001b[39mkwargs)\n\u001b[0;32m   1034\u001b[0m \u001b[39mtry\u001b[39;00m:\n\u001b[0;32m   1035\u001b[0m     check_return_type(retval, memo)\n",
      "File \u001b[1;32md:\\projects\\customer_segmentation\\env\\lib\\site-packages\\pandas_profiling\\profile_report.py:309\u001b[0m, in \u001b[0;36mProfileReport.to_file\u001b[1;34m(self, output_file, silent)\u001b[0m\n\u001b[0;32m    306\u001b[0m         \u001b[39mself\u001b[39m\u001b[39m.\u001b[39mconfig\u001b[39m.\u001b[39mhtml\u001b[39m.\u001b[39massets_prefix \u001b[39m=\u001b[39m \u001b[39mstr\u001b[39m(output_file\u001b[39m.\u001b[39mstem) \u001b[39m+\u001b[39m \u001b[39m\"\u001b[39m\u001b[39m_assets\u001b[39m\u001b[39m\"\u001b[39m\n\u001b[0;32m    307\u001b[0m     create_html_assets(\u001b[39mself\u001b[39m\u001b[39m.\u001b[39mconfig, output_file)\n\u001b[1;32m--> 309\u001b[0m data \u001b[39m=\u001b[39m \u001b[39mself\u001b[39;49m\u001b[39m.\u001b[39;49mto_html()\n\u001b[0;32m    311\u001b[0m \u001b[39mif\u001b[39;00m output_file\u001b[39m.\u001b[39msuffix \u001b[39m!=\u001b[39m \u001b[39m\"\u001b[39m\u001b[39m.html\u001b[39m\u001b[39m\"\u001b[39m:\n\u001b[0;32m    312\u001b[0m     suffix \u001b[39m=\u001b[39m output_file\u001b[39m.\u001b[39msuffix\n",
      "File \u001b[1;32md:\\projects\\customer_segmentation\\env\\lib\\site-packages\\typeguard\\__init__.py:1033\u001b[0m, in \u001b[0;36mtypechecked.<locals>.wrapper\u001b[1;34m(*args, **kwargs)\u001b[0m\n\u001b[0;32m   1031\u001b[0m memo \u001b[39m=\u001b[39m _CallMemo(python_func, _localns, args\u001b[39m=\u001b[39margs, kwargs\u001b[39m=\u001b[39mkwargs)\n\u001b[0;32m   1032\u001b[0m check_argument_types(memo)\n\u001b[1;32m-> 1033\u001b[0m retval \u001b[39m=\u001b[39m func(\u001b[39m*\u001b[39margs, \u001b[39m*\u001b[39m\u001b[39m*\u001b[39mkwargs)\n\u001b[0;32m   1034\u001b[0m \u001b[39mtry\u001b[39;00m:\n\u001b[0;32m   1035\u001b[0m     check_return_type(retval, memo)\n",
      "File \u001b[1;32md:\\projects\\customer_segmentation\\env\\lib\\site-packages\\pandas_profiling\\profile_report.py:420\u001b[0m, in \u001b[0;36mProfileReport.to_html\u001b[1;34m(self)\u001b[0m\n\u001b[0;32m    412\u001b[0m \u001b[39mdef\u001b[39;00m \u001b[39mto_html\u001b[39m(\u001b[39mself\u001b[39m) \u001b[39m-\u001b[39m\u001b[39m>\u001b[39m \u001b[39mstr\u001b[39m:\n\u001b[0;32m    413\u001b[0m \u001b[39m    \u001b[39m\u001b[39m\"\"\"Generate and return complete template as lengthy string\u001b[39;00m\n\u001b[0;32m    414\u001b[0m \u001b[39m        for using with frameworks.\u001b[39;00m\n\u001b[0;32m    415\u001b[0m \n\u001b[1;32m   (...)\u001b[0m\n\u001b[0;32m    418\u001b[0m \n\u001b[0;32m    419\u001b[0m \u001b[39m    \"\"\"\u001b[39;00m\n\u001b[1;32m--> 420\u001b[0m     \u001b[39mreturn\u001b[39;00m \u001b[39mself\u001b[39;49m\u001b[39m.\u001b[39;49mhtml\n",
      "File \u001b[1;32md:\\projects\\customer_segmentation\\env\\lib\\site-packages\\typeguard\\__init__.py:1033\u001b[0m, in \u001b[0;36mtypechecked.<locals>.wrapper\u001b[1;34m(*args, **kwargs)\u001b[0m\n\u001b[0;32m   1031\u001b[0m memo \u001b[39m=\u001b[39m _CallMemo(python_func, _localns, args\u001b[39m=\u001b[39margs, kwargs\u001b[39m=\u001b[39mkwargs)\n\u001b[0;32m   1032\u001b[0m check_argument_types(memo)\n\u001b[1;32m-> 1033\u001b[0m retval \u001b[39m=\u001b[39m func(\u001b[39m*\u001b[39margs, \u001b[39m*\u001b[39m\u001b[39m*\u001b[39mkwargs)\n\u001b[0;32m   1034\u001b[0m \u001b[39mtry\u001b[39;00m:\n\u001b[0;32m   1035\u001b[0m     check_return_type(retval, memo)\n",
      "File \u001b[1;32md:\\projects\\customer_segmentation\\env\\lib\\site-packages\\pandas_profiling\\profile_report.py:231\u001b[0m, in \u001b[0;36mProfileReport.html\u001b[1;34m(self)\u001b[0m\n\u001b[0;32m    228\u001b[0m \u001b[39m@property\u001b[39m\n\u001b[0;32m    229\u001b[0m \u001b[39mdef\u001b[39;00m \u001b[39mhtml\u001b[39m(\u001b[39mself\u001b[39m) \u001b[39m-\u001b[39m\u001b[39m>\u001b[39m \u001b[39mstr\u001b[39m:\n\u001b[0;32m    230\u001b[0m     \u001b[39mif\u001b[39;00m \u001b[39mself\u001b[39m\u001b[39m.\u001b[39m_html \u001b[39mis\u001b[39;00m \u001b[39mNone\u001b[39;00m:\n\u001b[1;32m--> 231\u001b[0m         \u001b[39mself\u001b[39m\u001b[39m.\u001b[39m_html \u001b[39m=\u001b[39m \u001b[39mself\u001b[39;49m\u001b[39m.\u001b[39;49m_render_html()\n\u001b[0;32m    232\u001b[0m     \u001b[39mreturn\u001b[39;00m \u001b[39mself\u001b[39m\u001b[39m.\u001b[39m_html\n",
      "File \u001b[1;32md:\\projects\\customer_segmentation\\env\\lib\\site-packages\\typeguard\\__init__.py:1033\u001b[0m, in \u001b[0;36mtypechecked.<locals>.wrapper\u001b[1;34m(*args, **kwargs)\u001b[0m\n\u001b[0;32m   1031\u001b[0m memo \u001b[39m=\u001b[39m _CallMemo(python_func, _localns, args\u001b[39m=\u001b[39margs, kwargs\u001b[39m=\u001b[39mkwargs)\n\u001b[0;32m   1032\u001b[0m check_argument_types(memo)\n\u001b[1;32m-> 1033\u001b[0m retval \u001b[39m=\u001b[39m func(\u001b[39m*\u001b[39margs, \u001b[39m*\u001b[39m\u001b[39m*\u001b[39mkwargs)\n\u001b[0;32m   1034\u001b[0m \u001b[39mtry\u001b[39;00m:\n\u001b[0;32m   1035\u001b[0m     check_return_type(retval, memo)\n",
      "File \u001b[1;32md:\\projects\\customer_segmentation\\env\\lib\\site-packages\\pandas_profiling\\profile_report.py:339\u001b[0m, in \u001b[0;36mProfileReport._render_html\u001b[1;34m(self)\u001b[0m\n\u001b[0;32m    336\u001b[0m \u001b[39mdef\u001b[39;00m \u001b[39m_render_html\u001b[39m(\u001b[39mself\u001b[39m) \u001b[39m-\u001b[39m\u001b[39m>\u001b[39m \u001b[39mstr\u001b[39m:\n\u001b[0;32m    337\u001b[0m     \u001b[39mfrom\u001b[39;00m \u001b[39mpandas_profiling\u001b[39;00m\u001b[39m.\u001b[39;00m\u001b[39mreport\u001b[39;00m\u001b[39m.\u001b[39;00m\u001b[39mpresentation\u001b[39;00m\u001b[39m.\u001b[39;00m\u001b[39mflavours\u001b[39;00m \u001b[39mimport\u001b[39;00m HTMLReport\n\u001b[1;32m--> 339\u001b[0m     report \u001b[39m=\u001b[39m \u001b[39mself\u001b[39;49m\u001b[39m.\u001b[39;49mreport\n\u001b[0;32m    341\u001b[0m     \u001b[39mwith\u001b[39;00m tqdm(\n\u001b[0;32m    342\u001b[0m         total\u001b[39m=\u001b[39m\u001b[39m1\u001b[39m, desc\u001b[39m=\u001b[39m\u001b[39m\"\u001b[39m\u001b[39mRender HTML\u001b[39m\u001b[39m\"\u001b[39m, disable\u001b[39m=\u001b[39m\u001b[39mnot\u001b[39;00m \u001b[39mself\u001b[39m\u001b[39m.\u001b[39mconfig\u001b[39m.\u001b[39mprogress_bar\n\u001b[0;32m    343\u001b[0m     ) \u001b[39mas\u001b[39;00m pbar:\n\u001b[0;32m    344\u001b[0m         html \u001b[39m=\u001b[39m HTMLReport(copy\u001b[39m.\u001b[39mdeepcopy(report))\u001b[39m.\u001b[39mrender(\n\u001b[0;32m    345\u001b[0m             nav\u001b[39m=\u001b[39m\u001b[39mself\u001b[39m\u001b[39m.\u001b[39mconfig\u001b[39m.\u001b[39mhtml\u001b[39m.\u001b[39mnavbar_show,\n\u001b[0;32m    346\u001b[0m             offline\u001b[39m=\u001b[39m\u001b[39mself\u001b[39m\u001b[39m.\u001b[39mconfig\u001b[39m.\u001b[39mhtml\u001b[39m.\u001b[39muse_local_assets,\n\u001b[1;32m   (...)\u001b[0m\n\u001b[0;32m    354\u001b[0m             version\u001b[39m=\u001b[39m\u001b[39mself\u001b[39m\u001b[39m.\u001b[39mdescription_set[\u001b[39m\"\u001b[39m\u001b[39mpackage\u001b[39m\u001b[39m\"\u001b[39m][\u001b[39m\"\u001b[39m\u001b[39mpandas_profiling_version\u001b[39m\u001b[39m\"\u001b[39m],\n\u001b[0;32m    355\u001b[0m         )\n",
      "File \u001b[1;32md:\\projects\\customer_segmentation\\env\\lib\\site-packages\\typeguard\\__init__.py:1033\u001b[0m, in \u001b[0;36mtypechecked.<locals>.wrapper\u001b[1;34m(*args, **kwargs)\u001b[0m\n\u001b[0;32m   1031\u001b[0m memo \u001b[39m=\u001b[39m _CallMemo(python_func, _localns, args\u001b[39m=\u001b[39margs, kwargs\u001b[39m=\u001b[39mkwargs)\n\u001b[0;32m   1032\u001b[0m check_argument_types(memo)\n\u001b[1;32m-> 1033\u001b[0m retval \u001b[39m=\u001b[39m func(\u001b[39m*\u001b[39margs, \u001b[39m*\u001b[39m\u001b[39m*\u001b[39mkwargs)\n\u001b[0;32m   1034\u001b[0m \u001b[39mtry\u001b[39;00m:\n\u001b[0;32m   1035\u001b[0m     check_return_type(retval, memo)\n",
      "File \u001b[1;32md:\\projects\\customer_segmentation\\env\\lib\\site-packages\\pandas_profiling\\profile_report.py:225\u001b[0m, in \u001b[0;36mProfileReport.report\u001b[1;34m(self)\u001b[0m\n\u001b[0;32m    222\u001b[0m \u001b[39m@property\u001b[39m\n\u001b[0;32m    223\u001b[0m \u001b[39mdef\u001b[39;00m \u001b[39mreport\u001b[39m(\u001b[39mself\u001b[39m) \u001b[39m-\u001b[39m\u001b[39m>\u001b[39m Root:\n\u001b[0;32m    224\u001b[0m     \u001b[39mif\u001b[39;00m \u001b[39mself\u001b[39m\u001b[39m.\u001b[39m_report \u001b[39mis\u001b[39;00m \u001b[39mNone\u001b[39;00m:\n\u001b[1;32m--> 225\u001b[0m         \u001b[39mself\u001b[39m\u001b[39m.\u001b[39m_report \u001b[39m=\u001b[39m get_report_structure(\u001b[39mself\u001b[39m\u001b[39m.\u001b[39mconfig, \u001b[39mself\u001b[39;49m\u001b[39m.\u001b[39;49mdescription_set)\n\u001b[0;32m    226\u001b[0m     \u001b[39mreturn\u001b[39;00m \u001b[39mself\u001b[39m\u001b[39m.\u001b[39m_report\n",
      "File \u001b[1;32md:\\projects\\customer_segmentation\\env\\lib\\site-packages\\typeguard\\__init__.py:1033\u001b[0m, in \u001b[0;36mtypechecked.<locals>.wrapper\u001b[1;34m(*args, **kwargs)\u001b[0m\n\u001b[0;32m   1031\u001b[0m memo \u001b[39m=\u001b[39m _CallMemo(python_func, _localns, args\u001b[39m=\u001b[39margs, kwargs\u001b[39m=\u001b[39mkwargs)\n\u001b[0;32m   1032\u001b[0m check_argument_types(memo)\n\u001b[1;32m-> 1033\u001b[0m retval \u001b[39m=\u001b[39m func(\u001b[39m*\u001b[39margs, \u001b[39m*\u001b[39m\u001b[39m*\u001b[39mkwargs)\n\u001b[0;32m   1034\u001b[0m \u001b[39mtry\u001b[39;00m:\n\u001b[0;32m   1035\u001b[0m     check_return_type(retval, memo)\n",
      "File \u001b[1;32md:\\projects\\customer_segmentation\\env\\lib\\site-packages\\pandas_profiling\\profile_report.py:207\u001b[0m, in \u001b[0;36mProfileReport.description_set\u001b[1;34m(self)\u001b[0m\n\u001b[0;32m    204\u001b[0m \u001b[39m@property\u001b[39m\n\u001b[0;32m    205\u001b[0m \u001b[39mdef\u001b[39;00m \u001b[39mdescription_set\u001b[39m(\u001b[39mself\u001b[39m) \u001b[39m-\u001b[39m\u001b[39m>\u001b[39m Dict[\u001b[39mstr\u001b[39m, Any]:\n\u001b[0;32m    206\u001b[0m     \u001b[39mif\u001b[39;00m \u001b[39mself\u001b[39m\u001b[39m.\u001b[39m_description_set \u001b[39mis\u001b[39;00m \u001b[39mNone\u001b[39;00m:\n\u001b[1;32m--> 207\u001b[0m         \u001b[39mself\u001b[39m\u001b[39m.\u001b[39m_description_set \u001b[39m=\u001b[39m describe_df(\n\u001b[0;32m    208\u001b[0m             \u001b[39mself\u001b[39;49m\u001b[39m.\u001b[39;49mconfig,\n\u001b[0;32m    209\u001b[0m             \u001b[39mself\u001b[39;49m\u001b[39m.\u001b[39;49mdf,\n\u001b[0;32m    210\u001b[0m             \u001b[39mself\u001b[39;49m\u001b[39m.\u001b[39;49msummarizer,\n\u001b[0;32m    211\u001b[0m             \u001b[39mself\u001b[39;49m\u001b[39m.\u001b[39;49mtypeset,\n\u001b[0;32m    212\u001b[0m             \u001b[39mself\u001b[39;49m\u001b[39m.\u001b[39;49m_sample,\n\u001b[0;32m    213\u001b[0m         )\n\u001b[0;32m    214\u001b[0m     \u001b[39mreturn\u001b[39;00m \u001b[39mself\u001b[39m\u001b[39m.\u001b[39m_description_set\n",
      "File \u001b[1;32md:\\projects\\customer_segmentation\\env\\lib\\site-packages\\pandas_profiling\\model\\describe.py:117\u001b[0m, in \u001b[0;36mdescribe\u001b[1;34m(config, df, summarizer, typeset, sample)\u001b[0m\n\u001b[0;32m    113\u001b[0m scatter_matrix: Dict[Any, Dict[Any, Any]] \u001b[39m=\u001b[39m {\n\u001b[0;32m    114\u001b[0m     x: {y: \u001b[39mNone\u001b[39;00m} \u001b[39mfor\u001b[39;00m x, y \u001b[39min\u001b[39;00m scatter_tasks\n\u001b[0;32m    115\u001b[0m }\n\u001b[0;32m    116\u001b[0m \u001b[39mfor\u001b[39;00m x, y \u001b[39min\u001b[39;00m scatter_tasks:\n\u001b[1;32m--> 117\u001b[0m     scatter_matrix[x][y] \u001b[39m=\u001b[39m progress(\n\u001b[0;32m    118\u001b[0m         get_scatter_plot, pbar, \u001b[39mf\u001b[39;49m\u001b[39m\"\u001b[39;49m\u001b[39mscatter \u001b[39;49m\u001b[39m{\u001b[39;49;00mx\u001b[39m}\u001b[39;49;00m\u001b[39m, \u001b[39;49m\u001b[39m{\u001b[39;49;00my\u001b[39m}\u001b[39;49;00m\u001b[39m\"\u001b[39;49m\n\u001b[0;32m    119\u001b[0m     )(config, df, x, y, interval_columns)\n\u001b[0;32m    121\u001b[0m \u001b[39m# Table statistics\u001b[39;00m\n\u001b[0;32m    122\u001b[0m table_stats \u001b[39m=\u001b[39m progress(get_table_stats, pbar, \u001b[39m\"\u001b[39m\u001b[39mGet dataframe statistics\u001b[39m\u001b[39m\"\u001b[39m)(\n\u001b[0;32m    123\u001b[0m     config, df, series_description\n\u001b[0;32m    124\u001b[0m )\n",
      "File \u001b[1;32md:\\projects\\customer_segmentation\\env\\lib\\site-packages\\pandas_profiling\\utils\\progress_bar.py:11\u001b[0m, in \u001b[0;36mprogress.<locals>.inner\u001b[1;34m(*args, **kwargs)\u001b[0m\n\u001b[0;32m      8\u001b[0m \u001b[39m@wraps\u001b[39m(fn)\n\u001b[0;32m      9\u001b[0m \u001b[39mdef\u001b[39;00m \u001b[39minner\u001b[39m(\u001b[39m*\u001b[39margs, \u001b[39m*\u001b[39m\u001b[39m*\u001b[39mkwargs) \u001b[39m-\u001b[39m\u001b[39m>\u001b[39m Any:\n\u001b[0;32m     10\u001b[0m     bar\u001b[39m.\u001b[39mset_postfix_str(message)\n\u001b[1;32m---> 11\u001b[0m     ret \u001b[39m=\u001b[39m fn(\u001b[39m*\u001b[39margs, \u001b[39m*\u001b[39m\u001b[39m*\u001b[39mkwargs)\n\u001b[0;32m     12\u001b[0m     bar\u001b[39m.\u001b[39mupdate()\n\u001b[0;32m     13\u001b[0m     \u001b[39mreturn\u001b[39;00m ret\n",
      "File \u001b[1;32md:\\projects\\customer_segmentation\\env\\lib\\site-packages\\pandas_profiling\\model\\pairwise.py:31\u001b[0m, in \u001b[0;36mget_scatter_plot\u001b[1;34m(config, df, x, y, continuous_variables)\u001b[0m\n\u001b[0;32m     29\u001b[0m     \u001b[39melse\u001b[39;00m:\n\u001b[0;32m     30\u001b[0m         df_temp \u001b[39m=\u001b[39m df[[x, y]]\u001b[39m.\u001b[39mdropna()\n\u001b[1;32m---> 31\u001b[0m     \u001b[39mreturn\u001b[39;00m scatter_pairwise(config, df_temp[x], df_temp[y], x, y)\n\u001b[0;32m     32\u001b[0m \u001b[39melse\u001b[39;00m:\n\u001b[0;32m     33\u001b[0m     \u001b[39mreturn\u001b[39;00m \u001b[39m\"\u001b[39m\u001b[39m\"\u001b[39m\n",
      "File \u001b[1;32md:\\projects\\customer_segmentation\\env\\lib\\contextlib.py:78\u001b[0m, in \u001b[0;36mContextDecorator.__call__.<locals>.inner\u001b[1;34m(*args, **kwds)\u001b[0m\n\u001b[0;32m     76\u001b[0m \u001b[39m@wraps\u001b[39m(func)\n\u001b[0;32m     77\u001b[0m \u001b[39mdef\u001b[39;00m \u001b[39minner\u001b[39m(\u001b[39m*\u001b[39margs, \u001b[39m*\u001b[39m\u001b[39m*\u001b[39mkwds):\n\u001b[1;32m---> 78\u001b[0m     \u001b[39mwith\u001b[39;00m \u001b[39mself\u001b[39m\u001b[39m.\u001b[39m_recreate_cm():\n\u001b[0;32m     79\u001b[0m         \u001b[39mreturn\u001b[39;00m func(\u001b[39m*\u001b[39margs, \u001b[39m*\u001b[39m\u001b[39m*\u001b[39mkwds)\n",
      "File \u001b[1;32md:\\projects\\customer_segmentation\\env\\lib\\contextlib.py:142\u001b[0m, in \u001b[0;36m_GeneratorContextManager.__exit__\u001b[1;34m(self, typ, value, traceback)\u001b[0m\n\u001b[0;32m    140\u001b[0m \u001b[39mif\u001b[39;00m typ \u001b[39mis\u001b[39;00m \u001b[39mNone\u001b[39;00m:\n\u001b[0;32m    141\u001b[0m     \u001b[39mtry\u001b[39;00m:\n\u001b[1;32m--> 142\u001b[0m         \u001b[39mnext\u001b[39;49m(\u001b[39mself\u001b[39;49m\u001b[39m.\u001b[39;49mgen)\n\u001b[0;32m    143\u001b[0m     \u001b[39mexcept\u001b[39;00m \u001b[39mStopIteration\u001b[39;00m:\n\u001b[0;32m    144\u001b[0m         \u001b[39mreturn\u001b[39;00m \u001b[39mFalse\u001b[39;00m\n",
      "File \u001b[1;32md:\\projects\\customer_segmentation\\env\\lib\\site-packages\\pandas_profiling\\visualisation\\context.py:85\u001b[0m, in \u001b[0;36mmanage_matplotlib_context\u001b[1;34m()\u001b[0m\n\u001b[0;32m     83\u001b[0m deregister_matplotlib_converters()  \u001b[39m# revert to original unit registries\u001b[39;00m\n\u001b[0;32m     84\u001b[0m \u001b[39mwith\u001b[39;00m warnings\u001b[39m.\u001b[39mcatch_warnings():\n\u001b[1;32m---> 85\u001b[0m     warnings\u001b[39m.\u001b[39mfilterwarnings(\u001b[39m\"\u001b[39m\u001b[39mignore\u001b[39m\u001b[39m\"\u001b[39m, category\u001b[39m=\u001b[39mmatplotlib\u001b[39m.\u001b[39;49mcbook\u001b[39m.\u001b[39;49mmplDeprecation)\n\u001b[0;32m     86\u001b[0m     matplotlib\u001b[39m.\u001b[39mrcParams\u001b[39m.\u001b[39mupdate(originalRcParams)\n",
      "\u001b[1;31mAttributeError\u001b[0m: module 'matplotlib.cbook' has no attribute 'mplDeprecation'"
     ]
    }
   ],
   "source": [
    "import numpy as np\n",
    "import pandas as pd\n",
    "from pandas_profiling import ProfileReport\n",
    "report = ProfileReport(df1)\n",
    "report.to_file(output_file='output.html')\n"
   ]
  },
  {
   "cell_type": "code",
   "execution_count": null,
   "metadata": {},
   "outputs": [],
   "source": []
  }
 ],
 "metadata": {
  "kernelspec": {
   "display_name": "Python 3",
   "language": "python",
   "name": "python3"
  },
  "language_info": {
   "codemirror_mode": {
    "name": "ipython",
    "version": 3
   },
   "file_extension": ".py",
   "mimetype": "text/x-python",
   "name": "python",
   "nbconvert_exporter": "python",
   "pygments_lexer": "ipython3",
   "version": "3.10.12"
  },
  "orig_nbformat": 4
 },
 "nbformat": 4,
 "nbformat_minor": 2
}
