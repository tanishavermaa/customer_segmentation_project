{
 "cells": [
  {
   "cell_type": "code",
   "execution_count": 3,
   "metadata": {},
   "outputs": [],
   "source": [
    "import pandas as pd\n",
    "import numpy as np\n",
    "import seaborn as sns\n",
    "import matplotlib.pyplot as plt\n",
    "import matplotlib_inline"
   ]
  },
  {
   "cell_type": "code",
   "execution_count": 4,
   "metadata": {},
   "outputs": [
    {
     "data": {
      "text/html": [
       "<div>\n",
       "<style scoped>\n",
       "    .dataframe tbody tr th:only-of-type {\n",
       "        vertical-align: middle;\n",
       "    }\n",
       "\n",
       "    .dataframe tbody tr th {\n",
       "        vertical-align: top;\n",
       "    }\n",
       "\n",
       "    .dataframe thead th {\n",
       "        text-align: right;\n",
       "    }\n",
       "</style>\n",
       "<table border=\"1\" class=\"dataframe\">\n",
       "  <thead>\n",
       "    <tr style=\"text-align: right;\">\n",
       "      <th></th>\n",
       "      <th>InvoiceNo</th>\n",
       "      <th>StockCode</th>\n",
       "      <th>Description</th>\n",
       "      <th>Quantity</th>\n",
       "      <th>InvoiceDate</th>\n",
       "      <th>UnitPrice</th>\n",
       "      <th>CustomerID</th>\n",
       "      <th>Country</th>\n",
       "    </tr>\n",
       "  </thead>\n",
       "  <tbody>\n",
       "    <tr>\n",
       "      <th>0</th>\n",
       "      <td>536365</td>\n",
       "      <td>85123A</td>\n",
       "      <td>WHITE HANGING HEART T-LIGHT HOLDER</td>\n",
       "      <td>6</td>\n",
       "      <td>2010-12-01 08:26:00</td>\n",
       "      <td>2.55</td>\n",
       "      <td>17850.0</td>\n",
       "      <td>United Kingdom</td>\n",
       "    </tr>\n",
       "    <tr>\n",
       "      <th>1</th>\n",
       "      <td>536365</td>\n",
       "      <td>71053</td>\n",
       "      <td>WHITE METAL LANTERN</td>\n",
       "      <td>6</td>\n",
       "      <td>2010-12-01 08:26:00</td>\n",
       "      <td>3.39</td>\n",
       "      <td>17850.0</td>\n",
       "      <td>United Kingdom</td>\n",
       "    </tr>\n",
       "    <tr>\n",
       "      <th>2</th>\n",
       "      <td>536365</td>\n",
       "      <td>84406B</td>\n",
       "      <td>CREAM CUPID HEARTS COAT HANGER</td>\n",
       "      <td>8</td>\n",
       "      <td>2010-12-01 08:26:00</td>\n",
       "      <td>2.75</td>\n",
       "      <td>17850.0</td>\n",
       "      <td>United Kingdom</td>\n",
       "    </tr>\n",
       "    <tr>\n",
       "      <th>3</th>\n",
       "      <td>536365</td>\n",
       "      <td>84029G</td>\n",
       "      <td>KNITTED UNION FLAG HOT WATER BOTTLE</td>\n",
       "      <td>6</td>\n",
       "      <td>2010-12-01 08:26:00</td>\n",
       "      <td>3.39</td>\n",
       "      <td>17850.0</td>\n",
       "      <td>United Kingdom</td>\n",
       "    </tr>\n",
       "    <tr>\n",
       "      <th>4</th>\n",
       "      <td>536365</td>\n",
       "      <td>84029E</td>\n",
       "      <td>RED WOOLLY HOTTIE WHITE HEART.</td>\n",
       "      <td>6</td>\n",
       "      <td>2010-12-01 08:26:00</td>\n",
       "      <td>3.39</td>\n",
       "      <td>17850.0</td>\n",
       "      <td>United Kingdom</td>\n",
       "    </tr>\n",
       "  </tbody>\n",
       "</table>\n",
       "</div>"
      ],
      "text/plain": [
       "  InvoiceNo StockCode                          Description  Quantity  \\\n",
       "0    536365    85123A   WHITE HANGING HEART T-LIGHT HOLDER         6   \n",
       "1    536365     71053                  WHITE METAL LANTERN         6   \n",
       "2    536365    84406B       CREAM CUPID HEARTS COAT HANGER         8   \n",
       "3    536365    84029G  KNITTED UNION FLAG HOT WATER BOTTLE         6   \n",
       "4    536365    84029E       RED WOOLLY HOTTIE WHITE HEART.         6   \n",
       "\n",
       "          InvoiceDate  UnitPrice  CustomerID         Country  \n",
       "0 2010-12-01 08:26:00       2.55     17850.0  United Kingdom  \n",
       "1 2010-12-01 08:26:00       3.39     17850.0  United Kingdom  \n",
       "2 2010-12-01 08:26:00       2.75     17850.0  United Kingdom  \n",
       "3 2010-12-01 08:26:00       3.39     17850.0  United Kingdom  \n",
       "4 2010-12-01 08:26:00       3.39     17850.0  United Kingdom  "
      ]
     },
     "execution_count": 4,
     "metadata": {},
     "output_type": "execute_result"
    }
   ],
   "source": [
    "df=pd.read_excel(\"Online_Retail.xlsx\")\n",
    "df.head()"
   ]
  },
  {
   "cell_type": "code",
   "execution_count": 5,
   "metadata": {},
   "outputs": [
    {
     "data": {
      "text/html": [
       "<div>\n",
       "<style scoped>\n",
       "    .dataframe tbody tr th:only-of-type {\n",
       "        vertical-align: middle;\n",
       "    }\n",
       "\n",
       "    .dataframe tbody tr th {\n",
       "        vertical-align: top;\n",
       "    }\n",
       "\n",
       "    .dataframe thead th {\n",
       "        text-align: right;\n",
       "    }\n",
       "</style>\n",
       "<table border=\"1\" class=\"dataframe\">\n",
       "  <thead>\n",
       "    <tr style=\"text-align: right;\">\n",
       "      <th></th>\n",
       "      <th>InvoiceNo</th>\n",
       "      <th>StockCode</th>\n",
       "      <th>Description</th>\n",
       "      <th>Quantity</th>\n",
       "      <th>InvoiceDate</th>\n",
       "      <th>UnitPrice</th>\n",
       "      <th>CustomerID</th>\n",
       "      <th>Country</th>\n",
       "    </tr>\n",
       "  </thead>\n",
       "  <tbody>\n",
       "    <tr>\n",
       "      <th>541904</th>\n",
       "      <td>581587</td>\n",
       "      <td>22613</td>\n",
       "      <td>PACK OF 20 SPACEBOY NAPKINS</td>\n",
       "      <td>12</td>\n",
       "      <td>2011-12-09 12:50:00</td>\n",
       "      <td>0.85</td>\n",
       "      <td>12680.0</td>\n",
       "      <td>France</td>\n",
       "    </tr>\n",
       "    <tr>\n",
       "      <th>541905</th>\n",
       "      <td>581587</td>\n",
       "      <td>22899</td>\n",
       "      <td>CHILDREN'S APRON DOLLY GIRL</td>\n",
       "      <td>6</td>\n",
       "      <td>2011-12-09 12:50:00</td>\n",
       "      <td>2.10</td>\n",
       "      <td>12680.0</td>\n",
       "      <td>France</td>\n",
       "    </tr>\n",
       "    <tr>\n",
       "      <th>541906</th>\n",
       "      <td>581587</td>\n",
       "      <td>23254</td>\n",
       "      <td>CHILDRENS CUTLERY DOLLY GIRL</td>\n",
       "      <td>4</td>\n",
       "      <td>2011-12-09 12:50:00</td>\n",
       "      <td>4.15</td>\n",
       "      <td>12680.0</td>\n",
       "      <td>France</td>\n",
       "    </tr>\n",
       "    <tr>\n",
       "      <th>541907</th>\n",
       "      <td>581587</td>\n",
       "      <td>23255</td>\n",
       "      <td>CHILDRENS CUTLERY CIRCUS PARADE</td>\n",
       "      <td>4</td>\n",
       "      <td>2011-12-09 12:50:00</td>\n",
       "      <td>4.15</td>\n",
       "      <td>12680.0</td>\n",
       "      <td>France</td>\n",
       "    </tr>\n",
       "    <tr>\n",
       "      <th>541908</th>\n",
       "      <td>581587</td>\n",
       "      <td>22138</td>\n",
       "      <td>BAKING SET 9 PIECE RETROSPOT</td>\n",
       "      <td>3</td>\n",
       "      <td>2011-12-09 12:50:00</td>\n",
       "      <td>4.95</td>\n",
       "      <td>12680.0</td>\n",
       "      <td>France</td>\n",
       "    </tr>\n",
       "  </tbody>\n",
       "</table>\n",
       "</div>"
      ],
      "text/plain": [
       "       InvoiceNo StockCode                      Description  Quantity  \\\n",
       "541904    581587     22613      PACK OF 20 SPACEBOY NAPKINS        12   \n",
       "541905    581587     22899     CHILDREN'S APRON DOLLY GIRL          6   \n",
       "541906    581587     23254    CHILDRENS CUTLERY DOLLY GIRL          4   \n",
       "541907    581587     23255  CHILDRENS CUTLERY CIRCUS PARADE         4   \n",
       "541908    581587     22138    BAKING SET 9 PIECE RETROSPOT          3   \n",
       "\n",
       "               InvoiceDate  UnitPrice  CustomerID Country  \n",
       "541904 2011-12-09 12:50:00       0.85     12680.0  France  \n",
       "541905 2011-12-09 12:50:00       2.10     12680.0  France  \n",
       "541906 2011-12-09 12:50:00       4.15     12680.0  France  \n",
       "541907 2011-12-09 12:50:00       4.15     12680.0  France  \n",
       "541908 2011-12-09 12:50:00       4.95     12680.0  France  "
      ]
     },
     "execution_count": 5,
     "metadata": {},
     "output_type": "execute_result"
    }
   ],
   "source": [
    "df.tail()"
   ]
  },
  {
   "cell_type": "code",
   "execution_count": 6,
   "metadata": {},
   "outputs": [
    {
     "name": "stdout",
     "output_type": "stream",
     "text": [
      "<class 'pandas.core.frame.DataFrame'>\n",
      "RangeIndex: 541909 entries, 0 to 541908\n",
      "Data columns (total 8 columns):\n",
      " #   Column       Non-Null Count   Dtype         \n",
      "---  ------       --------------   -----         \n",
      " 0   InvoiceNo    541909 non-null  object        \n",
      " 1   StockCode    541909 non-null  object        \n",
      " 2   Description  540455 non-null  object        \n",
      " 3   Quantity     541909 non-null  int64         \n",
      " 4   InvoiceDate  541909 non-null  datetime64[ns]\n",
      " 5   UnitPrice    541909 non-null  float64       \n",
      " 6   CustomerID   406829 non-null  float64       \n",
      " 7   Country      541909 non-null  object        \n",
      "dtypes: datetime64[ns](1), float64(2), int64(1), object(4)\n",
      "memory usage: 33.1+ MB\n"
     ]
    }
   ],
   "source": [
    "df.info()"
   ]
  },
  {
   "cell_type": "markdown",
   "metadata": {},
   "source": [
    "This dataset contains approximately 5.4 lac entries."
   ]
  },
  {
   "cell_type": "markdown",
   "metadata": {},
   "source": [
    "Dataset has 8 features in which 4 features are of categorical type, 1 feature is integer type , 2 floating point features and a datetime feature."
   ]
  },
  {
   "cell_type": "code",
   "execution_count": 7,
   "metadata": {},
   "outputs": [
    {
     "data": {
      "text/html": [
       "<div>\n",
       "<style scoped>\n",
       "    .dataframe tbody tr th:only-of-type {\n",
       "        vertical-align: middle;\n",
       "    }\n",
       "\n",
       "    .dataframe tbody tr th {\n",
       "        vertical-align: top;\n",
       "    }\n",
       "\n",
       "    .dataframe thead th {\n",
       "        text-align: right;\n",
       "    }\n",
       "</style>\n",
       "<table border=\"1\" class=\"dataframe\">\n",
       "  <thead>\n",
       "    <tr style=\"text-align: right;\">\n",
       "      <th></th>\n",
       "      <th>Quantity</th>\n",
       "      <th>InvoiceDate</th>\n",
       "      <th>UnitPrice</th>\n",
       "      <th>CustomerID</th>\n",
       "    </tr>\n",
       "  </thead>\n",
       "  <tbody>\n",
       "    <tr>\n",
       "      <th>count</th>\n",
       "      <td>541909.000000</td>\n",
       "      <td>541909</td>\n",
       "      <td>541909.000000</td>\n",
       "      <td>406829.000000</td>\n",
       "    </tr>\n",
       "    <tr>\n",
       "      <th>mean</th>\n",
       "      <td>9.552250</td>\n",
       "      <td>2011-07-04 13:34:57.156386048</td>\n",
       "      <td>4.611114</td>\n",
       "      <td>15287.690570</td>\n",
       "    </tr>\n",
       "    <tr>\n",
       "      <th>min</th>\n",
       "      <td>-80995.000000</td>\n",
       "      <td>2010-12-01 08:26:00</td>\n",
       "      <td>-11062.060000</td>\n",
       "      <td>12346.000000</td>\n",
       "    </tr>\n",
       "    <tr>\n",
       "      <th>25%</th>\n",
       "      <td>1.000000</td>\n",
       "      <td>2011-03-28 11:34:00</td>\n",
       "      <td>1.250000</td>\n",
       "      <td>13953.000000</td>\n",
       "    </tr>\n",
       "    <tr>\n",
       "      <th>50%</th>\n",
       "      <td>3.000000</td>\n",
       "      <td>2011-07-19 17:17:00</td>\n",
       "      <td>2.080000</td>\n",
       "      <td>15152.000000</td>\n",
       "    </tr>\n",
       "    <tr>\n",
       "      <th>75%</th>\n",
       "      <td>10.000000</td>\n",
       "      <td>2011-10-19 11:27:00</td>\n",
       "      <td>4.130000</td>\n",
       "      <td>16791.000000</td>\n",
       "    </tr>\n",
       "    <tr>\n",
       "      <th>max</th>\n",
       "      <td>80995.000000</td>\n",
       "      <td>2011-12-09 12:50:00</td>\n",
       "      <td>38970.000000</td>\n",
       "      <td>18287.000000</td>\n",
       "    </tr>\n",
       "    <tr>\n",
       "      <th>std</th>\n",
       "      <td>218.081158</td>\n",
       "      <td>NaN</td>\n",
       "      <td>96.759853</td>\n",
       "      <td>1713.600303</td>\n",
       "    </tr>\n",
       "  </tbody>\n",
       "</table>\n",
       "</div>"
      ],
      "text/plain": [
       "            Quantity                    InvoiceDate      UnitPrice  \\\n",
       "count  541909.000000                         541909  541909.000000   \n",
       "mean        9.552250  2011-07-04 13:34:57.156386048       4.611114   \n",
       "min    -80995.000000            2010-12-01 08:26:00  -11062.060000   \n",
       "25%         1.000000            2011-03-28 11:34:00       1.250000   \n",
       "50%         3.000000            2011-07-19 17:17:00       2.080000   \n",
       "75%        10.000000            2011-10-19 11:27:00       4.130000   \n",
       "max     80995.000000            2011-12-09 12:50:00   38970.000000   \n",
       "std       218.081158                            NaN      96.759853   \n",
       "\n",
       "          CustomerID  \n",
       "count  406829.000000  \n",
       "mean    15287.690570  \n",
       "min     12346.000000  \n",
       "25%     13953.000000  \n",
       "50%     15152.000000  \n",
       "75%     16791.000000  \n",
       "max     18287.000000  \n",
       "std      1713.600303  "
      ]
     },
     "execution_count": 7,
     "metadata": {},
     "output_type": "execute_result"
    }
   ],
   "source": [
    "df.describe()"
   ]
  },
  {
   "cell_type": "code",
   "execution_count": 8,
   "metadata": {},
   "outputs": [
    {
     "data": {
      "text/plain": [
       "5268"
      ]
     },
     "execution_count": 8,
     "metadata": {},
     "output_type": "execute_result"
    }
   ],
   "source": [
    "df.duplicated().sum()"
   ]
  },
  {
   "cell_type": "markdown",
   "metadata": {},
   "source": [
    "This dataset has 5268 duplicated values."
   ]
  },
  {
   "cell_type": "code",
   "execution_count": 9,
   "metadata": {},
   "outputs": [
    {
     "data": {
      "text/plain": [
       "Index(['InvoiceNo', 'StockCode', 'Description', 'Quantity', 'InvoiceDate',\n",
       "       'UnitPrice', 'CustomerID', 'Country'],\n",
       "      dtype='object')"
      ]
     },
     "execution_count": 9,
     "metadata": {},
     "output_type": "execute_result"
    }
   ],
   "source": [
    "df.columns"
   ]
  },
  {
   "cell_type": "code",
   "execution_count": 10,
   "metadata": {},
   "outputs": [
    {
     "data": {
      "text/plain": [
       "array([536365, 536366, 536367, ..., 581585, 581586, 581587], dtype=object)"
      ]
     },
     "execution_count": 10,
     "metadata": {},
     "output_type": "execute_result"
    }
   ],
   "source": [
    "df[\"InvoiceNo\"].unique()"
   ]
  },
  {
   "cell_type": "code",
   "execution_count": 11,
   "metadata": {},
   "outputs": [
    {
     "data": {
      "text/plain": [
       "4070"
      ]
     },
     "execution_count": 11,
     "metadata": {},
     "output_type": "execute_result"
    }
   ],
   "source": [
    "\n",
    "a=df[\"StockCode\"].unique()\n",
    "len(a)"
   ]
  },
  {
   "cell_type": "code",
   "execution_count": 12,
   "metadata": {},
   "outputs": [
    {
     "data": {
      "text/plain": [
       "4224"
      ]
     },
     "execution_count": 12,
     "metadata": {},
     "output_type": "execute_result"
    }
   ],
   "source": [
    "b=df[\"Description\"].unique()\n",
    "len(b)"
   ]
  },
  {
   "cell_type": "code",
   "execution_count": 13,
   "metadata": {},
   "outputs": [
    {
     "data": {
      "text/plain": [
       "array([     6,      8,      2,     32,      3,      4,     24,     12,\n",
       "           48,     18,     20,     36,     80,     64,     10,    120,\n",
       "           96,     23,      5,      1,     -1,     50,     40,    100,\n",
       "          192,    432,    144,    288,    -12,    -24,     16,      9,\n",
       "          128,     25,     30,     28,      7,     56,     72,    200,\n",
       "          600,    480,     -6,     14,     -2,     11,     33,     13,\n",
       "           -4,     -5,     -7,     -3,     70,    252,     60,    216,\n",
       "          384,    -10,     27,     15,     22,     19,     17,     21,\n",
       "           34,     47,    108,     52,  -9360,    -38,     75,    270,\n",
       "           42,    240,     90,    320,   1824,    204,     69,    -36,\n",
       "         -192,   -144,    160,   2880,   1400,     39,    -48,    -50,\n",
       "           26,   1440,     31,     82,     78,     97,     98,     35,\n",
       "           57,    -20,    110,    -22,    -30,    -70,   -130,    -80,\n",
       "         -120,    -40,    -25,    -14,    -15,    -69,   -140,   -320,\n",
       "           -8,    720,    156,    324,     38,     37,     49,     95,\n",
       "           -9,    -11,     29,     41,    -72,    -35,    -21,    -43,\n",
       "          -19,    -18,    -44,    402,    378,    150,    300,     54,\n",
       "          104,     67,    258,     66,     44,     55,     46,     99,\n",
       "           61,    408,    972,    208,   1008,   1000,    -77,   1488,\n",
       "          250,   1394,    400,   -223,   -150,    -13,    -33,   -723,\n",
       "         -177,     79,     84,    -32,   -100,    -28,    272,   -145,\n",
       "          -47,    -96,    113,     45,    106,     68,    267,    115,\n",
       "           65,   1728,    -60,    -16,     53,   -240,     76,    460,\n",
       "           71,     43,    213,     58,    576,   2400,    500,    180,\n",
       "         -300,   -500,    -23,    752,    960,   1296,    210,    172,\n",
       "          215,    129,    138,    116,    135,    197,   -106,    -54,\n",
       "          -17,   -939,    147,    168,    256,   -201,    -53,    -29,\n",
       "        -2600,   -990,   -290,    -45,    860,   1010,   1356,   1284,\n",
       "          186,    114,    360,   1930,   2000,   3114,   1300,    670,\n",
       "          111,    211,     59,   -310,    -61,    -41,    176,    648,\n",
       "           62,  74215, -74215,    -64,    -84,     89,  -1400,     73,\n",
       "          -57,    112,    456,    -59,    -31,   5568,   2560,    136,\n",
       "          900,   -600,    -42,    -94,   -207,    -52,    130,   -206,\n",
       "         2592,    420,    800,    101,   1200,    864,   -217,     94,\n",
       "        -1430,   1287,   -162,   -230,   -173,   -390,   -234,    504,\n",
       "          123,    118,    -76,   -200,   1056,   1500,    280,    407,\n",
       "          141,    124,    -99,     51,    -92,   -741,   3906,   -400,\n",
       "         -114,    102,   1152,    -88,    198,    117,     86,   -720,\n",
       "          125,    -86,   -391,    -87,   -278,    140,    228,   -154,\n",
       "        -3000,     81,   -675,   -210,   -345,   -975,  -1200,  -1121,\n",
       "          -27,   -541,  -1277,   -197,   3000,  -1100,    -63,  -5368,\n",
       "          219,   -259,    232,    -82,   -178,    170,   -110,    768,\n",
       "           88,    700,   -102,   2160,   -323,   -450,   -232,    -83,\n",
       "         -153,   -524,  -2472,    -49,   -105,    342,    304,    167,\n",
       "          -34,    640,    175,    220,     74,     93,    164,    163,\n",
       "           63,    637,    122,    158,    165,    350,    -46,    -75,\n",
       "         -690,    -39,    -66,     83,    312,   -180,    392,   -624,\n",
       "         -194,    -26,    -62,    -37,    -91,   -139,   -158,  -1479,\n",
       "          -55,   -576,   -750,    330,    151,    -93,   -432,    -58,\n",
       "        -1092,   -670,  -1300,  -1930,  -2000,  -3114,    462,    -65,\n",
       "          -68,    492,   -620,    273,    -90,   -170,  -1512,    -51,\n",
       "           85,    -56,   -160,   -360,    105,   -960,  -2376,   1350,\n",
       "          428,  -1350,    336,   -786,   -590,   -168,   -101,    -71,\n",
       "          132,   -413,   -664,    227,   2700,    222,    246,    906,\n",
       "          756,    888,    552,    -97,    224,    738,    608,   -212,\n",
       "         4300,    146,    143,    276,   -125,   -116,   -108,   4000,\n",
       "         -304,   -272,  -1206,    -95,   1600,    323,   -161,   -472,\n",
       "         -618,   -204,   1515,  -1515,  -9058,  -9600,    660,   -420,\n",
       "         -126,   -220,   -271,  -1440,    264,    188,    588,    612,\n",
       "          152,   -324,   -480,   -164,    -78,   -118,    430,  -1681,\n",
       "           87,    155,    701,    828,    540,    696,    560,   -250,\n",
       "         -408,   -179,    121,   -124,    512,   -251,  -3100,   3100,\n",
       "         -169,    126,    291,   3186,  -2834,   -109,    109,   -121,\n",
       "         -530,   -227,    261,   -346,    352,    142,    107,   -188,\n",
       "        -1060,   -342,   -288,    348,   1900,    157,   -343,   -455,\n",
       "          425,    968,    684,    824,   -828,   -701,    196,    248,\n",
       "          410,    236,    230,   -156,   -553,    145,    448,    245,\n",
       "         -252,   -334,   -318,   -113,   -115,    171,   -242,    840,\n",
       "         -967,   -203,  -3167,   -443,  -1897,    225,   -434,    750,\n",
       "         -682,   -484,    682,    344,   -635,   -117,  -3667,    450,\n",
       "          310,    494,   -384,     92,   1788,   -138,    624,    744,\n",
       "          416,    496,    396,    306,   1878,   1944,    666,    708,\n",
       "         1428,    852,   1412,    528,   -756,   -752,   -152,    -85,\n",
       "         -312,    -79,   -147,    -67,   -131,    183,   -209,   -186,\n",
       "         -231,   -129,   -458,   -275,  -2880,   1540,    672,   -800,\n",
       "         -430,   -380,    -74,   -840,  -1296,   -365,   -104,   -270,\n",
       "          -73,   -306,     91,    255,    468,   -468,   -111,   -184,\n",
       "         -103,   -335,   4800,   -112,  -1000,    912,   1992,    184,\n",
       "          148,   -657,  -1671,  -1158,  -2618,  -2003,   -674,  -4830,\n",
       "         -905,  -1128,    832,    992,    630,   1020,   2100,    162,\n",
       "        -1560,  -1284,    -81,    314,    370,    131,    133,    484,\n",
       "          149,    153,    257,    139,    137,    628,    179,   1820,\n",
       "          478,    335,    253,    242,    375,   -276,   -256,    281,\n",
       "          193,    181,    404,    244,    207,    199,   1130,    326,\n",
       "          654,    688,    268,    249,   -864,    234,  -1510,   -550,\n",
       "         -244,   -132,   -327,   -313,    279,   -398,   -280,    374,\n",
       "         -504,   -696,   -149,   -224,   -428,    212,   -267,   -175,\n",
       "        12540,    760,    -98,    774,   -151,   2040,  -1131,   -135,\n",
       "         1120,     77,   -900,    177,    490,    388,    620,   1404,\n",
       "         -155,   -355,   -337,  -1050,   -338,    205,   -235,    698,\n",
       "        80995, -80995], dtype=int64)"
      ]
     },
     "execution_count": 13,
     "metadata": {},
     "output_type": "execute_result"
    }
   ],
   "source": [
    "df[\"Quantity\"].unique()"
   ]
  },
  {
   "cell_type": "code",
   "execution_count": 14,
   "metadata": {},
   "outputs": [
    {
     "data": {
      "text/plain": [
       "<DatetimeArray>\n",
       "['2010-12-01 08:26:00', '2010-12-01 08:28:00', '2010-12-01 08:34:00',\n",
       " '2010-12-01 08:35:00', '2010-12-01 08:45:00', '2010-12-01 09:00:00',\n",
       " '2010-12-01 09:01:00', '2010-12-01 09:02:00', '2010-12-01 09:09:00',\n",
       " '2010-12-01 09:32:00',\n",
       " ...\n",
       " '2011-12-09 12:09:00', '2011-12-09 12:16:00', '2011-12-09 12:19:00',\n",
       " '2011-12-09 12:20:00', '2011-12-09 12:21:00', '2011-12-09 12:23:00',\n",
       " '2011-12-09 12:25:00', '2011-12-09 12:31:00', '2011-12-09 12:49:00',\n",
       " '2011-12-09 12:50:00']\n",
       "Length: 23260, dtype: datetime64[ns]"
      ]
     },
     "execution_count": 14,
     "metadata": {},
     "output_type": "execute_result"
    }
   ],
   "source": [
    "df[\"InvoiceDate\"].unique()"
   ]
  },
  {
   "cell_type": "code",
   "execution_count": 15,
   "metadata": {},
   "outputs": [
    {
     "data": {
      "text/plain": [
       "array([   2.55,    3.39,    2.75, ...,  933.17, 1714.17,  224.69])"
      ]
     },
     "execution_count": 15,
     "metadata": {},
     "output_type": "execute_result"
    }
   ],
   "source": [
    "df[\"UnitPrice\"].unique()"
   ]
  },
  {
   "cell_type": "code",
   "execution_count": 16,
   "metadata": {},
   "outputs": [
    {
     "data": {
      "text/plain": [
       "array([17850., 13047., 12583., ..., 13298., 14569., 12713.])"
      ]
     },
     "execution_count": 16,
     "metadata": {},
     "output_type": "execute_result"
    }
   ],
   "source": [
    "df[\"CustomerID\"].unique()"
   ]
  },
  {
   "cell_type": "code",
   "execution_count": 17,
   "metadata": {},
   "outputs": [
    {
     "data": {
      "text/plain": [
       "38"
      ]
     },
     "execution_count": 17,
     "metadata": {},
     "output_type": "execute_result"
    }
   ],
   "source": [
    "c=df[\"Country\"].unique()\n",
    "len(c)"
   ]
  },
  {
   "cell_type": "markdown",
   "metadata": {},
   "source": [
    "The unique values present in the dataset have been displayed in an array and number of unique values of the categorical features are shown."
   ]
  },
  {
   "cell_type": "code",
   "execution_count": 18,
   "metadata": {},
   "outputs": [
    {
     "data": {
      "text/html": [
       "<div>\n",
       "<style scoped>\n",
       "    .dataframe tbody tr th:only-of-type {\n",
       "        vertical-align: middle;\n",
       "    }\n",
       "\n",
       "    .dataframe tbody tr th {\n",
       "        vertical-align: top;\n",
       "    }\n",
       "\n",
       "    .dataframe thead th {\n",
       "        text-align: right;\n",
       "    }\n",
       "</style>\n",
       "<table border=\"1\" class=\"dataframe\">\n",
       "  <thead>\n",
       "    <tr style=\"text-align: right;\">\n",
       "      <th></th>\n",
       "      <th>InvoiceNo</th>\n",
       "      <th>StockCode</th>\n",
       "      <th>Description</th>\n",
       "      <th>Quantity</th>\n",
       "      <th>InvoiceDate</th>\n",
       "      <th>UnitPrice</th>\n",
       "      <th>CustomerID</th>\n",
       "      <th>Country</th>\n",
       "    </tr>\n",
       "  </thead>\n",
       "  <tbody>\n",
       "    <tr>\n",
       "      <th>0</th>\n",
       "      <td>536365</td>\n",
       "      <td>85123A</td>\n",
       "      <td>WHITE HANGING HEART T-LIGHT HOLDER</td>\n",
       "      <td>6</td>\n",
       "      <td>2010-12-01 08:26:00</td>\n",
       "      <td>2.55</td>\n",
       "      <td>17850.0</td>\n",
       "      <td>United Kingdom</td>\n",
       "    </tr>\n",
       "    <tr>\n",
       "      <th>1</th>\n",
       "      <td>536365</td>\n",
       "      <td>71053</td>\n",
       "      <td>WHITE METAL LANTERN</td>\n",
       "      <td>6</td>\n",
       "      <td>2010-12-01 08:26:00</td>\n",
       "      <td>3.39</td>\n",
       "      <td>17850.0</td>\n",
       "      <td>United Kingdom</td>\n",
       "    </tr>\n",
       "    <tr>\n",
       "      <th>2</th>\n",
       "      <td>536365</td>\n",
       "      <td>84406B</td>\n",
       "      <td>CREAM CUPID HEARTS COAT HANGER</td>\n",
       "      <td>8</td>\n",
       "      <td>2010-12-01 08:26:00</td>\n",
       "      <td>2.75</td>\n",
       "      <td>17850.0</td>\n",
       "      <td>United Kingdom</td>\n",
       "    </tr>\n",
       "    <tr>\n",
       "      <th>3</th>\n",
       "      <td>536365</td>\n",
       "      <td>84029G</td>\n",
       "      <td>KNITTED UNION FLAG HOT WATER BOTTLE</td>\n",
       "      <td>6</td>\n",
       "      <td>2010-12-01 08:26:00</td>\n",
       "      <td>3.39</td>\n",
       "      <td>17850.0</td>\n",
       "      <td>United Kingdom</td>\n",
       "    </tr>\n",
       "    <tr>\n",
       "      <th>4</th>\n",
       "      <td>536365</td>\n",
       "      <td>84029E</td>\n",
       "      <td>RED WOOLLY HOTTIE WHITE HEART.</td>\n",
       "      <td>6</td>\n",
       "      <td>2010-12-01 08:26:00</td>\n",
       "      <td>3.39</td>\n",
       "      <td>17850.0</td>\n",
       "      <td>United Kingdom</td>\n",
       "    </tr>\n",
       "  </tbody>\n",
       "</table>\n",
       "</div>"
      ],
      "text/plain": [
       "  InvoiceNo StockCode                          Description  Quantity  \\\n",
       "0    536365    85123A   WHITE HANGING HEART T-LIGHT HOLDER         6   \n",
       "1    536365     71053                  WHITE METAL LANTERN         6   \n",
       "2    536365    84406B       CREAM CUPID HEARTS COAT HANGER         8   \n",
       "3    536365    84029G  KNITTED UNION FLAG HOT WATER BOTTLE         6   \n",
       "4    536365    84029E       RED WOOLLY HOTTIE WHITE HEART.         6   \n",
       "\n",
       "          InvoiceDate  UnitPrice  CustomerID         Country  \n",
       "0 2010-12-01 08:26:00       2.55     17850.0  United Kingdom  \n",
       "1 2010-12-01 08:26:00       3.39     17850.0  United Kingdom  \n",
       "2 2010-12-01 08:26:00       2.75     17850.0  United Kingdom  \n",
       "3 2010-12-01 08:26:00       3.39     17850.0  United Kingdom  \n",
       "4 2010-12-01 08:26:00       3.39     17850.0  United Kingdom  "
      ]
     },
     "execution_count": 18,
     "metadata": {},
     "output_type": "execute_result"
    }
   ],
   "source": [
    "import pandas as pd\n",
    "df1=pd.read_excel(\"Online_Retail.xlsx\")\n",
    "df1.head()\n"
   ]
  },
  {
   "cell_type": "code",
   "execution_count": 19,
   "metadata": {},
   "outputs": [
    {
     "data": {
      "text/plain": [
       "InvoiceNo           0\n",
       "StockCode           0\n",
       "Description      1454\n",
       "Quantity            0\n",
       "InvoiceDate         0\n",
       "UnitPrice           0\n",
       "CustomerID     135080\n",
       "Country             0\n",
       "dtype: int64"
      ]
     },
     "execution_count": 19,
     "metadata": {},
     "output_type": "execute_result"
    }
   ],
   "source": [
    "df1.isnull().sum()"
   ]
  },
  {
   "cell_type": "markdown",
   "metadata": {},
   "source": [
    "\"Description\" feature has 1454 null values and \"CustomerID\" column has 135080 null values."
   ]
  },
  {
   "cell_type": "code",
   "execution_count": 20,
   "metadata": {},
   "outputs": [
    {
     "data": {
      "text/plain": [
       "InvoiceNo              object\n",
       "StockCode              object\n",
       "Description            object\n",
       "Quantity                int64\n",
       "InvoiceDate    datetime64[ns]\n",
       "UnitPrice             float64\n",
       "CustomerID            float64\n",
       "Country                object\n",
       "dtype: object"
      ]
     },
     "execution_count": 20,
     "metadata": {},
     "output_type": "execute_result"
    }
   ],
   "source": [
    "df1.dtypes"
   ]
  },
  {
   "cell_type": "code",
   "execution_count": 21,
   "metadata": {},
   "outputs": [
    {
     "data": {
      "text/plain": [
       "<Axes: >"
      ]
     },
     "execution_count": 21,
     "metadata": {},
     "output_type": "execute_result"
    },
    {
     "data": {
      "image/png": "[encoded data removed]",
      "text/plain": [
       "<Figure size 640x480 with 1 Axes>"
      ]
     },
     "metadata": {},
     "output_type": "display_data"
    }
   ],
   "source": [
    "df1[['Quantity']].boxplot()"
   ]
  },
  {
   "cell_type": "code",
   "execution_count": 22,
   "metadata": {},
   "outputs": [
    {
     "data": {
      "text/plain": [
       "<Axes: >"
      ]
     },
     "execution_count": 22,
     "metadata": {},
     "output_type": "execute_result"
    },
    {
     "data": {
      "image/png": "[encoded data removed]",
      "text/plain": [
       "<Figure size 640x480 with 1 Axes>"
      ]
     },
     "metadata": {},
     "output_type": "display_data"
    }
   ],
   "source": [
    "df1[['UnitPrice']].boxplot()"
   ]
  },
  {
   "cell_type": "code",
   "execution_count": 23,
   "metadata": {},
   "outputs": [],
   "source": [
    "df1['Quantity'] = df1['Quantity'].astype(int)"
   ]
  },
  {
   "cell_type": "code",
   "execution_count": 24,
   "metadata": {},
   "outputs": [],
   "source": [
    "df1['UnitPrice'] = df1['UnitPrice'].astype(float)"
   ]
  },
  {
   "cell_type": "code",
   "execution_count": 25,
   "metadata": {},
   "outputs": [],
   "source": [
    "df1['CustomerID'] = df1['CustomerID'].astype(float)"
   ]
  },
  {
   "cell_type": "code",
   "execution_count": 26,
   "metadata": {},
   "outputs": [
    {
     "name": "stdout",
     "output_type": "stream",
     "text": [
      "-0.0012349245448702972\n"
     ]
    }
   ],
   "source": [
    "correlation = df1[\"Quantity\"].corr(df1[\"UnitPrice\"])\n",
    "print(correlation)"
   ]
  },
  {
   "cell_type": "code",
   "execution_count": 27,
   "metadata": {},
   "outputs": [
    {
     "data": {
      "image/png": "[encoded data removed]",
      "text/plain": [
       "<Figure size 640x480 with 1 Axes>"
      ]
     },
     "metadata": {},
     "output_type": "display_data"
    }
   ],
   "source": [
    "x = df1['Quantity']\n",
    "y = df1['UnitPrice']\n",
    "plt.scatter(x, y, alpha=0.5) \n",
    "\n",
    "plt.xlabel('Quantity')\n",
    "plt.ylabel('UnitPrice')\n",
    "\n",
    "plt.title('Scatter Plot: Correlation between Quantity and Unit Price')\n",
    "plt.show()"
   ]
  },
  {
   "cell_type": "code",
   "execution_count": 28,
   "metadata": {},
   "outputs": [],
   "source": [
    "df1['InvoiceDate'] = pd.to_datetime(df1['InvoiceDate'])\n",
    "df1['Date'] = df1['InvoiceDate'].dt.date\n",
    "df1['Time'] = df1['InvoiceDate'].dt.time\n"
   ]
  },
  {
   "cell_type": "code",
   "execution_count": 29,
   "metadata": {},
   "outputs": [
    {
     "data": {
      "text/html": [
       "<div>\n",
       "<style scoped>\n",
       "    .dataframe tbody tr th:only-of-type {\n",
       "        vertical-align: middle;\n",
       "    }\n",
       "\n",
       "    .dataframe tbody tr th {\n",
       "        vertical-align: top;\n",
       "    }\n",
       "\n",
       "    .dataframe thead th {\n",
       "        text-align: right;\n",
       "    }\n",
       "</style>\n",
       "<table border=\"1\" class=\"dataframe\">\n",
       "  <thead>\n",
       "    <tr style=\"text-align: right;\">\n",
       "      <th></th>\n",
       "      <th>InvoiceNo</th>\n",
       "      <th>StockCode</th>\n",
       "      <th>Description</th>\n",
       "      <th>Quantity</th>\n",
       "      <th>InvoiceDate</th>\n",
       "      <th>UnitPrice</th>\n",
       "      <th>CustomerID</th>\n",
       "      <th>Country</th>\n",
       "      <th>Date</th>\n",
       "      <th>Time</th>\n",
       "    </tr>\n",
       "  </thead>\n",
       "  <tbody>\n",
       "    <tr>\n",
       "      <th>0</th>\n",
       "      <td>536365</td>\n",
       "      <td>85123A</td>\n",
       "      <td>WHITE HANGING HEART T-LIGHT HOLDER</td>\n",
       "      <td>6</td>\n",
       "      <td>2010-12-01 08:26:00</td>\n",
       "      <td>2.55</td>\n",
       "      <td>17850.0</td>\n",
       "      <td>United Kingdom</td>\n",
       "      <td>2010-12-01</td>\n",
       "      <td>08:26:00</td>\n",
       "    </tr>\n",
       "    <tr>\n",
       "      <th>1</th>\n",
       "      <td>536365</td>\n",
       "      <td>71053</td>\n",
       "      <td>WHITE METAL LANTERN</td>\n",
       "      <td>6</td>\n",
       "      <td>2010-12-01 08:26:00</td>\n",
       "      <td>3.39</td>\n",
       "      <td>17850.0</td>\n",
       "      <td>United Kingdom</td>\n",
       "      <td>2010-12-01</td>\n",
       "      <td>08:26:00</td>\n",
       "    </tr>\n",
       "    <tr>\n",
       "      <th>2</th>\n",
       "      <td>536365</td>\n",
       "      <td>84406B</td>\n",
       "      <td>CREAM CUPID HEARTS COAT HANGER</td>\n",
       "      <td>8</td>\n",
       "      <td>2010-12-01 08:26:00</td>\n",
       "      <td>2.75</td>\n",
       "      <td>17850.0</td>\n",
       "      <td>United Kingdom</td>\n",
       "      <td>2010-12-01</td>\n",
       "      <td>08:26:00</td>\n",
       "    </tr>\n",
       "    <tr>\n",
       "      <th>3</th>\n",
       "      <td>536365</td>\n",
       "      <td>84029G</td>\n",
       "      <td>KNITTED UNION FLAG HOT WATER BOTTLE</td>\n",
       "      <td>6</td>\n",
       "      <td>2010-12-01 08:26:00</td>\n",
       "      <td>3.39</td>\n",
       "      <td>17850.0</td>\n",
       "      <td>United Kingdom</td>\n",
       "      <td>2010-12-01</td>\n",
       "      <td>08:26:00</td>\n",
       "    </tr>\n",
       "    <tr>\n",
       "      <th>4</th>\n",
       "      <td>536365</td>\n",
       "      <td>84029E</td>\n",
       "      <td>RED WOOLLY HOTTIE WHITE HEART.</td>\n",
       "      <td>6</td>\n",
       "      <td>2010-12-01 08:26:00</td>\n",
       "      <td>3.39</td>\n",
       "      <td>17850.0</td>\n",
       "      <td>United Kingdom</td>\n",
       "      <td>2010-12-01</td>\n",
       "      <td>08:26:00</td>\n",
       "    </tr>\n",
       "  </tbody>\n",
       "</table>\n",
       "</div>"
      ],
      "text/plain": [
       "  InvoiceNo StockCode                          Description  Quantity  \\\n",
       "0    536365    85123A   WHITE HANGING HEART T-LIGHT HOLDER         6   \n",
       "1    536365     71053                  WHITE METAL LANTERN         6   \n",
       "2    536365    84406B       CREAM CUPID HEARTS COAT HANGER         8   \n",
       "3    536365    84029G  KNITTED UNION FLAG HOT WATER BOTTLE         6   \n",
       "4    536365    84029E       RED WOOLLY HOTTIE WHITE HEART.         6   \n",
       "\n",
       "          InvoiceDate  UnitPrice  CustomerID         Country        Date  \\\n",
       "0 2010-12-01 08:26:00       2.55     17850.0  United Kingdom  2010-12-01   \n",
       "1 2010-12-01 08:26:00       3.39     17850.0  United Kingdom  2010-12-01   \n",
       "2 2010-12-01 08:26:00       2.75     17850.0  United Kingdom  2010-12-01   \n",
       "3 2010-12-01 08:26:00       3.39     17850.0  United Kingdom  2010-12-01   \n",
       "4 2010-12-01 08:26:00       3.39     17850.0  United Kingdom  2010-12-01   \n",
       "\n",
       "       Time  \n",
       "0  08:26:00  \n",
       "1  08:26:00  \n",
       "2  08:26:00  \n",
       "3  08:26:00  \n",
       "4  08:26:00  "
      ]
     },
     "execution_count": 29,
     "metadata": {},
     "output_type": "execute_result"
    }
   ],
   "source": [
    "df1.head()"
   ]
  },
  {
   "cell_type": "code",
   "execution_count": 30,
   "metadata": {},
   "outputs": [],
   "source": [
    "df1.drop(\"InvoiceDate\",axis=1,inplace=True)"
   ]
  },
  {
   "cell_type": "code",
   "execution_count": 31,
   "metadata": {},
   "outputs": [
    {
     "data": {
      "text/html": [
       "<div>\n",
       "<style scoped>\n",
       "    .dataframe tbody tr th:only-of-type {\n",
       "        vertical-align: middle;\n",
       "    }\n",
       "\n",
       "    .dataframe tbody tr th {\n",
       "        vertical-align: top;\n",
       "    }\n",
       "\n",
       "    .dataframe thead th {\n",
       "        text-align: right;\n",
       "    }\n",
       "</style>\n",
       "<table border=\"1\" class=\"dataframe\">\n",
       "  <thead>\n",
       "    <tr style=\"text-align: right;\">\n",
       "      <th></th>\n",
       "      <th>InvoiceNo</th>\n",
       "      <th>StockCode</th>\n",
       "      <th>Description</th>\n",
       "      <th>Quantity</th>\n",
       "      <th>UnitPrice</th>\n",
       "      <th>CustomerID</th>\n",
       "      <th>Country</th>\n",
       "      <th>Date</th>\n",
       "      <th>Time</th>\n",
       "    </tr>\n",
       "  </thead>\n",
       "  <tbody>\n",
       "    <tr>\n",
       "      <th>0</th>\n",
       "      <td>536365</td>\n",
       "      <td>85123A</td>\n",
       "      <td>WHITE HANGING HEART T-LIGHT HOLDER</td>\n",
       "      <td>6</td>\n",
       "      <td>2.55</td>\n",
       "      <td>17850.0</td>\n",
       "      <td>United Kingdom</td>\n",
       "      <td>2010-12-01</td>\n",
       "      <td>08:26:00</td>\n",
       "    </tr>\n",
       "    <tr>\n",
       "      <th>1</th>\n",
       "      <td>536365</td>\n",
       "      <td>71053</td>\n",
       "      <td>WHITE METAL LANTERN</td>\n",
       "      <td>6</td>\n",
       "      <td>3.39</td>\n",
       "      <td>17850.0</td>\n",
       "      <td>United Kingdom</td>\n",
       "      <td>2010-12-01</td>\n",
       "      <td>08:26:00</td>\n",
       "    </tr>\n",
       "    <tr>\n",
       "      <th>2</th>\n",
       "      <td>536365</td>\n",
       "      <td>84406B</td>\n",
       "      <td>CREAM CUPID HEARTS COAT HANGER</td>\n",
       "      <td>8</td>\n",
       "      <td>2.75</td>\n",
       "      <td>17850.0</td>\n",
       "      <td>United Kingdom</td>\n",
       "      <td>2010-12-01</td>\n",
       "      <td>08:26:00</td>\n",
       "    </tr>\n",
       "    <tr>\n",
       "      <th>3</th>\n",
       "      <td>536365</td>\n",
       "      <td>84029G</td>\n",
       "      <td>KNITTED UNION FLAG HOT WATER BOTTLE</td>\n",
       "      <td>6</td>\n",
       "      <td>3.39</td>\n",
       "      <td>17850.0</td>\n",
       "      <td>United Kingdom</td>\n",
       "      <td>2010-12-01</td>\n",
       "      <td>08:26:00</td>\n",
       "    </tr>\n",
       "    <tr>\n",
       "      <th>4</th>\n",
       "      <td>536365</td>\n",
       "      <td>84029E</td>\n",
       "      <td>RED WOOLLY HOTTIE WHITE HEART.</td>\n",
       "      <td>6</td>\n",
       "      <td>3.39</td>\n",
       "      <td>17850.0</td>\n",
       "      <td>United Kingdom</td>\n",
       "      <td>2010-12-01</td>\n",
       "      <td>08:26:00</td>\n",
       "    </tr>\n",
       "    <tr>\n",
       "      <th>...</th>\n",
       "      <td>...</td>\n",
       "      <td>...</td>\n",
       "      <td>...</td>\n",
       "      <td>...</td>\n",
       "      <td>...</td>\n",
       "      <td>...</td>\n",
       "      <td>...</td>\n",
       "      <td>...</td>\n",
       "      <td>...</td>\n",
       "    </tr>\n",
       "    <tr>\n",
       "      <th>541904</th>\n",
       "      <td>581587</td>\n",
       "      <td>22613</td>\n",
       "      <td>PACK OF 20 SPACEBOY NAPKINS</td>\n",
       "      <td>12</td>\n",
       "      <td>0.85</td>\n",
       "      <td>12680.0</td>\n",
       "      <td>France</td>\n",
       "      <td>2011-12-09</td>\n",
       "      <td>12:50:00</td>\n",
       "    </tr>\n",
       "    <tr>\n",
       "      <th>541905</th>\n",
       "      <td>581587</td>\n",
       "      <td>22899</td>\n",
       "      <td>CHILDREN'S APRON DOLLY GIRL</td>\n",
       "      <td>6</td>\n",
       "      <td>2.10</td>\n",
       "      <td>12680.0</td>\n",
       "      <td>France</td>\n",
       "      <td>2011-12-09</td>\n",
       "      <td>12:50:00</td>\n",
       "    </tr>\n",
       "    <tr>\n",
       "      <th>541906</th>\n",
       "      <td>581587</td>\n",
       "      <td>23254</td>\n",
       "      <td>CHILDRENS CUTLERY DOLLY GIRL</td>\n",
       "      <td>4</td>\n",
       "      <td>4.15</td>\n",
       "      <td>12680.0</td>\n",
       "      <td>France</td>\n",
       "      <td>2011-12-09</td>\n",
       "      <td>12:50:00</td>\n",
       "    </tr>\n",
       "    <tr>\n",
       "      <th>541907</th>\n",
       "      <td>581587</td>\n",
       "      <td>23255</td>\n",
       "      <td>CHILDRENS CUTLERY CIRCUS PARADE</td>\n",
       "      <td>4</td>\n",
       "      <td>4.15</td>\n",
       "      <td>12680.0</td>\n",
       "      <td>France</td>\n",
       "      <td>2011-12-09</td>\n",
       "      <td>12:50:00</td>\n",
       "    </tr>\n",
       "    <tr>\n",
       "      <th>541908</th>\n",
       "      <td>581587</td>\n",
       "      <td>22138</td>\n",
       "      <td>BAKING SET 9 PIECE RETROSPOT</td>\n",
       "      <td>3</td>\n",
       "      <td>4.95</td>\n",
       "      <td>12680.0</td>\n",
       "      <td>France</td>\n",
       "      <td>2011-12-09</td>\n",
       "      <td>12:50:00</td>\n",
       "    </tr>\n",
       "  </tbody>\n",
       "</table>\n",
       "<p>541909 rows × 9 columns</p>\n",
       "</div>"
      ],
      "text/plain": [
       "       InvoiceNo StockCode                          Description  Quantity  \\\n",
       "0         536365    85123A   WHITE HANGING HEART T-LIGHT HOLDER         6   \n",
       "1         536365     71053                  WHITE METAL LANTERN         6   \n",
       "2         536365    84406B       CREAM CUPID HEARTS COAT HANGER         8   \n",
       "3         536365    84029G  KNITTED UNION FLAG HOT WATER BOTTLE         6   \n",
       "4         536365    84029E       RED WOOLLY HOTTIE WHITE HEART.         6   \n",
       "...          ...       ...                                  ...       ...   \n",
       "541904    581587     22613          PACK OF 20 SPACEBOY NAPKINS        12   \n",
       "541905    581587     22899         CHILDREN'S APRON DOLLY GIRL          6   \n",
       "541906    581587     23254        CHILDRENS CUTLERY DOLLY GIRL          4   \n",
       "541907    581587     23255      CHILDRENS CUTLERY CIRCUS PARADE         4   \n",
       "541908    581587     22138        BAKING SET 9 PIECE RETROSPOT          3   \n",
       "\n",
       "        UnitPrice  CustomerID         Country        Date      Time  \n",
       "0            2.55     17850.0  United Kingdom  2010-12-01  08:26:00  \n",
       "1            3.39     17850.0  United Kingdom  2010-12-01  08:26:00  \n",
       "2            2.75     17850.0  United Kingdom  2010-12-01  08:26:00  \n",
       "3            3.39     17850.0  United Kingdom  2010-12-01  08:26:00  \n",
       "4            3.39     17850.0  United Kingdom  2010-12-01  08:26:00  \n",
       "...           ...         ...             ...         ...       ...  \n",
       "541904       0.85     12680.0          France  2011-12-09  12:50:00  \n",
       "541905       2.10     12680.0          France  2011-12-09  12:50:00  \n",
       "541906       4.15     12680.0          France  2011-12-09  12:50:00  \n",
       "541907       4.15     12680.0          France  2011-12-09  12:50:00  \n",
       "541908       4.95     12680.0          France  2011-12-09  12:50:00  \n",
       "\n",
       "[541909 rows x 9 columns]"
      ]
     },
     "execution_count": 31,
     "metadata": {},
     "output_type": "execute_result"
    }
   ],
   "source": [
    "df1"
   ]
  },
  {
   "cell_type": "code",
   "execution_count": 32,
   "metadata": {},
   "outputs": [
    {
     "data": {
      "text/plain": [
       "InvoiceNo       object\n",
       "StockCode       object\n",
       "Description     object\n",
       "Quantity         int32\n",
       "UnitPrice      float64\n",
       "CustomerID     float64\n",
       "Country         object\n",
       "Date            object\n",
       "Time            object\n",
       "dtype: object"
      ]
     },
     "execution_count": 32,
     "metadata": {},
     "output_type": "execute_result"
    }
   ],
   "source": [
    "df1.dtypes"
   ]
  },
  {
   "cell_type": "code",
   "execution_count": 33,
   "metadata": {},
   "outputs": [],
   "source": [
    "df1.drop('InvoiceNo',axis=1, inplace=True)"
   ]
  },
  {
   "cell_type": "code",
   "execution_count": 34,
   "metadata": {},
   "outputs": [
    {
     "data": {
      "text/html": [
       "<div>\n",
       "<style scoped>\n",
       "    .dataframe tbody tr th:only-of-type {\n",
       "        vertical-align: middle;\n",
       "    }\n",
       "\n",
       "    .dataframe tbody tr th {\n",
       "        vertical-align: top;\n",
       "    }\n",
       "\n",
       "    .dataframe thead th {\n",
       "        text-align: right;\n",
       "    }\n",
       "</style>\n",
       "<table border=\"1\" class=\"dataframe\">\n",
       "  <thead>\n",
       "    <tr style=\"text-align: right;\">\n",
       "      <th></th>\n",
       "      <th>StockCode</th>\n",
       "      <th>Description</th>\n",
       "      <th>Quantity</th>\n",
       "      <th>UnitPrice</th>\n",
       "      <th>CustomerID</th>\n",
       "      <th>Country</th>\n",
       "      <th>Date</th>\n",
       "      <th>Time</th>\n",
       "    </tr>\n",
       "  </thead>\n",
       "  <tbody>\n",
       "    <tr>\n",
       "      <th>0</th>\n",
       "      <td>85123A</td>\n",
       "      <td>WHITE HANGING HEART T-LIGHT HOLDER</td>\n",
       "      <td>6</td>\n",
       "      <td>2.55</td>\n",
       "      <td>17850.0</td>\n",
       "      <td>United Kingdom</td>\n",
       "      <td>2010-12-01</td>\n",
       "      <td>08:26:00</td>\n",
       "    </tr>\n",
       "    <tr>\n",
       "      <th>1</th>\n",
       "      <td>71053</td>\n",
       "      <td>WHITE METAL LANTERN</td>\n",
       "      <td>6</td>\n",
       "      <td>3.39</td>\n",
       "      <td>17850.0</td>\n",
       "      <td>United Kingdom</td>\n",
       "      <td>2010-12-01</td>\n",
       "      <td>08:26:00</td>\n",
       "    </tr>\n",
       "    <tr>\n",
       "      <th>2</th>\n",
       "      <td>84406B</td>\n",
       "      <td>CREAM CUPID HEARTS COAT HANGER</td>\n",
       "      <td>8</td>\n",
       "      <td>2.75</td>\n",
       "      <td>17850.0</td>\n",
       "      <td>United Kingdom</td>\n",
       "      <td>2010-12-01</td>\n",
       "      <td>08:26:00</td>\n",
       "    </tr>\n",
       "    <tr>\n",
       "      <th>3</th>\n",
       "      <td>84029G</td>\n",
       "      <td>KNITTED UNION FLAG HOT WATER BOTTLE</td>\n",
       "      <td>6</td>\n",
       "      <td>3.39</td>\n",
       "      <td>17850.0</td>\n",
       "      <td>United Kingdom</td>\n",
       "      <td>2010-12-01</td>\n",
       "      <td>08:26:00</td>\n",
       "    </tr>\n",
       "    <tr>\n",
       "      <th>4</th>\n",
       "      <td>84029E</td>\n",
       "      <td>RED WOOLLY HOTTIE WHITE HEART.</td>\n",
       "      <td>6</td>\n",
       "      <td>3.39</td>\n",
       "      <td>17850.0</td>\n",
       "      <td>United Kingdom</td>\n",
       "      <td>2010-12-01</td>\n",
       "      <td>08:26:00</td>\n",
       "    </tr>\n",
       "    <tr>\n",
       "      <th>...</th>\n",
       "      <td>...</td>\n",
       "      <td>...</td>\n",
       "      <td>...</td>\n",
       "      <td>...</td>\n",
       "      <td>...</td>\n",
       "      <td>...</td>\n",
       "      <td>...</td>\n",
       "      <td>...</td>\n",
       "    </tr>\n",
       "    <tr>\n",
       "      <th>541904</th>\n",
       "      <td>22613</td>\n",
       "      <td>PACK OF 20 SPACEBOY NAPKINS</td>\n",
       "      <td>12</td>\n",
       "      <td>0.85</td>\n",
       "      <td>12680.0</td>\n",
       "      <td>France</td>\n",
       "      <td>2011-12-09</td>\n",
       "      <td>12:50:00</td>\n",
       "    </tr>\n",
       "    <tr>\n",
       "      <th>541905</th>\n",
       "      <td>22899</td>\n",
       "      <td>CHILDREN'S APRON DOLLY GIRL</td>\n",
       "      <td>6</td>\n",
       "      <td>2.10</td>\n",
       "      <td>12680.0</td>\n",
       "      <td>France</td>\n",
       "      <td>2011-12-09</td>\n",
       "      <td>12:50:00</td>\n",
       "    </tr>\n",
       "    <tr>\n",
       "      <th>541906</th>\n",
       "      <td>23254</td>\n",
       "      <td>CHILDRENS CUTLERY DOLLY GIRL</td>\n",
       "      <td>4</td>\n",
       "      <td>4.15</td>\n",
       "      <td>12680.0</td>\n",
       "      <td>France</td>\n",
       "      <td>2011-12-09</td>\n",
       "      <td>12:50:00</td>\n",
       "    </tr>\n",
       "    <tr>\n",
       "      <th>541907</th>\n",
       "      <td>23255</td>\n",
       "      <td>CHILDRENS CUTLERY CIRCUS PARADE</td>\n",
       "      <td>4</td>\n",
       "      <td>4.15</td>\n",
       "      <td>12680.0</td>\n",
       "      <td>France</td>\n",
       "      <td>2011-12-09</td>\n",
       "      <td>12:50:00</td>\n",
       "    </tr>\n",
       "    <tr>\n",
       "      <th>541908</th>\n",
       "      <td>22138</td>\n",
       "      <td>BAKING SET 9 PIECE RETROSPOT</td>\n",
       "      <td>3</td>\n",
       "      <td>4.95</td>\n",
       "      <td>12680.0</td>\n",
       "      <td>France</td>\n",
       "      <td>2011-12-09</td>\n",
       "      <td>12:50:00</td>\n",
       "    </tr>\n",
       "  </tbody>\n",
       "</table>\n",
       "<p>541909 rows × 8 columns</p>\n",
       "</div>"
      ],
      "text/plain": [
       "       StockCode                          Description  Quantity  UnitPrice  \\\n",
       "0         85123A   WHITE HANGING HEART T-LIGHT HOLDER         6       2.55   \n",
       "1          71053                  WHITE METAL LANTERN         6       3.39   \n",
       "2         84406B       CREAM CUPID HEARTS COAT HANGER         8       2.75   \n",
       "3         84029G  KNITTED UNION FLAG HOT WATER BOTTLE         6       3.39   \n",
       "4         84029E       RED WOOLLY HOTTIE WHITE HEART.         6       3.39   \n",
       "...          ...                                  ...       ...        ...   \n",
       "541904     22613          PACK OF 20 SPACEBOY NAPKINS        12       0.85   \n",
       "541905     22899         CHILDREN'S APRON DOLLY GIRL          6       2.10   \n",
       "541906     23254        CHILDRENS CUTLERY DOLLY GIRL          4       4.15   \n",
       "541907     23255      CHILDRENS CUTLERY CIRCUS PARADE         4       4.15   \n",
       "541908     22138        BAKING SET 9 PIECE RETROSPOT          3       4.95   \n",
       "\n",
       "        CustomerID         Country        Date      Time  \n",
       "0          17850.0  United Kingdom  2010-12-01  08:26:00  \n",
       "1          17850.0  United Kingdom  2010-12-01  08:26:00  \n",
       "2          17850.0  United Kingdom  2010-12-01  08:26:00  \n",
       "3          17850.0  United Kingdom  2010-12-01  08:26:00  \n",
       "4          17850.0  United Kingdom  2010-12-01  08:26:00  \n",
       "...            ...             ...         ...       ...  \n",
       "541904     12680.0          France  2011-12-09  12:50:00  \n",
       "541905     12680.0          France  2011-12-09  12:50:00  \n",
       "541906     12680.0          France  2011-12-09  12:50:00  \n",
       "541907     12680.0          France  2011-12-09  12:50:00  \n",
       "541908     12680.0          France  2011-12-09  12:50:00  \n",
       "\n",
       "[541909 rows x 8 columns]"
      ]
     },
     "execution_count": 34,
     "metadata": {},
     "output_type": "execute_result"
    }
   ],
   "source": [
    "df1"
   ]
  },
  {
   "cell_type": "code",
   "execution_count": 35,
   "metadata": {},
   "outputs": [
    {
     "data": {
      "text/plain": [
       "StockCode       object\n",
       "Description     object\n",
       "Quantity         int32\n",
       "UnitPrice      float64\n",
       "CustomerID     float64\n",
       "Country         object\n",
       "Date            object\n",
       "Time            object\n",
       "dtype: object"
      ]
     },
     "execution_count": 35,
     "metadata": {},
     "output_type": "execute_result"
    }
   ],
   "source": [
    "df1.dtypes"
   ]
  },
  {
   "cell_type": "code",
   "execution_count": 36,
   "metadata": {},
   "outputs": [
    {
     "name": "stdout",
     "output_type": "stream",
     "text": [
      "number of unique countries are  38\n",
      "number of unique products are  4224\n",
      "number of unique stockcodes are  4070\n"
     ]
    }
   ],
   "source": [
    "Number_of_unique_countries=df1['Country'].unique()\n",
    "print('number of unique countries are ',len(Number_of_unique_countries))\n",
    "Number_of_unique_products=df1['Description'].unique()\n",
    "print('number of unique products are ',len(Number_of_unique_products))\n",
    "Number_of_unique_product_stockcode=df1['StockCode'].unique()\n",
    "(print('number of unique stockcodes are ',len(Number_of_unique_product_stockcode)))"
   ]
  },
  {
   "cell_type": "code",
   "execution_count": 37,
   "metadata": {},
   "outputs": [],
   "source": [
    "!pip install ydata-profiling -q\n"
   ]
  },
  {
   "cell_type": "code",
   "execution_count": 38,
   "metadata": {},
   "outputs": [],
   "source": [
    "import numpy as np\n",
    "import pandas as pd\n",
    "from ydata_profiling import ProfileReport\n",
    "\n"
   ]
  },
  {
   "cell_type": "code",
   "execution_count": 39,
   "metadata": {},
   "outputs": [],
   "source": [
    "report = ProfileReport(df1,title=\"Profiling Report\")"
   ]
  },
  {
   "cell_type": "code",
   "execution_count": 40,
   "metadata": {},
   "outputs": [
    {
     "data": {
      "application/vnd.jupyter.widget-view+json": {
       "model_id": "ae15d7374e5a4da2a1c5bd491cc11d07",
       "version_major": 2,
       "version_minor": 0
      },
      "text/plain": [
       "Summarize dataset:   0%|          | 0/5 [00:00<?, ?it/s]"
      ]
     },
     "metadata": {},
     "output_type": "display_data"
    },
    {
     "ename": "DispatchError",
     "evalue": "Function <code object pandas_get_series_descriptions at 0x000001A12727C660, file \"d:\\projects\\customer_segmentation\\env\\lib\\site-packages\\ydata_profiling\\model\\pandas\\summary_pandas.py\", line 60>",
     "output_type": "error",
     "traceback": [
      "\u001b[1;31m---------------------------------------------------------------------------\u001b[0m",
      "\u001b[1;31mTypeError\u001b[0m                                 Traceback (most recent call last)",
      "File \u001b[1;32md:\\projects\\customer_segmentation\\env\\lib\\site-packages\\multimethod\\__init__.py:315\u001b[0m, in \u001b[0;36mmultimethod.__call__\u001b[1;34m(self, *args, **kwargs)\u001b[0m\n\u001b[0;32m    314\u001b[0m \u001b[39mtry\u001b[39;00m:\n\u001b[1;32m--> 315\u001b[0m     \u001b[39mreturn\u001b[39;00m func(\u001b[39m*\u001b[39;49margs, \u001b[39m*\u001b[39;49m\u001b[39m*\u001b[39;49mkwargs)\n\u001b[0;32m    316\u001b[0m \u001b[39mexcept\u001b[39;00m \u001b[39mTypeError\u001b[39;00m \u001b[39mas\u001b[39;00m ex:\n",
      "File \u001b[1;32md:\\projects\\customer_segmentation\\env\\lib\\site-packages\\ydata_profiling\\model\\summary_algorithms.py:68\u001b[0m, in \u001b[0;36mseries_hashable.<locals>.inner\u001b[1;34m(config, series, summary)\u001b[0m\n\u001b[0;32m     67\u001b[0m     \u001b[39mreturn\u001b[39;00m config, series, summary\n\u001b[1;32m---> 68\u001b[0m \u001b[39mreturn\u001b[39;00m fn(config, series, summary)\n",
      "File \u001b[1;32md:\\projects\\customer_segmentation\\env\\lib\\site-packages\\ydata_profiling\\model\\summary_algorithms.py:85\u001b[0m, in \u001b[0;36mseries_handle_nulls.<locals>.inner\u001b[1;34m(config, series, summary)\u001b[0m\n\u001b[0;32m     83\u001b[0m     series \u001b[39m=\u001b[39m series\u001b[39m.\u001b[39mdropna()\n\u001b[1;32m---> 85\u001b[0m \u001b[39mreturn\u001b[39;00m fn(config, series, summary)\n",
      "File \u001b[1;32md:\\projects\\customer_segmentation\\env\\lib\\site-packages\\ydata_profiling\\model\\pandas\\describe_date_pandas.py:34\u001b[0m, in \u001b[0;36mpandas_describe_date_1d\u001b[1;34m(config, series, summary)\u001b[0m\n\u001b[0;32m     22\u001b[0m \u001b[39m\u001b[39m\u001b[39m\"\"\"Describe a date series.\u001b[39;00m\n\u001b[0;32m     23\u001b[0m \n\u001b[0;32m     24\u001b[0m \u001b[39mArgs:\u001b[39;00m\n\u001b[1;32m   (...)\u001b[0m\n\u001b[0;32m     30\u001b[0m \u001b[39m    A dict containing calculated series description values.\u001b[39;00m\n\u001b[0;32m     31\u001b[0m \u001b[39m\"\"\"\u001b[39;00m\n\u001b[0;32m     32\u001b[0m summary\u001b[39m.\u001b[39mupdate(\n\u001b[0;32m     33\u001b[0m     {\n\u001b[1;32m---> 34\u001b[0m         \u001b[39m\"\u001b[39m\u001b[39mmin\u001b[39m\u001b[39m\"\u001b[39m: pd\u001b[39m.\u001b[39;49mTimestamp\u001b[39m.\u001b[39;49mto_pydatetime(series\u001b[39m.\u001b[39;49mmin()),\n\u001b[0;32m     35\u001b[0m         \u001b[39m\"\u001b[39m\u001b[39mmax\u001b[39m\u001b[39m\"\u001b[39m: pd\u001b[39m.\u001b[39mTimestamp\u001b[39m.\u001b[39mto_pydatetime(series\u001b[39m.\u001b[39mmax()),\n\u001b[0;32m     36\u001b[0m     }\n\u001b[0;32m     37\u001b[0m )\n\u001b[0;32m     39\u001b[0m summary[\u001b[39m\"\u001b[39m\u001b[39mrange\u001b[39m\u001b[39m\"\u001b[39m] \u001b[39m=\u001b[39m summary[\u001b[39m\"\u001b[39m\u001b[39mmax\u001b[39m\u001b[39m\"\u001b[39m] \u001b[39m-\u001b[39m summary[\u001b[39m\"\u001b[39m\u001b[39mmin\u001b[39m\u001b[39m\"\u001b[39m]\n",
      "\u001b[1;31mTypeError\u001b[0m: descriptor 'to_pydatetime' for 'pandas._libs.tslibs.timestamps._Timestamp' objects doesn't apply to a 'datetime.date' object",
      "\nThe above exception was the direct cause of the following exception:\n",
      "\u001b[1;31mDispatchError\u001b[0m                             Traceback (most recent call last)",
      "File \u001b[1;32md:\\projects\\customer_segmentation\\env\\lib\\site-packages\\multimethod\\__init__.py:315\u001b[0m, in \u001b[0;36mmultimethod.__call__\u001b[1;34m(self, *args, **kwargs)\u001b[0m\n\u001b[0;32m    314\u001b[0m \u001b[39mtry\u001b[39;00m:\n\u001b[1;32m--> 315\u001b[0m     \u001b[39mreturn\u001b[39;00m func(\u001b[39m*\u001b[39;49margs, \u001b[39m*\u001b[39;49m\u001b[39m*\u001b[39;49mkwargs)\n\u001b[0;32m    316\u001b[0m \u001b[39mexcept\u001b[39;00m \u001b[39mTypeError\u001b[39;00m \u001b[39mas\u001b[39;00m ex:\n",
      "File \u001b[1;32md:\\projects\\customer_segmentation\\env\\lib\\site-packages\\ydata_profiling\\model\\pandas\\summary_pandas.py:57\u001b[0m, in \u001b[0;36mpandas_describe_1d\u001b[1;34m(config, series, summarizer, typeset)\u001b[0m\n\u001b[0;32m     56\u001b[0m typeset\u001b[39m.\u001b[39mtype_schema[series\u001b[39m.\u001b[39mname] \u001b[39m=\u001b[39m vtype\n\u001b[1;32m---> 57\u001b[0m \u001b[39mreturn\u001b[39;00m summarizer\u001b[39m.\u001b[39;49msummarize(config, series, dtype\u001b[39m=\u001b[39;49mvtype)\n",
      "File \u001b[1;32md:\\projects\\customer_segmentation\\env\\lib\\site-packages\\ydata_profiling\\model\\summarizer.py:42\u001b[0m, in \u001b[0;36mBaseSummarizer.summarize\u001b[1;34m(self, config, series, dtype)\u001b[0m\n\u001b[0;32m     37\u001b[0m \u001b[39m\u001b[39m\u001b[39m\"\"\"\u001b[39;00m\n\u001b[0;32m     38\u001b[0m \n\u001b[0;32m     39\u001b[0m \u001b[39mReturns:\u001b[39;00m\n\u001b[0;32m     40\u001b[0m \u001b[39m    object:\u001b[39;00m\n\u001b[0;32m     41\u001b[0m \u001b[39m\"\"\"\u001b[39;00m\n\u001b[1;32m---> 42\u001b[0m _, _, summary \u001b[39m=\u001b[39m \u001b[39mself\u001b[39;49m\u001b[39m.\u001b[39;49mhandle(\u001b[39mstr\u001b[39;49m(dtype), config, series, {\u001b[39m\"\u001b[39;49m\u001b[39mtype\u001b[39;49m\u001b[39m\"\u001b[39;49m: \u001b[39mstr\u001b[39;49m(dtype)})\n\u001b[0;32m     43\u001b[0m \u001b[39mreturn\u001b[39;00m summary\n",
      "File \u001b[1;32md:\\projects\\customer_segmentation\\env\\lib\\site-packages\\ydata_profiling\\model\\handler.py:62\u001b[0m, in \u001b[0;36mHandler.handle\u001b[1;34m(self, dtype, *args, **kwargs)\u001b[0m\n\u001b[0;32m     61\u001b[0m op \u001b[39m=\u001b[39m compose(funcs)\n\u001b[1;32m---> 62\u001b[0m \u001b[39mreturn\u001b[39;00m op(\u001b[39m*\u001b[39;49margs)\n",
      "File \u001b[1;32md:\\projects\\customer_segmentation\\env\\lib\\site-packages\\ydata_profiling\\model\\handler.py:21\u001b[0m, in \u001b[0;36mcompose.<locals>.func.<locals>.func2\u001b[1;34m(*x)\u001b[0m\n\u001b[0;32m     20\u001b[0m \u001b[39melse\u001b[39;00m:\n\u001b[1;32m---> 21\u001b[0m     \u001b[39mreturn\u001b[39;00m f(\u001b[39m*\u001b[39;49mres)\n",
      "File \u001b[1;32md:\\projects\\customer_segmentation\\env\\lib\\site-packages\\ydata_profiling\\model\\handler.py:21\u001b[0m, in \u001b[0;36mcompose.<locals>.func.<locals>.func2\u001b[1;34m(*x)\u001b[0m\n\u001b[0;32m     20\u001b[0m \u001b[39melse\u001b[39;00m:\n\u001b[1;32m---> 21\u001b[0m     \u001b[39mreturn\u001b[39;00m f(\u001b[39m*\u001b[39;49mres)\n",
      "File \u001b[1;32md:\\projects\\customer_segmentation\\env\\lib\\site-packages\\ydata_profiling\\model\\handler.py:21\u001b[0m, in \u001b[0;36mcompose.<locals>.func.<locals>.func2\u001b[1;34m(*x)\u001b[0m\n\u001b[0;32m     20\u001b[0m \u001b[39melse\u001b[39;00m:\n\u001b[1;32m---> 21\u001b[0m     \u001b[39mreturn\u001b[39;00m f(\u001b[39m*\u001b[39;49mres)\n",
      "File \u001b[1;32md:\\projects\\customer_segmentation\\env\\lib\\site-packages\\ydata_profiling\\model\\handler.py:17\u001b[0m, in \u001b[0;36mcompose.<locals>.func.<locals>.func2\u001b[1;34m(*x)\u001b[0m\n\u001b[0;32m     16\u001b[0m \u001b[39mdef\u001b[39;00m \u001b[39mfunc2\u001b[39m(\u001b[39m*\u001b[39mx) \u001b[39m-\u001b[39m\u001b[39m>\u001b[39m Any:\n\u001b[1;32m---> 17\u001b[0m     res \u001b[39m=\u001b[39m g(\u001b[39m*\u001b[39;49mx)\n\u001b[0;32m     18\u001b[0m     \u001b[39mif\u001b[39;00m \u001b[39mtype\u001b[39m(res) \u001b[39m==\u001b[39m \u001b[39mbool\u001b[39m:\n",
      "File \u001b[1;32md:\\projects\\customer_segmentation\\env\\lib\\site-packages\\multimethod\\__init__.py:317\u001b[0m, in \u001b[0;36mmultimethod.__call__\u001b[1;34m(self, *args, **kwargs)\u001b[0m\n\u001b[0;32m    316\u001b[0m \u001b[39mexcept\u001b[39;00m \u001b[39mTypeError\u001b[39;00m \u001b[39mas\u001b[39;00m ex:\n\u001b[1;32m--> 317\u001b[0m     \u001b[39mraise\u001b[39;00m DispatchError(\u001b[39mf\u001b[39m\u001b[39m\"\u001b[39m\u001b[39mFunction \u001b[39m\u001b[39m{\u001b[39;00mfunc\u001b[39m.\u001b[39m\u001b[39m__code__\u001b[39m\u001b[39m}\u001b[39;00m\u001b[39m\"\u001b[39m) \u001b[39mfrom\u001b[39;00m \u001b[39mex\u001b[39;00m\n",
      "\u001b[1;31mDispatchError\u001b[0m: Function <code object inner at 0x000001A12AB07F50, file \"d:\\projects\\customer_segmentation\\env\\lib\\site-packages\\ydata_profiling\\model\\summary_algorithms.py\", line 62>",
      "\nThe above exception was the direct cause of the following exception:\n",
      "\u001b[1;31mDispatchError\u001b[0m                             Traceback (most recent call last)",
      "File \u001b[1;32md:\\projects\\customer_segmentation\\env\\lib\\site-packages\\multimethod\\__init__.py:315\u001b[0m, in \u001b[0;36mmultimethod.__call__\u001b[1;34m(self, *args, **kwargs)\u001b[0m\n\u001b[0;32m    314\u001b[0m \u001b[39mtry\u001b[39;00m:\n\u001b[1;32m--> 315\u001b[0m     \u001b[39mreturn\u001b[39;00m func(\u001b[39m*\u001b[39;49margs, \u001b[39m*\u001b[39;49m\u001b[39m*\u001b[39;49mkwargs)\n\u001b[0;32m    316\u001b[0m \u001b[39mexcept\u001b[39;00m \u001b[39mTypeError\u001b[39;00m \u001b[39mas\u001b[39;00m ex:\n",
      "File \u001b[1;32md:\\projects\\customer_segmentation\\env\\lib\\site-packages\\ydata_profiling\\model\\pandas\\summary_pandas.py:99\u001b[0m, in \u001b[0;36mpandas_get_series_descriptions\u001b[1;34m(config, df, summarizer, typeset, pbar)\u001b[0m\n\u001b[0;32m     98\u001b[0m \u001b[39mwith\u001b[39;00m multiprocessing\u001b[39m.\u001b[39mpool\u001b[39m.\u001b[39mThreadPool(pool_size) \u001b[39mas\u001b[39;00m executor:\n\u001b[1;32m---> 99\u001b[0m     \u001b[39mfor\u001b[39;00m i, (column, description) \u001b[39min\u001b[39;00m \u001b[39menumerate\u001b[39m(\n\u001b[0;32m    100\u001b[0m         executor\u001b[39m.\u001b[39mimap_unordered(multiprocess_1d, args)\n\u001b[0;32m    101\u001b[0m     ):\n\u001b[0;32m    102\u001b[0m         pbar\u001b[39m.\u001b[39mset_postfix_str(\u001b[39mf\u001b[39m\u001b[39m\"\u001b[39m\u001b[39mDescribe variable:\u001b[39m\u001b[39m{\u001b[39;00mcolumn\u001b[39m}\u001b[39;00m\u001b[39m\"\u001b[39m)\n",
      "File \u001b[1;32md:\\projects\\customer_segmentation\\env\\lib\\multiprocessing\\pool.py:868\u001b[0m, in \u001b[0;36mIMapIterator.next\u001b[1;34m(self, timeout)\u001b[0m\n\u001b[0;32m    867\u001b[0m     \u001b[39mreturn\u001b[39;00m value\n\u001b[1;32m--> 868\u001b[0m \u001b[39mraise\u001b[39;00m value\n",
      "File \u001b[1;32md:\\projects\\customer_segmentation\\env\\lib\\multiprocessing\\pool.py:125\u001b[0m, in \u001b[0;36mworker\u001b[1;34m(inqueue, outqueue, initializer, initargs, maxtasks, wrap_exception)\u001b[0m\n\u001b[0;32m    124\u001b[0m \u001b[39mtry\u001b[39;00m:\n\u001b[1;32m--> 125\u001b[0m     result \u001b[39m=\u001b[39m (\u001b[39mTrue\u001b[39;00m, func(\u001b[39m*\u001b[39;49margs, \u001b[39m*\u001b[39;49m\u001b[39m*\u001b[39;49mkwds))\n\u001b[0;32m    126\u001b[0m \u001b[39mexcept\u001b[39;00m \u001b[39mException\u001b[39;00m \u001b[39mas\u001b[39;00m e:\n",
      "File \u001b[1;32md:\\projects\\customer_segmentation\\env\\lib\\site-packages\\ydata_profiling\\model\\pandas\\summary_pandas.py:79\u001b[0m, in \u001b[0;36mpandas_get_series_descriptions.<locals>.multiprocess_1d\u001b[1;34m(args)\u001b[0m\n\u001b[0;32m     78\u001b[0m column, series \u001b[39m=\u001b[39m args\n\u001b[1;32m---> 79\u001b[0m \u001b[39mreturn\u001b[39;00m column, describe_1d(config, series, summarizer, typeset)\n",
      "File \u001b[1;32md:\\projects\\customer_segmentation\\env\\lib\\site-packages\\multimethod\\__init__.py:317\u001b[0m, in \u001b[0;36mmultimethod.__call__\u001b[1;34m(self, *args, **kwargs)\u001b[0m\n\u001b[0;32m    316\u001b[0m \u001b[39mexcept\u001b[39;00m \u001b[39mTypeError\u001b[39;00m \u001b[39mas\u001b[39;00m ex:\n\u001b[1;32m--> 317\u001b[0m     \u001b[39mraise\u001b[39;00m DispatchError(\u001b[39mf\u001b[39m\u001b[39m\"\u001b[39m\u001b[39mFunction \u001b[39m\u001b[39m{\u001b[39;00mfunc\u001b[39m.\u001b[39m\u001b[39m__code__\u001b[39m\u001b[39m}\u001b[39;00m\u001b[39m\"\u001b[39m) \u001b[39mfrom\u001b[39;00m \u001b[39mex\u001b[39;00m\n",
      "\u001b[1;31mDispatchError\u001b[0m: Function <code object pandas_describe_1d at 0x000001A12727C2F0, file \"d:\\projects\\customer_segmentation\\env\\lib\\site-packages\\ydata_profiling\\model\\pandas\\summary_pandas.py\", line 19>",
      "\nThe above exception was the direct cause of the following exception:\n",
      "\u001b[1;31mDispatchError\u001b[0m                             Traceback (most recent call last)",
      "\u001b[1;32md:\\projects\\customer_segmentation\\eda.ipynb Cell 43\u001b[0m line \u001b[0;36m1\n\u001b[1;32m----> <a href='vscode-notebook-cell:/d%3A/projects/customer_segmentation/eda.ipynb#X60sZmlsZQ%3D%3D?line=0'>1</a>\u001b[0m report\u001b[39m.\u001b[39;49mto_file(\u001b[39m'\u001b[39;49m\u001b[39mabc.html\u001b[39;49m\u001b[39m'\u001b[39;49m)\n",
      "File \u001b[1;32md:\\projects\\customer_segmentation\\env\\lib\\site-packages\\typeguard\\__init__.py:1033\u001b[0m, in \u001b[0;36mtypechecked.<locals>.wrapper\u001b[1;34m(*args, **kwargs)\u001b[0m\n\u001b[0;32m   1031\u001b[0m memo \u001b[39m=\u001b[39m _CallMemo(python_func, _localns, args\u001b[39m=\u001b[39margs, kwargs\u001b[39m=\u001b[39mkwargs)\n\u001b[0;32m   1032\u001b[0m check_argument_types(memo)\n\u001b[1;32m-> 1033\u001b[0m retval \u001b[39m=\u001b[39m func(\u001b[39m*\u001b[39;49margs, \u001b[39m*\u001b[39;49m\u001b[39m*\u001b[39;49mkwargs)\n\u001b[0;32m   1034\u001b[0m \u001b[39mtry\u001b[39;00m:\n\u001b[0;32m   1035\u001b[0m     check_return_type(retval, memo)\n",
      "File \u001b[1;32md:\\projects\\customer_segmentation\\env\\lib\\site-packages\\ydata_profiling\\profile_report.py:355\u001b[0m, in \u001b[0;36mProfileReport.to_file\u001b[1;34m(self, output_file, silent)\u001b[0m\n\u001b[0;32m    352\u001b[0m         \u001b[39mself\u001b[39m\u001b[39m.\u001b[39mconfig\u001b[39m.\u001b[39mhtml\u001b[39m.\u001b[39massets_prefix \u001b[39m=\u001b[39m \u001b[39mstr\u001b[39m(output_file\u001b[39m.\u001b[39mstem) \u001b[39m+\u001b[39m \u001b[39m\"\u001b[39m\u001b[39m_assets\u001b[39m\u001b[39m\"\u001b[39m\n\u001b[0;32m    353\u001b[0m     create_html_assets(\u001b[39mself\u001b[39m\u001b[39m.\u001b[39mconfig, output_file)\n\u001b[1;32m--> 355\u001b[0m data \u001b[39m=\u001b[39m \u001b[39mself\u001b[39;49m\u001b[39m.\u001b[39;49mto_html()\n\u001b[0;32m    357\u001b[0m \u001b[39mif\u001b[39;00m output_file\u001b[39m.\u001b[39msuffix \u001b[39m!=\u001b[39m \u001b[39m\"\u001b[39m\u001b[39m.html\u001b[39m\u001b[39m\"\u001b[39m:\n\u001b[0;32m    358\u001b[0m     suffix \u001b[39m=\u001b[39m output_file\u001b[39m.\u001b[39msuffix\n",
      "File \u001b[1;32md:\\projects\\customer_segmentation\\env\\lib\\site-packages\\typeguard\\__init__.py:1033\u001b[0m, in \u001b[0;36mtypechecked.<locals>.wrapper\u001b[1;34m(*args, **kwargs)\u001b[0m\n\u001b[0;32m   1031\u001b[0m memo \u001b[39m=\u001b[39m _CallMemo(python_func, _localns, args\u001b[39m=\u001b[39margs, kwargs\u001b[39m=\u001b[39mkwargs)\n\u001b[0;32m   1032\u001b[0m check_argument_types(memo)\n\u001b[1;32m-> 1033\u001b[0m retval \u001b[39m=\u001b[39m func(\u001b[39m*\u001b[39;49margs, \u001b[39m*\u001b[39;49m\u001b[39m*\u001b[39;49mkwargs)\n\u001b[0;32m   1034\u001b[0m \u001b[39mtry\u001b[39;00m:\n\u001b[0;32m   1035\u001b[0m     check_return_type(retval, memo)\n",
      "File \u001b[1;32md:\\projects\\customer_segmentation\\env\\lib\\site-packages\\ydata_profiling\\profile_report.py:470\u001b[0m, in \u001b[0;36mProfileReport.to_html\u001b[1;34m(self)\u001b[0m\n\u001b[0;32m    462\u001b[0m \u001b[39mdef\u001b[39;00m \u001b[39mto_html\u001b[39m(\u001b[39mself\u001b[39m) \u001b[39m-\u001b[39m\u001b[39m>\u001b[39m \u001b[39mstr\u001b[39m:\n\u001b[0;32m    463\u001b[0m \u001b[39m    \u001b[39m\u001b[39m\"\"\"Generate and return complete template as lengthy string\u001b[39;00m\n\u001b[0;32m    464\u001b[0m \u001b[39m        for using with frameworks.\u001b[39;00m\n\u001b[0;32m    465\u001b[0m \n\u001b[1;32m   (...)\u001b[0m\n\u001b[0;32m    468\u001b[0m \n\u001b[0;32m    469\u001b[0m \u001b[39m    \"\"\"\u001b[39;00m\n\u001b[1;32m--> 470\u001b[0m     \u001b[39mreturn\u001b[39;00m \u001b[39mself\u001b[39;49m\u001b[39m.\u001b[39;49mhtml\n",
      "File \u001b[1;32md:\\projects\\customer_segmentation\\env\\lib\\site-packages\\typeguard\\__init__.py:1033\u001b[0m, in \u001b[0;36mtypechecked.<locals>.wrapper\u001b[1;34m(*args, **kwargs)\u001b[0m\n\u001b[0;32m   1031\u001b[0m memo \u001b[39m=\u001b[39m _CallMemo(python_func, _localns, args\u001b[39m=\u001b[39margs, kwargs\u001b[39m=\u001b[39mkwargs)\n\u001b[0;32m   1032\u001b[0m check_argument_types(memo)\n\u001b[1;32m-> 1033\u001b[0m retval \u001b[39m=\u001b[39m func(\u001b[39m*\u001b[39;49margs, \u001b[39m*\u001b[39;49m\u001b[39m*\u001b[39;49mkwargs)\n\u001b[0;32m   1034\u001b[0m \u001b[39mtry\u001b[39;00m:\n\u001b[0;32m   1035\u001b[0m     check_return_type(retval, memo)\n",
      "File \u001b[1;32md:\\projects\\customer_segmentation\\env\\lib\\site-packages\\ydata_profiling\\profile_report.py:277\u001b[0m, in \u001b[0;36mProfileReport.html\u001b[1;34m(self)\u001b[0m\n\u001b[0;32m    274\u001b[0m \u001b[39m@property\u001b[39m\n\u001b[0;32m    275\u001b[0m \u001b[39mdef\u001b[39;00m \u001b[39mhtml\u001b[39m(\u001b[39mself\u001b[39m) \u001b[39m-\u001b[39m\u001b[39m>\u001b[39m \u001b[39mstr\u001b[39m:\n\u001b[0;32m    276\u001b[0m     \u001b[39mif\u001b[39;00m \u001b[39mself\u001b[39m\u001b[39m.\u001b[39m_html \u001b[39mis\u001b[39;00m \u001b[39mNone\u001b[39;00m:\n\u001b[1;32m--> 277\u001b[0m         \u001b[39mself\u001b[39m\u001b[39m.\u001b[39m_html \u001b[39m=\u001b[39m \u001b[39mself\u001b[39;49m\u001b[39m.\u001b[39;49m_render_html()\n\u001b[0;32m    278\u001b[0m     \u001b[39mreturn\u001b[39;00m \u001b[39mself\u001b[39m\u001b[39m.\u001b[39m_html\n",
      "File \u001b[1;32md:\\projects\\customer_segmentation\\env\\lib\\site-packages\\typeguard\\__init__.py:1033\u001b[0m, in \u001b[0;36mtypechecked.<locals>.wrapper\u001b[1;34m(*args, **kwargs)\u001b[0m\n\u001b[0;32m   1031\u001b[0m memo \u001b[39m=\u001b[39m _CallMemo(python_func, _localns, args\u001b[39m=\u001b[39margs, kwargs\u001b[39m=\u001b[39mkwargs)\n\u001b[0;32m   1032\u001b[0m check_argument_types(memo)\n\u001b[1;32m-> 1033\u001b[0m retval \u001b[39m=\u001b[39m func(\u001b[39m*\u001b[39;49margs, \u001b[39m*\u001b[39;49m\u001b[39m*\u001b[39;49mkwargs)\n\u001b[0;32m   1034\u001b[0m \u001b[39mtry\u001b[39;00m:\n\u001b[0;32m   1035\u001b[0m     check_return_type(retval, memo)\n",
      "File \u001b[1;32md:\\projects\\customer_segmentation\\env\\lib\\site-packages\\ydata_profiling\\profile_report.py:385\u001b[0m, in \u001b[0;36mProfileReport._render_html\u001b[1;34m(self)\u001b[0m\n\u001b[0;32m    382\u001b[0m \u001b[39mdef\u001b[39;00m \u001b[39m_render_html\u001b[39m(\u001b[39mself\u001b[39m) \u001b[39m-\u001b[39m\u001b[39m>\u001b[39m \u001b[39mstr\u001b[39m:\n\u001b[0;32m    383\u001b[0m     \u001b[39mfrom\u001b[39;00m \u001b[39mydata_profiling\u001b[39;00m\u001b[39m.\u001b[39;00m\u001b[39mreport\u001b[39;00m\u001b[39m.\u001b[39;00m\u001b[39mpresentation\u001b[39;00m\u001b[39m.\u001b[39;00m\u001b[39mflavours\u001b[39;00m \u001b[39mimport\u001b[39;00m HTMLReport\n\u001b[1;32m--> 385\u001b[0m     report \u001b[39m=\u001b[39m \u001b[39mself\u001b[39;49m\u001b[39m.\u001b[39;49mreport\n\u001b[0;32m    387\u001b[0m     \u001b[39mwith\u001b[39;00m tqdm(\n\u001b[0;32m    388\u001b[0m         total\u001b[39m=\u001b[39m\u001b[39m1\u001b[39m, desc\u001b[39m=\u001b[39m\u001b[39m\"\u001b[39m\u001b[39mRender HTML\u001b[39m\u001b[39m\"\u001b[39m, disable\u001b[39m=\u001b[39m\u001b[39mnot\u001b[39;00m \u001b[39mself\u001b[39m\u001b[39m.\u001b[39mconfig\u001b[39m.\u001b[39mprogress_bar\n\u001b[0;32m    389\u001b[0m     ) \u001b[39mas\u001b[39;00m pbar:\n\u001b[0;32m    390\u001b[0m         html \u001b[39m=\u001b[39m HTMLReport(copy\u001b[39m.\u001b[39mdeepcopy(report))\u001b[39m.\u001b[39mrender(\n\u001b[0;32m    391\u001b[0m             nav\u001b[39m=\u001b[39m\u001b[39mself\u001b[39m\u001b[39m.\u001b[39mconfig\u001b[39m.\u001b[39mhtml\u001b[39m.\u001b[39mnavbar_show,\n\u001b[0;32m    392\u001b[0m             offline\u001b[39m=\u001b[39m\u001b[39mself\u001b[39m\u001b[39m.\u001b[39mconfig\u001b[39m.\u001b[39mhtml\u001b[39m.\u001b[39muse_local_assets,\n\u001b[1;32m   (...)\u001b[0m\n\u001b[0;32m    400\u001b[0m             version\u001b[39m=\u001b[39m\u001b[39mself\u001b[39m\u001b[39m.\u001b[39mdescription_set\u001b[39m.\u001b[39mpackage[\u001b[39m\"\u001b[39m\u001b[39mydata_profiling_version\u001b[39m\u001b[39m\"\u001b[39m],\n\u001b[0;32m    401\u001b[0m         )\n",
      "File \u001b[1;32md:\\projects\\customer_segmentation\\env\\lib\\site-packages\\typeguard\\__init__.py:1033\u001b[0m, in \u001b[0;36mtypechecked.<locals>.wrapper\u001b[1;34m(*args, **kwargs)\u001b[0m\n\u001b[0;32m   1031\u001b[0m memo \u001b[39m=\u001b[39m _CallMemo(python_func, _localns, args\u001b[39m=\u001b[39margs, kwargs\u001b[39m=\u001b[39mkwargs)\n\u001b[0;32m   1032\u001b[0m check_argument_types(memo)\n\u001b[1;32m-> 1033\u001b[0m retval \u001b[39m=\u001b[39m func(\u001b[39m*\u001b[39;49margs, \u001b[39m*\u001b[39;49m\u001b[39m*\u001b[39;49mkwargs)\n\u001b[0;32m   1034\u001b[0m \u001b[39mtry\u001b[39;00m:\n\u001b[0;32m   1035\u001b[0m     check_return_type(retval, memo)\n",
      "File \u001b[1;32md:\\projects\\customer_segmentation\\env\\lib\\site-packages\\ydata_profiling\\profile_report.py:271\u001b[0m, in \u001b[0;36mProfileReport.report\u001b[1;34m(self)\u001b[0m\n\u001b[0;32m    268\u001b[0m \u001b[39m@property\u001b[39m\n\u001b[0;32m    269\u001b[0m \u001b[39mdef\u001b[39;00m \u001b[39mreport\u001b[39m(\u001b[39mself\u001b[39m) \u001b[39m-\u001b[39m\u001b[39m>\u001b[39m Root:\n\u001b[0;32m    270\u001b[0m     \u001b[39mif\u001b[39;00m \u001b[39mself\u001b[39m\u001b[39m.\u001b[39m_report \u001b[39mis\u001b[39;00m \u001b[39mNone\u001b[39;00m:\n\u001b[1;32m--> 271\u001b[0m         \u001b[39mself\u001b[39m\u001b[39m.\u001b[39m_report \u001b[39m=\u001b[39m get_report_structure(\u001b[39mself\u001b[39m\u001b[39m.\u001b[39mconfig, \u001b[39mself\u001b[39;49m\u001b[39m.\u001b[39;49mdescription_set)\n\u001b[0;32m    272\u001b[0m     \u001b[39mreturn\u001b[39;00m \u001b[39mself\u001b[39m\u001b[39m.\u001b[39m_report\n",
      "File \u001b[1;32md:\\projects\\customer_segmentation\\env\\lib\\site-packages\\typeguard\\__init__.py:1033\u001b[0m, in \u001b[0;36mtypechecked.<locals>.wrapper\u001b[1;34m(*args, **kwargs)\u001b[0m\n\u001b[0;32m   1031\u001b[0m memo \u001b[39m=\u001b[39m _CallMemo(python_func, _localns, args\u001b[39m=\u001b[39margs, kwargs\u001b[39m=\u001b[39mkwargs)\n\u001b[0;32m   1032\u001b[0m check_argument_types(memo)\n\u001b[1;32m-> 1033\u001b[0m retval \u001b[39m=\u001b[39m func(\u001b[39m*\u001b[39;49margs, \u001b[39m*\u001b[39;49m\u001b[39m*\u001b[39;49mkwargs)\n\u001b[0;32m   1034\u001b[0m \u001b[39mtry\u001b[39;00m:\n\u001b[0;32m   1035\u001b[0m     check_return_type(retval, memo)\n",
      "File \u001b[1;32md:\\projects\\customer_segmentation\\env\\lib\\site-packages\\ydata_profiling\\profile_report.py:253\u001b[0m, in \u001b[0;36mProfileReport.description_set\u001b[1;34m(self)\u001b[0m\n\u001b[0;32m    250\u001b[0m \u001b[39m@property\u001b[39m\n\u001b[0;32m    251\u001b[0m \u001b[39mdef\u001b[39;00m \u001b[39mdescription_set\u001b[39m(\u001b[39mself\u001b[39m) \u001b[39m-\u001b[39m\u001b[39m>\u001b[39m BaseDescription:\n\u001b[0;32m    252\u001b[0m     \u001b[39mif\u001b[39;00m \u001b[39mself\u001b[39m\u001b[39m.\u001b[39m_description_set \u001b[39mis\u001b[39;00m \u001b[39mNone\u001b[39;00m:\n\u001b[1;32m--> 253\u001b[0m         \u001b[39mself\u001b[39m\u001b[39m.\u001b[39m_description_set \u001b[39m=\u001b[39m describe_df(\n\u001b[0;32m    254\u001b[0m             \u001b[39mself\u001b[39;49m\u001b[39m.\u001b[39;49mconfig,\n\u001b[0;32m    255\u001b[0m             \u001b[39mself\u001b[39;49m\u001b[39m.\u001b[39;49mdf,\n\u001b[0;32m    256\u001b[0m             \u001b[39mself\u001b[39;49m\u001b[39m.\u001b[39;49msummarizer,\n\u001b[0;32m    257\u001b[0m             \u001b[39mself\u001b[39;49m\u001b[39m.\u001b[39;49mtypeset,\n\u001b[0;32m    258\u001b[0m             \u001b[39mself\u001b[39;49m\u001b[39m.\u001b[39;49m_sample,\n\u001b[0;32m    259\u001b[0m         )\n\u001b[0;32m    260\u001b[0m     \u001b[39mreturn\u001b[39;00m \u001b[39mself\u001b[39m\u001b[39m.\u001b[39m_description_set\n",
      "File \u001b[1;32md:\\projects\\customer_segmentation\\env\\lib\\site-packages\\ydata_profiling\\model\\describe.py:74\u001b[0m, in \u001b[0;36mdescribe\u001b[1;34m(config, df, summarizer, typeset, sample)\u001b[0m\n\u001b[0;32m     72\u001b[0m \u001b[39m# Variable-specific\u001b[39;00m\n\u001b[0;32m     73\u001b[0m pbar\u001b[39m.\u001b[39mtotal \u001b[39m+\u001b[39m\u001b[39m=\u001b[39m \u001b[39mlen\u001b[39m(df\u001b[39m.\u001b[39mcolumns)\n\u001b[1;32m---> 74\u001b[0m series_description \u001b[39m=\u001b[39m get_series_descriptions(\n\u001b[0;32m     75\u001b[0m     config, df, summarizer, typeset, pbar\n\u001b[0;32m     76\u001b[0m )\n\u001b[0;32m     78\u001b[0m pbar\u001b[39m.\u001b[39mset_postfix_str(\u001b[39m\"\u001b[39m\u001b[39mGet variable types\u001b[39m\u001b[39m\"\u001b[39m)\n\u001b[0;32m     79\u001b[0m pbar\u001b[39m.\u001b[39mtotal \u001b[39m+\u001b[39m\u001b[39m=\u001b[39m \u001b[39m1\u001b[39m\n",
      "File \u001b[1;32md:\\projects\\customer_segmentation\\env\\lib\\site-packages\\multimethod\\__init__.py:317\u001b[0m, in \u001b[0;36mmultimethod.__call__\u001b[1;34m(self, *args, **kwargs)\u001b[0m\n\u001b[0;32m    315\u001b[0m     \u001b[39mreturn\u001b[39;00m func(\u001b[39m*\u001b[39margs, \u001b[39m*\u001b[39m\u001b[39m*\u001b[39mkwargs)\n\u001b[0;32m    316\u001b[0m \u001b[39mexcept\u001b[39;00m \u001b[39mTypeError\u001b[39;00m \u001b[39mas\u001b[39;00m ex:\n\u001b[1;32m--> 317\u001b[0m     \u001b[39mraise\u001b[39;00m DispatchError(\u001b[39mf\u001b[39m\u001b[39m\"\u001b[39m\u001b[39mFunction \u001b[39m\u001b[39m{\u001b[39;00mfunc\u001b[39m.\u001b[39m\u001b[39m__code__\u001b[39m\u001b[39m}\u001b[39;00m\u001b[39m\"\u001b[39m) \u001b[39mfrom\u001b[39;00m \u001b[39mex\u001b[39;00m\n",
      "\u001b[1;31mDispatchError\u001b[0m: Function <code object pandas_get_series_descriptions at 0x000001A12727C660, file \"d:\\projects\\customer_segmentation\\env\\lib\\site-packages\\ydata_profiling\\model\\pandas\\summary_pandas.py\", line 60>"
     ]
    }
   ],
   "source": [
    "report.to_file('abc.html')"
   ]
  },
  {
   "cell_type": "code",
   "execution_count": 41,
   "metadata": {},
   "outputs": [],
   "source": [
    "import pandas as pd\n",
    "#df_no_duplicates = df1.drop_duplicates()\n",
    "\n",
    "#print(df_no_duplicates)\n",
    "df1.drop_duplicates(inplace=True)\n"
   ]
  },
  {
   "cell_type": "code",
   "execution_count": 42,
   "metadata": {},
   "outputs": [
    {
     "name": "stdout",
     "output_type": "stream",
     "text": [
      "Number of duplicate rows: 0\n"
     ]
    }
   ],
   "source": [
    "import pandas as pd\n",
    "\n",
    "duplicate_rows = df1[df1.duplicated()]\n",
    "num_duplicate_rows = len(duplicate_rows)\n",
    "\n",
    "#num_duplicate_values = len(df1[df1['Description'].duplicated()])\n",
    "\n",
    "print(\"Number of duplicate rows:\", num_duplicate_rows)\n",
    "#print(\"Number of duplicate values in column 'A':\", num_duplicate_values)\n"
   ]
  },
  {
   "cell_type": "code",
   "execution_count": 43,
   "metadata": {},
   "outputs": [
    {
     "name": "stdout",
     "output_type": "stream",
     "text": [
      "StockCode           0\n",
      "Description      1453\n",
      "Quantity            0\n",
      "UnitPrice           0\n",
      "CustomerID     134497\n",
      "Country             0\n",
      "Date                0\n",
      "Time                0\n",
      "dtype: int64\n"
     ]
    }
   ],
   "source": [
    "null_counts = df1.isnull().sum()\n",
    "\n",
    "print(null_counts)\n"
   ]
  },
  {
   "cell_type": "code",
   "execution_count": 44,
   "metadata": {},
   "outputs": [],
   "source": [
    "# Remove rows with missing values in-place\n",
    "df1.dropna(inplace=True)\n"
   ]
  },
  {
   "cell_type": "code",
   "execution_count": 45,
   "metadata": {},
   "outputs": [
    {
     "data": {
      "text/html": [
       "<div>\n",
       "<style scoped>\n",
       "    .dataframe tbody tr th:only-of-type {\n",
       "        vertical-align: middle;\n",
       "    }\n",
       "\n",
       "    .dataframe tbody tr th {\n",
       "        vertical-align: top;\n",
       "    }\n",
       "\n",
       "    .dataframe thead th {\n",
       "        text-align: right;\n",
       "    }\n",
       "</style>\n",
       "<table border=\"1\" class=\"dataframe\">\n",
       "  <thead>\n",
       "    <tr style=\"text-align: right;\">\n",
       "      <th></th>\n",
       "      <th>StockCode</th>\n",
       "      <th>Description</th>\n",
       "      <th>Quantity</th>\n",
       "      <th>UnitPrice</th>\n",
       "      <th>CustomerID</th>\n",
       "      <th>Country</th>\n",
       "      <th>Date</th>\n",
       "      <th>Time</th>\n",
       "    </tr>\n",
       "  </thead>\n",
       "  <tbody>\n",
       "    <tr>\n",
       "      <th>0</th>\n",
       "      <td>85123A</td>\n",
       "      <td>WHITE HANGING HEART T-LIGHT HOLDER</td>\n",
       "      <td>6</td>\n",
       "      <td>2.55</td>\n",
       "      <td>17850.0</td>\n",
       "      <td>United Kingdom</td>\n",
       "      <td>2010-12-01</td>\n",
       "      <td>08:26:00</td>\n",
       "    </tr>\n",
       "    <tr>\n",
       "      <th>1</th>\n",
       "      <td>71053</td>\n",
       "      <td>WHITE METAL LANTERN</td>\n",
       "      <td>6</td>\n",
       "      <td>3.39</td>\n",
       "      <td>17850.0</td>\n",
       "      <td>United Kingdom</td>\n",
       "      <td>2010-12-01</td>\n",
       "      <td>08:26:00</td>\n",
       "    </tr>\n",
       "    <tr>\n",
       "      <th>2</th>\n",
       "      <td>84406B</td>\n",
       "      <td>CREAM CUPID HEARTS COAT HANGER</td>\n",
       "      <td>8</td>\n",
       "      <td>2.75</td>\n",
       "      <td>17850.0</td>\n",
       "      <td>United Kingdom</td>\n",
       "      <td>2010-12-01</td>\n",
       "      <td>08:26:00</td>\n",
       "    </tr>\n",
       "    <tr>\n",
       "      <th>3</th>\n",
       "      <td>84029G</td>\n",
       "      <td>KNITTED UNION FLAG HOT WATER BOTTLE</td>\n",
       "      <td>6</td>\n",
       "      <td>3.39</td>\n",
       "      <td>17850.0</td>\n",
       "      <td>United Kingdom</td>\n",
       "      <td>2010-12-01</td>\n",
       "      <td>08:26:00</td>\n",
       "    </tr>\n",
       "    <tr>\n",
       "      <th>4</th>\n",
       "      <td>84029E</td>\n",
       "      <td>RED WOOLLY HOTTIE WHITE HEART.</td>\n",
       "      <td>6</td>\n",
       "      <td>3.39</td>\n",
       "      <td>17850.0</td>\n",
       "      <td>United Kingdom</td>\n",
       "      <td>2010-12-01</td>\n",
       "      <td>08:26:00</td>\n",
       "    </tr>\n",
       "    <tr>\n",
       "      <th>...</th>\n",
       "      <td>...</td>\n",
       "      <td>...</td>\n",
       "      <td>...</td>\n",
       "      <td>...</td>\n",
       "      <td>...</td>\n",
       "      <td>...</td>\n",
       "      <td>...</td>\n",
       "      <td>...</td>\n",
       "    </tr>\n",
       "    <tr>\n",
       "      <th>541904</th>\n",
       "      <td>22613</td>\n",
       "      <td>PACK OF 20 SPACEBOY NAPKINS</td>\n",
       "      <td>12</td>\n",
       "      <td>0.85</td>\n",
       "      <td>12680.0</td>\n",
       "      <td>France</td>\n",
       "      <td>2011-12-09</td>\n",
       "      <td>12:50:00</td>\n",
       "    </tr>\n",
       "    <tr>\n",
       "      <th>541905</th>\n",
       "      <td>22899</td>\n",
       "      <td>CHILDREN'S APRON DOLLY GIRL</td>\n",
       "      <td>6</td>\n",
       "      <td>2.10</td>\n",
       "      <td>12680.0</td>\n",
       "      <td>France</td>\n",
       "      <td>2011-12-09</td>\n",
       "      <td>12:50:00</td>\n",
       "    </tr>\n",
       "    <tr>\n",
       "      <th>541906</th>\n",
       "      <td>23254</td>\n",
       "      <td>CHILDRENS CUTLERY DOLLY GIRL</td>\n",
       "      <td>4</td>\n",
       "      <td>4.15</td>\n",
       "      <td>12680.0</td>\n",
       "      <td>France</td>\n",
       "      <td>2011-12-09</td>\n",
       "      <td>12:50:00</td>\n",
       "    </tr>\n",
       "    <tr>\n",
       "      <th>541907</th>\n",
       "      <td>23255</td>\n",
       "      <td>CHILDRENS CUTLERY CIRCUS PARADE</td>\n",
       "      <td>4</td>\n",
       "      <td>4.15</td>\n",
       "      <td>12680.0</td>\n",
       "      <td>France</td>\n",
       "      <td>2011-12-09</td>\n",
       "      <td>12:50:00</td>\n",
       "    </tr>\n",
       "    <tr>\n",
       "      <th>541908</th>\n",
       "      <td>22138</td>\n",
       "      <td>BAKING SET 9 PIECE RETROSPOT</td>\n",
       "      <td>3</td>\n",
       "      <td>4.95</td>\n",
       "      <td>12680.0</td>\n",
       "      <td>France</td>\n",
       "      <td>2011-12-09</td>\n",
       "      <td>12:50:00</td>\n",
       "    </tr>\n",
       "  </tbody>\n",
       "</table>\n",
       "<p>401564 rows × 8 columns</p>\n",
       "</div>"
      ],
      "text/plain": [
       "       StockCode                          Description  Quantity  UnitPrice  \\\n",
       "0         85123A   WHITE HANGING HEART T-LIGHT HOLDER         6       2.55   \n",
       "1          71053                  WHITE METAL LANTERN         6       3.39   \n",
       "2         84406B       CREAM CUPID HEARTS COAT HANGER         8       2.75   \n",
       "3         84029G  KNITTED UNION FLAG HOT WATER BOTTLE         6       3.39   \n",
       "4         84029E       RED WOOLLY HOTTIE WHITE HEART.         6       3.39   \n",
       "...          ...                                  ...       ...        ...   \n",
       "541904     22613          PACK OF 20 SPACEBOY NAPKINS        12       0.85   \n",
       "541905     22899         CHILDREN'S APRON DOLLY GIRL          6       2.10   \n",
       "541906     23254        CHILDRENS CUTLERY DOLLY GIRL          4       4.15   \n",
       "541907     23255      CHILDRENS CUTLERY CIRCUS PARADE         4       4.15   \n",
       "541908     22138        BAKING SET 9 PIECE RETROSPOT          3       4.95   \n",
       "\n",
       "        CustomerID         Country        Date      Time  \n",
       "0          17850.0  United Kingdom  2010-12-01  08:26:00  \n",
       "1          17850.0  United Kingdom  2010-12-01  08:26:00  \n",
       "2          17850.0  United Kingdom  2010-12-01  08:26:00  \n",
       "3          17850.0  United Kingdom  2010-12-01  08:26:00  \n",
       "4          17850.0  United Kingdom  2010-12-01  08:26:00  \n",
       "...            ...             ...         ...       ...  \n",
       "541904     12680.0          France  2011-12-09  12:50:00  \n",
       "541905     12680.0          France  2011-12-09  12:50:00  \n",
       "541906     12680.0          France  2011-12-09  12:50:00  \n",
       "541907     12680.0          France  2011-12-09  12:50:00  \n",
       "541908     12680.0          France  2011-12-09  12:50:00  \n",
       "\n",
       "[401564 rows x 8 columns]"
      ]
     },
     "execution_count": 45,
     "metadata": {},
     "output_type": "execute_result"
    }
   ],
   "source": [
    "df1"
   ]
  },
  {
   "cell_type": "code",
   "execution_count": 46,
   "metadata": {},
   "outputs": [],
   "source": [
    "exp_df=df1.copy()\n",
    "exp_df.drop(columns='Time',axis=1,inplace=True)\n"
   ]
  },
  {
   "cell_type": "code",
   "execution_count": 47,
   "metadata": {},
   "outputs": [
    {
     "data": {
      "text/plain": [
       "StockCode       object\n",
       "Description     object\n",
       "Quantity         int32\n",
       "UnitPrice      float64\n",
       "CustomerID     float64\n",
       "Country         object\n",
       "Date            object\n",
       "dtype: object"
      ]
     },
     "execution_count": 47,
     "metadata": {},
     "output_type": "execute_result"
    }
   ],
   "source": [
    "exp_df.dtypes"
   ]
  },
  {
   "cell_type": "code",
   "execution_count": 48,
   "metadata": {},
   "outputs": [
    {
     "data": {
      "text/html": [
       "<div>\n",
       "<style scoped>\n",
       "    .dataframe tbody tr th:only-of-type {\n",
       "        vertical-align: middle;\n",
       "    }\n",
       "\n",
       "    .dataframe tbody tr th {\n",
       "        vertical-align: top;\n",
       "    }\n",
       "\n",
       "    .dataframe thead th {\n",
       "        text-align: right;\n",
       "    }\n",
       "</style>\n",
       "<table border=\"1\" class=\"dataframe\">\n",
       "  <thead>\n",
       "    <tr style=\"text-align: right;\">\n",
       "      <th></th>\n",
       "      <th>StockCode</th>\n",
       "      <th>Description</th>\n",
       "      <th>Quantity</th>\n",
       "      <th>UnitPrice</th>\n",
       "      <th>CustomerID</th>\n",
       "      <th>Country</th>\n",
       "      <th>Date</th>\n",
       "    </tr>\n",
       "  </thead>\n",
       "  <tbody>\n",
       "    <tr>\n",
       "      <th>0</th>\n",
       "      <td>85123A</td>\n",
       "      <td>WHITE HANGING HEART T-LIGHT HOLDER</td>\n",
       "      <td>6</td>\n",
       "      <td>2.55</td>\n",
       "      <td>17850.0</td>\n",
       "      <td>United Kingdom</td>\n",
       "      <td>2010-12-01</td>\n",
       "    </tr>\n",
       "    <tr>\n",
       "      <th>1</th>\n",
       "      <td>71053</td>\n",
       "      <td>WHITE METAL LANTERN</td>\n",
       "      <td>6</td>\n",
       "      <td>3.39</td>\n",
       "      <td>17850.0</td>\n",
       "      <td>United Kingdom</td>\n",
       "      <td>2010-12-01</td>\n",
       "    </tr>\n",
       "    <tr>\n",
       "      <th>2</th>\n",
       "      <td>84406B</td>\n",
       "      <td>CREAM CUPID HEARTS COAT HANGER</td>\n",
       "      <td>8</td>\n",
       "      <td>2.75</td>\n",
       "      <td>17850.0</td>\n",
       "      <td>United Kingdom</td>\n",
       "      <td>2010-12-01</td>\n",
       "    </tr>\n",
       "    <tr>\n",
       "      <th>3</th>\n",
       "      <td>84029G</td>\n",
       "      <td>KNITTED UNION FLAG HOT WATER BOTTLE</td>\n",
       "      <td>6</td>\n",
       "      <td>3.39</td>\n",
       "      <td>17850.0</td>\n",
       "      <td>United Kingdom</td>\n",
       "      <td>2010-12-01</td>\n",
       "    </tr>\n",
       "    <tr>\n",
       "      <th>4</th>\n",
       "      <td>84029E</td>\n",
       "      <td>RED WOOLLY HOTTIE WHITE HEART.</td>\n",
       "      <td>6</td>\n",
       "      <td>3.39</td>\n",
       "      <td>17850.0</td>\n",
       "      <td>United Kingdom</td>\n",
       "      <td>2010-12-01</td>\n",
       "    </tr>\n",
       "    <tr>\n",
       "      <th>...</th>\n",
       "      <td>...</td>\n",
       "      <td>...</td>\n",
       "      <td>...</td>\n",
       "      <td>...</td>\n",
       "      <td>...</td>\n",
       "      <td>...</td>\n",
       "      <td>...</td>\n",
       "    </tr>\n",
       "    <tr>\n",
       "      <th>541904</th>\n",
       "      <td>22613</td>\n",
       "      <td>PACK OF 20 SPACEBOY NAPKINS</td>\n",
       "      <td>12</td>\n",
       "      <td>0.85</td>\n",
       "      <td>12680.0</td>\n",
       "      <td>France</td>\n",
       "      <td>2011-12-09</td>\n",
       "    </tr>\n",
       "    <tr>\n",
       "      <th>541905</th>\n",
       "      <td>22899</td>\n",
       "      <td>CHILDREN'S APRON DOLLY GIRL</td>\n",
       "      <td>6</td>\n",
       "      <td>2.10</td>\n",
       "      <td>12680.0</td>\n",
       "      <td>France</td>\n",
       "      <td>2011-12-09</td>\n",
       "    </tr>\n",
       "    <tr>\n",
       "      <th>541906</th>\n",
       "      <td>23254</td>\n",
       "      <td>CHILDRENS CUTLERY DOLLY GIRL</td>\n",
       "      <td>4</td>\n",
       "      <td>4.15</td>\n",
       "      <td>12680.0</td>\n",
       "      <td>France</td>\n",
       "      <td>2011-12-09</td>\n",
       "    </tr>\n",
       "    <tr>\n",
       "      <th>541907</th>\n",
       "      <td>23255</td>\n",
       "      <td>CHILDRENS CUTLERY CIRCUS PARADE</td>\n",
       "      <td>4</td>\n",
       "      <td>4.15</td>\n",
       "      <td>12680.0</td>\n",
       "      <td>France</td>\n",
       "      <td>2011-12-09</td>\n",
       "    </tr>\n",
       "    <tr>\n",
       "      <th>541908</th>\n",
       "      <td>22138</td>\n",
       "      <td>BAKING SET 9 PIECE RETROSPOT</td>\n",
       "      <td>3</td>\n",
       "      <td>4.95</td>\n",
       "      <td>12680.0</td>\n",
       "      <td>France</td>\n",
       "      <td>2011-12-09</td>\n",
       "    </tr>\n",
       "  </tbody>\n",
       "</table>\n",
       "<p>401564 rows × 7 columns</p>\n",
       "</div>"
      ],
      "text/plain": [
       "       StockCode                          Description  Quantity  UnitPrice  \\\n",
       "0         85123A   WHITE HANGING HEART T-LIGHT HOLDER         6       2.55   \n",
       "1          71053                  WHITE METAL LANTERN         6       3.39   \n",
       "2         84406B       CREAM CUPID HEARTS COAT HANGER         8       2.75   \n",
       "3         84029G  KNITTED UNION FLAG HOT WATER BOTTLE         6       3.39   \n",
       "4         84029E       RED WOOLLY HOTTIE WHITE HEART.         6       3.39   \n",
       "...          ...                                  ...       ...        ...   \n",
       "541904     22613          PACK OF 20 SPACEBOY NAPKINS        12       0.85   \n",
       "541905     22899         CHILDREN'S APRON DOLLY GIRL          6       2.10   \n",
       "541906     23254        CHILDRENS CUTLERY DOLLY GIRL          4       4.15   \n",
       "541907     23255      CHILDRENS CUTLERY CIRCUS PARADE         4       4.15   \n",
       "541908     22138        BAKING SET 9 PIECE RETROSPOT          3       4.95   \n",
       "\n",
       "        CustomerID         Country        Date  \n",
       "0          17850.0  United Kingdom  2010-12-01  \n",
       "1          17850.0  United Kingdom  2010-12-01  \n",
       "2          17850.0  United Kingdom  2010-12-01  \n",
       "3          17850.0  United Kingdom  2010-12-01  \n",
       "4          17850.0  United Kingdom  2010-12-01  \n",
       "...            ...             ...         ...  \n",
       "541904     12680.0          France  2011-12-09  \n",
       "541905     12680.0          France  2011-12-09  \n",
       "541906     12680.0          France  2011-12-09  \n",
       "541907     12680.0          France  2011-12-09  \n",
       "541908     12680.0          France  2011-12-09  \n",
       "\n",
       "[401564 rows x 7 columns]"
      ]
     },
     "execution_count": 48,
     "metadata": {},
     "output_type": "execute_result"
    }
   ],
   "source": [
    "exp_df"
   ]
  },
  {
   "cell_type": "code",
   "execution_count": 49,
   "metadata": {},
   "outputs": [],
   "source": [
    "\n",
    "exp_df['Date'] = pd.to_datetime(exp_df['Date'])\n",
    "exp_df['Month'] = exp_df['Date'].dt.month\n"
   ]
  },
  {
   "cell_type": "code",
   "execution_count": 50,
   "metadata": {},
   "outputs": [],
   "source": [
    "exp_df.drop('Date',axis=1,inplace=True)"
   ]
  },
  {
   "cell_type": "code",
   "execution_count": 51,
   "metadata": {},
   "outputs": [
    {
     "data": {
      "text/plain": [
       "StockCode       object\n",
       "Description     object\n",
       "Quantity         int32\n",
       "UnitPrice      float64\n",
       "CustomerID     float64\n",
       "Country         object\n",
       "Month            int32\n",
       "dtype: object"
      ]
     },
     "execution_count": 51,
     "metadata": {},
     "output_type": "execute_result"
    }
   ],
   "source": [
    "exp_df.dtypes"
   ]
  },
  {
   "cell_type": "code",
   "execution_count": 52,
   "metadata": {},
   "outputs": [],
   "source": [
    "from sklearn.preprocessing import OneHotEncoder\n",
    "import pandas as pd\n"
   ]
  },
  {
   "cell_type": "code",
   "execution_count": 53,
   "metadata": {},
   "outputs": [],
   "source": [
    "encoder = OneHotEncoder(sparse=False) \n"
   ]
  },
  {
   "cell_type": "code",
   "execution_count": 54,
   "metadata": {},
   "outputs": [
    {
     "name": "stderr",
     "output_type": "stream",
     "text": [
      "d:\\projects\\customer_segmentation\\env\\lib\\site-packages\\sklearn\\preprocessing\\_encoders.py:972: FutureWarning: `sparse` was renamed to `sparse_output` in version 1.2 and will be removed in 1.4. `sparse_output` is ignored unless you leave `sparse` to its default value.\n",
      "  warnings.warn(\n"
     ]
    },
    {
     "data": {
      "text/html": [
       "<style>#sk-container-id-1 {color: black;}#sk-container-id-1 pre{padding: 0;}#sk-container-id-1 div.sk-toggleable {background-color: white;}#sk-container-id-1 label.sk-toggleable__label {cursor: pointer;display: block;width: 100%;margin-bottom: 0;padding: 0.3em;box-sizing: border-box;text-align: center;}#sk-container-id-1 label.sk-toggleable__label-arrow:before {content: \"▸\";float: left;margin-right: 0.25em;color: #696969;}#sk-container-id-1 label.sk-toggleable__label-arrow:hover:before {color: black;}#sk-container-id-1 div.sk-estimator:hover label.sk-toggleable__label-arrow:before {color: black;}#sk-container-id-1 div.sk-toggleable__content {max-height: 0;max-width: 0;overflow: hidden;text-align: left;background-color: #f0f8ff;}#sk-container-id-1 div.sk-toggleable__content pre {margin: 0.2em;color: black;border-radius: 0.25em;background-color: #f0f8ff;}#sk-container-id-1 input.sk-toggleable__control:checked~div.sk-toggleable__content {max-height: 200px;max-width: 100%;overflow: auto;}#sk-container-id-1 input.sk-toggleable__control:checked~label.sk-toggleable__label-arrow:before {content: \"▾\";}#sk-container-id-1 div.sk-estimator input.sk-toggleable__control:checked~label.sk-toggleable__label {background-color: #d4ebff;}#sk-container-id-1 div.sk-label input.sk-toggleable__control:checked~label.sk-toggleable__label {background-color: #d4ebff;}#sk-container-id-1 input.sk-hidden--visually {border: 0;clip: rect(1px 1px 1px 1px);clip: rect(1px, 1px, 1px, 1px);height: 1px;margin: -1px;overflow: hidden;padding: 0;position: absolute;width: 1px;}#sk-container-id-1 div.sk-estimator {font-family: monospace;background-color: #f0f8ff;border: 1px dotted black;border-radius: 0.25em;box-sizing: border-box;margin-bottom: 0.5em;}#sk-container-id-1 div.sk-estimator:hover {background-color: #d4ebff;}#sk-container-id-1 div.sk-parallel-item::after {content: \"\";width: 100%;border-bottom: 1px solid gray;flex-grow: 1;}#sk-container-id-1 div.sk-label:hover label.sk-toggleable__label {background-color: #d4ebff;}#sk-container-id-1 div.sk-serial::before {content: \"\";position: absolute;border-left: 1px solid gray;box-sizing: border-box;top: 0;bottom: 0;left: 50%;z-index: 0;}#sk-container-id-1 div.sk-serial {display: flex;flex-direction: column;align-items: center;background-color: white;padding-right: 0.2em;padding-left: 0.2em;position: relative;}#sk-container-id-1 div.sk-item {position: relative;z-index: 1;}#sk-container-id-1 div.sk-parallel {display: flex;align-items: stretch;justify-content: center;background-color: white;position: relative;}#sk-container-id-1 div.sk-item::before, #sk-container-id-1 div.sk-parallel-item::before {content: \"\";position: absolute;border-left: 1px solid gray;box-sizing: border-box;top: 0;bottom: 0;left: 50%;z-index: -1;}#sk-container-id-1 div.sk-parallel-item {display: flex;flex-direction: column;z-index: 1;position: relative;background-color: white;}#sk-container-id-1 div.sk-parallel-item:first-child::after {align-self: flex-end;width: 50%;}#sk-container-id-1 div.sk-parallel-item:last-child::after {align-self: flex-start;width: 50%;}#sk-container-id-1 div.sk-parallel-item:only-child::after {width: 0;}#sk-container-id-1 div.sk-dashed-wrapped {border: 1px dashed gray;margin: 0 0.4em 0.5em 0.4em;box-sizing: border-box;padding-bottom: 0.4em;background-color: white;}#sk-container-id-1 div.sk-label label {font-family: monospace;font-weight: bold;display: inline-block;line-height: 1.2em;}#sk-container-id-1 div.sk-label-container {text-align: center;}#sk-container-id-1 div.sk-container {/* jupyter's `normalize.less` sets `[hidden] { display: none; }` but bootstrap.min.css set `[hidden] { display: none !important; }` so we also need the `!important` here to be able to override the default hidden behavior on the sphinx rendered scikit-learn.org. See: https://github.com/scikit-learn/scikit-learn/issues/21755 */display: inline-block !important;position: relative;}#sk-container-id-1 div.sk-text-repr-fallback {display: none;}</style><div id=\"sk-container-id-1\" class=\"sk-top-container\"><div class=\"sk-text-repr-fallback\"><pre>OneHotEncoder(sparse=False, sparse_output=False)</pre><b>In a Jupyter environment, please rerun this cell to show the HTML representation or trust the notebook. <br />On GitHub, the HTML representation is unable to render, please try loading this page with nbviewer.org.</b></div><div class=\"sk-container\" hidden><div class=\"sk-item\"><div class=\"sk-estimator sk-toggleable\"><input class=\"sk-toggleable__control sk-hidden--visually\" id=\"sk-estimator-id-1\" type=\"checkbox\" checked><label for=\"sk-estimator-id-1\" class=\"sk-toggleable__label sk-toggleable__label-arrow\">OneHotEncoder</label><div class=\"sk-toggleable__content\"><pre>OneHotEncoder(sparse=False, sparse_output=False)</pre></div></div></div></div></div>"
      ],
      "text/plain": [
       "OneHotEncoder(sparse=False, sparse_output=False)"
      ]
     },
     "execution_count": 54,
     "metadata": {},
     "output_type": "execute_result"
    }
   ],
   "source": [
    "encoder.fit(exp_df[['Country']])\n"
   ]
  },
  {
   "cell_type": "code",
   "execution_count": 55,
   "metadata": {},
   "outputs": [],
   "source": [
    "encoded_data = encoder.transform(exp_df[['Country']])\n"
   ]
  },
  {
   "cell_type": "code",
   "execution_count": 56,
   "metadata": {},
   "outputs": [],
   "source": [
    "encoded_df = pd.DataFrame(encoded_data, columns=encoder.get_feature_names_out(['Country']))\n"
   ]
  },
  {
   "cell_type": "code",
   "execution_count": 57,
   "metadata": {},
   "outputs": [],
   "source": [
    "data = pd.concat([exp_df, encoded_df], axis=1)"
   ]
  },
  {
   "cell_type": "code",
   "execution_count": 58,
   "metadata": {},
   "outputs": [],
   "source": [
    "data=data.drop(['Country'],axis=1)"
   ]
  },
  {
   "cell_type": "code",
   "execution_count": 59,
   "metadata": {},
   "outputs": [
    {
     "data": {
      "text/plain": [
       "StockCode                        object\n",
       "Description                      object\n",
       "Quantity                        float64\n",
       "UnitPrice                       float64\n",
       "CustomerID                      float64\n",
       "Month                           float64\n",
       "Country_Australia               float64\n",
       "Country_Austria                 float64\n",
       "Country_Bahrain                 float64\n",
       "Country_Belgium                 float64\n",
       "Country_Brazil                  float64\n",
       "Country_Canada                  float64\n",
       "Country_Channel Islands         float64\n",
       "Country_Cyprus                  float64\n",
       "Country_Czech Republic          float64\n",
       "Country_Denmark                 float64\n",
       "Country_EIRE                    float64\n",
       "Country_European Community      float64\n",
       "Country_Finland                 float64\n",
       "Country_France                  float64\n",
       "Country_Germany                 float64\n",
       "Country_Greece                  float64\n",
       "Country_Iceland                 float64\n",
       "Country_Israel                  float64\n",
       "Country_Italy                   float64\n",
       "Country_Japan                   float64\n",
       "Country_Lebanon                 float64\n",
       "Country_Lithuania               float64\n",
       "Country_Malta                   float64\n",
       "Country_Netherlands             float64\n",
       "Country_Norway                  float64\n",
       "Country_Poland                  float64\n",
       "Country_Portugal                float64\n",
       "Country_RSA                     float64\n",
       "Country_Saudi Arabia            float64\n",
       "Country_Singapore               float64\n",
       "Country_Spain                   float64\n",
       "Country_Sweden                  float64\n",
       "Country_Switzerland             float64\n",
       "Country_USA                     float64\n",
       "Country_United Arab Emirates    float64\n",
       "Country_United Kingdom          float64\n",
       "Country_Unspecified             float64\n",
       "dtype: object"
      ]
     },
     "execution_count": 59,
     "metadata": {},
     "output_type": "execute_result"
    }
   ],
   "source": [
    "data.dtypes"
   ]
  },
  {
   "cell_type": "code",
   "execution_count": 60,
   "metadata": {},
   "outputs": [],
   "source": [
    "def hash_encode(column):\n",
    "    # Apply a hash function to each unique value in the column\n",
    "    unique_values = column.unique()\n",
    "    encoding_dict = {value: hash(value) for value in unique_values}\n",
    "    \n",
    "    # Map the hash values to the column\n",
    "    encoded_column = column.map(encoding_dict)\n",
    "    \n",
    "    return encoded_column\n"
   ]
  },
  {
   "cell_type": "code",
   "execution_count": 61,
   "metadata": {},
   "outputs": [],
   "source": [
    "data['StockCode_encoded'] = hash_encode(data['StockCode'])\n",
    "data['Description_encoded'] = hash_encode(data['Description'])\n"
   ]
  },
  {
   "cell_type": "code",
   "execution_count": 74,
   "metadata": {},
   "outputs": [
    {
     "name": "stdout",
     "output_type": "stream",
     "text": [
      "DataFrame with NaN values removed:\n",
      "       StockCode                          Description  Quantity  UnitPrice  \\\n",
      "0         85123A   WHITE HANGING HEART T-LIGHT HOLDER       6.0       2.55   \n",
      "1          71053                  WHITE METAL LANTERN       6.0       3.39   \n",
      "2         84406B       CREAM CUPID HEARTS COAT HANGER       8.0       2.75   \n",
      "3         84029G  KNITTED UNION FLAG HOT WATER BOTTLE       6.0       3.39   \n",
      "4         84029E       RED WOOLLY HOTTIE WHITE HEART.       6.0       3.39   \n",
      "...          ...                                  ...       ...        ...   \n",
      "401559     22423             REGENCY CAKESTAND 3 TIER       2.0      24.96   \n",
      "401560     22425                ENAMEL COLANDER CREAM       1.0       9.96   \n",
      "401561     22439                   6 ROCKET BALLOONS        2.0       1.25   \n",
      "401562     22446            PIN CUSHION BABUSHKA PINK       1.0       2.46   \n",
      "401563     22457      NATURAL SLATE HEART CHALKBOARD        2.0       5.79   \n",
      "\n",
      "        CustomerID  Month  Country_Australia  Country_Austria  \\\n",
      "0          17850.0   12.0                0.0              0.0   \n",
      "1          17850.0   12.0                0.0              0.0   \n",
      "2          17850.0   12.0                0.0              0.0   \n",
      "3          17850.0   12.0                0.0              0.0   \n",
      "4          17850.0   12.0                0.0              0.0   \n",
      "...            ...    ...                ...              ...   \n",
      "401559     14096.0   10.0                0.0              0.0   \n",
      "401560     14096.0   10.0                0.0              0.0   \n",
      "401561     14096.0   10.0                0.0              0.0   \n",
      "401562     14096.0   10.0                0.0              0.0   \n",
      "401563     14096.0   10.0                0.0              0.0   \n",
      "\n",
      "        Country_Bahrain  Country_Belgium  ...  Country_Singapore  \\\n",
      "0                   0.0              0.0  ...                0.0   \n",
      "1                   0.0              0.0  ...                0.0   \n",
      "2                   0.0              0.0  ...                0.0   \n",
      "3                   0.0              0.0  ...                0.0   \n",
      "4                   0.0              0.0  ...                0.0   \n",
      "...                 ...              ...  ...                ...   \n",
      "401559              0.0              0.0  ...                0.0   \n",
      "401560              0.0              0.0  ...                0.0   \n",
      "401561              0.0              0.0  ...                0.0   \n",
      "401562              0.0              0.0  ...                0.0   \n",
      "401563              0.0              0.0  ...                0.0   \n",
      "\n",
      "        Country_Spain  Country_Sweden  Country_Switzerland  Country_USA  \\\n",
      "0                 0.0             0.0                  0.0          0.0   \n",
      "1                 0.0             0.0                  0.0          0.0   \n",
      "2                 0.0             0.0                  0.0          0.0   \n",
      "3                 0.0             0.0                  0.0          0.0   \n",
      "4                 0.0             0.0                  0.0          0.0   \n",
      "...               ...             ...                  ...          ...   \n",
      "401559            0.0             0.0                  0.0          0.0   \n",
      "401560            0.0             0.0                  0.0          0.0   \n",
      "401561            0.0             0.0                  0.0          0.0   \n",
      "401562            0.0             0.0                  0.0          0.0   \n",
      "401563            0.0             0.0                  0.0          0.0   \n",
      "\n",
      "        Country_United Arab Emirates  Country_United Kingdom  \\\n",
      "0                                0.0                     1.0   \n",
      "1                                0.0                     1.0   \n",
      "2                                0.0                     1.0   \n",
      "3                                0.0                     1.0   \n",
      "4                                0.0                     1.0   \n",
      "...                              ...                     ...   \n",
      "401559                           0.0                     0.0   \n",
      "401560                           0.0                     0.0   \n",
      "401561                           0.0                     0.0   \n",
      "401562                           0.0                     0.0   \n",
      "401563                           0.0                     0.0   \n",
      "\n",
      "        Country_Unspecified  StockCode_encoded  Description_encoded  \n",
      "0                       0.0           46293551             80625573  \n",
      "1                       0.0              71053              8276604  \n",
      "2                       0.0            2251132             41294937  \n",
      "3                       0.0            9788407             32203801  \n",
      "4                       0.0           96090303             28619145  \n",
      "...                     ...                ...                  ...  \n",
      "401559                  0.0              22423             80545035  \n",
      "401560                  0.0              22425             10906343  \n",
      "401561                  0.0              22439              8286665  \n",
      "401562                  0.0              22446             86771744  \n",
      "401563                  0.0              22457             83738552  \n",
      "\n",
      "[295569 rows x 45 columns]\n"
     ]
    }
   ],
   "source": [
    "import pandas as pd\n",
    "\n",
    "online_retail = data.dropna()\n",
    "\n",
    "print(\"DataFrame with NaN values removed:\")\n",
    "print(online_retail)\n"
   ]
  },
  {
   "cell_type": "code",
   "execution_count": 76,
   "metadata": {},
   "outputs": [
    {
     "name": "stdout",
     "output_type": "stream",
     "text": [
      "NaN value summary by column:\n",
      "StockCode                       0\n",
      "Description                     0\n",
      "Quantity                        0\n",
      "UnitPrice                       0\n",
      "CustomerID                      0\n",
      "Month                           0\n",
      "Country_Australia               0\n",
      "Country_Austria                 0\n",
      "Country_Bahrain                 0\n",
      "Country_Belgium                 0\n",
      "Country_Brazil                  0\n",
      "Country_Canada                  0\n",
      "Country_Channel Islands         0\n",
      "Country_Cyprus                  0\n",
      "Country_Czech Republic          0\n",
      "Country_Denmark                 0\n",
      "Country_EIRE                    0\n",
      "Country_European Community      0\n",
      "Country_Finland                 0\n",
      "Country_France                  0\n",
      "Country_Germany                 0\n",
      "Country_Greece                  0\n",
      "Country_Iceland                 0\n",
      "Country_Israel                  0\n",
      "Country_Italy                   0\n",
      "Country_Japan                   0\n",
      "Country_Lebanon                 0\n",
      "Country_Lithuania               0\n",
      "Country_Malta                   0\n",
      "Country_Netherlands             0\n",
      "Country_Norway                  0\n",
      "Country_Poland                  0\n",
      "Country_Portugal                0\n",
      "Country_RSA                     0\n",
      "Country_Saudi Arabia            0\n",
      "Country_Singapore               0\n",
      "Country_Spain                   0\n",
      "Country_Sweden                  0\n",
      "Country_Switzerland             0\n",
      "Country_USA                     0\n",
      "Country_United Arab Emirates    0\n",
      "Country_United Kingdom          0\n",
      "Country_Unspecified             0\n",
      "StockCode_encoded               0\n",
      "Description_encoded             0\n",
      "dtype: int64\n"
     ]
    }
   ],
   "source": [
    "\n",
    "nan_summary = online_retail.isna().sum() \n",
    "\n",
    "print(\"NaN value summary by column:\")\n",
    "print(nan_summary)\n"
   ]
  },
  {
   "cell_type": "code",
   "execution_count": 77,
   "metadata": {},
   "outputs": [
    {
     "data": {
      "text/plain": [
       "StockCode                        object\n",
       "Description                      object\n",
       "Quantity                        float64\n",
       "UnitPrice                       float64\n",
       "CustomerID                      float64\n",
       "Month                           float64\n",
       "Country_Australia               float64\n",
       "Country_Austria                 float64\n",
       "Country_Bahrain                 float64\n",
       "Country_Belgium                 float64\n",
       "Country_Brazil                  float64\n",
       "Country_Canada                  float64\n",
       "Country_Channel Islands         float64\n",
       "Country_Cyprus                  float64\n",
       "Country_Czech Republic          float64\n",
       "Country_Denmark                 float64\n",
       "Country_EIRE                    float64\n",
       "Country_European Community      float64\n",
       "Country_Finland                 float64\n",
       "Country_France                  float64\n",
       "Country_Germany                 float64\n",
       "Country_Greece                  float64\n",
       "Country_Iceland                 float64\n",
       "Country_Israel                  float64\n",
       "Country_Italy                   float64\n",
       "Country_Japan                   float64\n",
       "Country_Lebanon                 float64\n",
       "Country_Lithuania               float64\n",
       "Country_Malta                   float64\n",
       "Country_Netherlands             float64\n",
       "Country_Norway                  float64\n",
       "Country_Poland                  float64\n",
       "Country_Portugal                float64\n",
       "Country_RSA                     float64\n",
       "Country_Saudi Arabia            float64\n",
       "Country_Singapore               float64\n",
       "Country_Spain                   float64\n",
       "Country_Sweden                  float64\n",
       "Country_Switzerland             float64\n",
       "Country_USA                     float64\n",
       "Country_United Arab Emirates    float64\n",
       "Country_United Kingdom          float64\n",
       "Country_Unspecified             float64\n",
       "StockCode_encoded                 int64\n",
       "Description_encoded               int64\n",
       "dtype: object"
      ]
     },
     "execution_count": 77,
     "metadata": {},
     "output_type": "execute_result"
    }
   ],
   "source": [
    "online_retail.dtypes"
   ]
  },
  {
   "cell_type": "code",
   "execution_count": 78,
   "metadata": {},
   "outputs": [
    {
     "data": {
      "text/plain": [
       "Index(['StockCode', 'Description', 'Quantity', 'UnitPrice', 'CustomerID',\n",
       "       'Month', 'Country_Australia', 'Country_Austria', 'Country_Bahrain',\n",
       "       'Country_Belgium', 'Country_Brazil', 'Country_Canada',\n",
       "       'Country_Channel Islands', 'Country_Cyprus', 'Country_Czech Republic',\n",
       "       'Country_Denmark', 'Country_EIRE', 'Country_European Community',\n",
       "       'Country_Finland', 'Country_France', 'Country_Germany',\n",
       "       'Country_Greece', 'Country_Iceland', 'Country_Israel', 'Country_Italy',\n",
       "       'Country_Japan', 'Country_Lebanon', 'Country_Lithuania',\n",
       "       'Country_Malta', 'Country_Netherlands', 'Country_Norway',\n",
       "       'Country_Poland', 'Country_Portugal', 'Country_RSA',\n",
       "       'Country_Saudi Arabia', 'Country_Singapore', 'Country_Spain',\n",
       "       'Country_Sweden', 'Country_Switzerland', 'Country_USA',\n",
       "       'Country_United Arab Emirates', 'Country_United Kingdom',\n",
       "       'Country_Unspecified', 'StockCode_encoded', 'Description_encoded'],\n",
       "      dtype='object')"
      ]
     },
     "execution_count": 78,
     "metadata": {},
     "output_type": "execute_result"
    }
   ],
   "source": [
    "online_retail.columns"
   ]
  },
  {
   "cell_type": "code",
   "execution_count": 89,
   "metadata": {},
   "outputs": [
    {
     "name": "stdout",
     "output_type": "stream",
     "text": [
      "DataFrame with columns dropped:\n",
      "        Quantity  UnitPrice  CustomerID  Month  Country_Australia  \\\n",
      "0            6.0       2.55     17850.0   12.0                0.0   \n",
      "1            6.0       3.39     17850.0   12.0                0.0   \n",
      "2            8.0       2.75     17850.0   12.0                0.0   \n",
      "3            6.0       3.39     17850.0   12.0                0.0   \n",
      "4            6.0       3.39     17850.0   12.0                0.0   \n",
      "...          ...        ...         ...    ...                ...   \n",
      "401559       2.0      24.96     14096.0   10.0                0.0   \n",
      "401560       1.0       9.96     14096.0   10.0                0.0   \n",
      "401561       2.0       1.25     14096.0   10.0                0.0   \n",
      "401562       1.0       2.46     14096.0   10.0                0.0   \n",
      "401563       2.0       5.79     14096.0   10.0                0.0   \n",
      "\n",
      "        Country_Austria  Country_Bahrain  Country_Belgium  Country_Brazil  \\\n",
      "0                   0.0              0.0              0.0             0.0   \n",
      "1                   0.0              0.0              0.0             0.0   \n",
      "2                   0.0              0.0              0.0             0.0   \n",
      "3                   0.0              0.0              0.0             0.0   \n",
      "4                   0.0              0.0              0.0             0.0   \n",
      "...                 ...              ...              ...             ...   \n",
      "401559              0.0              0.0              0.0             0.0   \n",
      "401560              0.0              0.0              0.0             0.0   \n",
      "401561              0.0              0.0              0.0             0.0   \n",
      "401562              0.0              0.0              0.0             0.0   \n",
      "401563              0.0              0.0              0.0             0.0   \n",
      "\n",
      "        Country_Canada  ...  Country_Saudi Arabia  Country_Singapore  \\\n",
      "0                  0.0  ...                   0.0                0.0   \n",
      "1                  0.0  ...                   0.0                0.0   \n",
      "2                  0.0  ...                   0.0                0.0   \n",
      "3                  0.0  ...                   0.0                0.0   \n",
      "4                  0.0  ...                   0.0                0.0   \n",
      "...                ...  ...                   ...                ...   \n",
      "401559             0.0  ...                   0.0                0.0   \n",
      "401560             0.0  ...                   0.0                0.0   \n",
      "401561             0.0  ...                   0.0                0.0   \n",
      "401562             0.0  ...                   0.0                0.0   \n",
      "401563             0.0  ...                   0.0                0.0   \n",
      "\n",
      "        Country_Spain  Country_Sweden  Country_Switzerland  Country_USA  \\\n",
      "0                 0.0             0.0                  0.0          0.0   \n",
      "1                 0.0             0.0                  0.0          0.0   \n",
      "2                 0.0             0.0                  0.0          0.0   \n",
      "3                 0.0             0.0                  0.0          0.0   \n",
      "4                 0.0             0.0                  0.0          0.0   \n",
      "...               ...             ...                  ...          ...   \n",
      "401559            0.0             0.0                  0.0          0.0   \n",
      "401560            0.0             0.0                  0.0          0.0   \n",
      "401561            0.0             0.0                  0.0          0.0   \n",
      "401562            0.0             0.0                  0.0          0.0   \n",
      "401563            0.0             0.0                  0.0          0.0   \n",
      "\n",
      "        Country_United Arab Emirates  Country_United Kingdom  \\\n",
      "0                                0.0                     1.0   \n",
      "1                                0.0                     1.0   \n",
      "2                                0.0                     1.0   \n",
      "3                                0.0                     1.0   \n",
      "4                                0.0                     1.0   \n",
      "...                              ...                     ...   \n",
      "401559                           0.0                     0.0   \n",
      "401560                           0.0                     0.0   \n",
      "401561                           0.0                     0.0   \n",
      "401562                           0.0                     0.0   \n",
      "401563                           0.0                     0.0   \n",
      "\n",
      "        StockCode_encoded  Description_encoded  \n",
      "0                46293551             80625573  \n",
      "1                   71053              8276604  \n",
      "2                 2251132             41294937  \n",
      "3                 9788407             32203801  \n",
      "4                96090303             28619145  \n",
      "...                   ...                  ...  \n",
      "401559              22423             80545035  \n",
      "401560              22425             10906343  \n",
      "401561              22439              8286665  \n",
      "401562              22446             86771744  \n",
      "401563              22457             83738552  \n",
      "\n",
      "[295569 rows x 42 columns]\n"
     ]
    }
   ],
   "source": [
    "import pandas as pd\n",
    "\n",
    "\n",
    "columns_to_drop = ['StockCode', 'Description','Country_Unspecified']  # Specify the columns to drop\n",
    "retail_df = online_retail.drop(columns=columns_to_drop, axis=1)\n",
    "\n",
    "print(\"DataFrame with columns dropped:\")\n",
    "print(retail_df)\n"
   ]
  },
  {
   "cell_type": "code",
   "execution_count": 92,
   "metadata": {},
   "outputs": [
    {
     "name": "stdout",
     "output_type": "stream",
     "text": [
      "<class 'pandas.core.frame.DataFrame'>\n",
      "Index: 295569 entries, 0 to 401563\n",
      "Data columns (total 42 columns):\n",
      " #   Column                        Non-Null Count   Dtype  \n",
      "---  ------                        --------------   -----  \n",
      " 0   Quantity                      295569 non-null  float64\n",
      " 1   UnitPrice                     295569 non-null  float64\n",
      " 2   CustomerID                    295569 non-null  float64\n",
      " 3   Month                         295569 non-null  float64\n",
      " 4   Country_Australia             295569 non-null  float64\n",
      " 5   Country_Austria               295569 non-null  float64\n",
      " 6   Country_Bahrain               295569 non-null  float64\n",
      " 7   Country_Belgium               295569 non-null  float64\n",
      " 8   Country_Brazil                295569 non-null  float64\n",
      " 9   Country_Canada                295569 non-null  float64\n",
      " 10  Country_Channel Islands       295569 non-null  float64\n",
      " 11  Country_Cyprus                295569 non-null  float64\n",
      " 12  Country_Czech Republic        295569 non-null  float64\n",
      " 13  Country_Denmark               295569 non-null  float64\n",
      " 14  Country_EIRE                  295569 non-null  float64\n",
      " 15  Country_European Community    295569 non-null  float64\n",
      " 16  Country_Finland               295569 non-null  float64\n",
      " 17  Country_France                295569 non-null  float64\n",
      " 18  Country_Germany               295569 non-null  float64\n",
      " 19  Country_Greece                295569 non-null  float64\n",
      " 20  Country_Iceland               295569 non-null  float64\n",
      " 21  Country_Israel                295569 non-null  float64\n",
      " 22  Country_Italy                 295569 non-null  float64\n",
      " 23  Country_Japan                 295569 non-null  float64\n",
      " 24  Country_Lebanon               295569 non-null  float64\n",
      " 25  Country_Lithuania             295569 non-null  float64\n",
      " 26  Country_Malta                 295569 non-null  float64\n",
      " 27  Country_Netherlands           295569 non-null  float64\n",
      " 28  Country_Norway                295569 non-null  float64\n",
      " 29  Country_Poland                295569 non-null  float64\n",
      " 30  Country_Portugal              295569 non-null  float64\n",
      " 31  Country_RSA                   295569 non-null  float64\n",
      " 32  Country_Saudi Arabia          295569 non-null  float64\n",
      " 33  Country_Singapore             295569 non-null  float64\n",
      " 34  Country_Spain                 295569 non-null  float64\n",
      " 35  Country_Sweden                295569 non-null  float64\n",
      " 36  Country_Switzerland           295569 non-null  float64\n",
      " 37  Country_USA                   295569 non-null  float64\n",
      " 38  Country_United Arab Emirates  295569 non-null  float64\n",
      " 39  Country_United Kingdom        295569 non-null  float64\n",
      " 40  StockCode_encoded             295569 non-null  int64  \n",
      " 41  Description_encoded           295569 non-null  int64  \n",
      "dtypes: float64(40), int64(2)\n",
      "memory usage: 97.0 MB\n",
      "None\n"
     ]
    }
   ],
   "source": [
    "print(retail_df.info())"
   ]
  },
  {
   "cell_type": "code",
   "execution_count": null,
   "metadata": {},
   "outputs": [],
   "source": []
  }
 ],
 "metadata": {
  "kernelspec": {
   "display_name": "Python 3 (ipykernel)",
   "language": "python",
   "name": "python3"
  },
  "language_info": {
   "codemirror_mode": {
    "name": "ipython",
    "version": 3
   },
   "file_extension": ".py",
   "mimetype": "text/x-python",
   "name": "python",
   "nbconvert_exporter": "python",
   "pygments_lexer": "ipython3",
   "version": "3.8.18"
  }
 },
 "nbformat": 4,
 "nbformat_minor": 2
}
